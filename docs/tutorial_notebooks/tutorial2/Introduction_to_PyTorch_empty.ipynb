{
  "cells": [
    {
      "cell_type": "markdown",
      "metadata": {
        "id": "zetLQPXi3e0n"
      },
      "source": [
        "# Tutorial 2: Introduction to PyTorch\n",
        "\n",
        "![Status](https://img.shields.io/static/v1.svg?label=Status&message=Finished&color=green)\n",
        "\n",
        "**Filled notebook:**\n",
        "[![View on Github](https://img.shields.io/static/v1.svg?logo=github&label=Repo&message=View%20On%20Github&color=lightgrey)](https://github.com/phlippe/uvadlc_notebooks/blob/master/docs/tutorial_notebooks/tutorial2/Introduction_to_PyTorch.ipynb)\n",
        "[![Open In Collab](https://colab.research.google.com/assets/colab-badge.svg)](https://colab.research.google.com/github/phlippe/uvadlc_notebooks/blob/master/docs/tutorial_notebooks/tutorial2/Introduction_to_PyTorch.ipynb)  \n",
        "**Empty notebook:**\n",
        "[![View on Github](https://img.shields.io/static/v1.svg?logo=github&label=Repo&message=View%20On%20Github&color=lightgrey)](https://github.com/phlippe/uvadlc_notebooks/blob/master/docs/tutorial_notebooks/tutorial2/Introduction_to_PyTorch_empty.ipynb)\n",
        "[![Open In Collab](https://colab.research.google.com/assets/colab-badge.svg)](https://colab.research.google.com/github/phlippe/uvadlc_notebooks/blob/master/docs/tutorial_notebooks/tutorial2/Introduction_to_PyTorch_empty.ipynb)\n",
        "\n",
        "*This is an empty version of the notebook. Try to fill in the blanks indicated by `## TODO` comments and `...` parts in the code*"
      ]
    },
    {
      "cell_type": "markdown",
      "metadata": {
        "id": "gPL3qeKD3e0u"
      },
      "source": [
        "Welcome to our PyTorch tutorial for the Deep Learning course 2020 at the University of Amsterdam! The following notebook is meant to give a short introduction to PyTorch basics, and get you setup for writing your own neural networks. PyTorch is an open source machine learning framework that allows you to write your own neural networks and optimize them efficiently. However, PyTorch is not the only framework of its kind. Alternatives to PyTorch include [TensorFlow](https://www.tensorflow.org/), [JAX](https://github.com/google/jax#quickstart-colab-in-the-cloud) and [Caffe](http://caffe.berkeleyvision.org/). We choose to teach PyTorch at the University of Amsterdam because it is well established, has a huge developer community (originally developed by Facebook), is very flexible and especially used in research. Many current papers publish their code in PyTorch, and thus it is good to be familiar with PyTorch as well.\n",
        "Meanwhile, TensorFlow (developed by Google) is usually known for being a production-grade deep learning library. Still, if you know one machine learning framework in depth, it is very easy to learn another one because many of them use the same concepts and ideas. For instance, TensorFlow's version 2 was heavily inspired by the most popular features of PyTorch, making the frameworks even more similar.\n",
        "If you are already familiar with PyTorch and have created your own neural network projects, feel free to just skim this notebook.\n",
        "\n",
        "We are of course not the first ones to create a PyTorch tutorial. There are many great tutorials online, including the [\"60-min blitz\"](https://pytorch.org/tutorials/beginner/deep_learning_60min_blitz.html) on the official [PyTorch website](https://pytorch.org/tutorials/). Yet, we choose to create our own tutorial which is designed to give you the basics particularly necessary for the practicals, but still understand how PyTorch works under the hood. Over the next few weeks, we will also keep exploring new PyTorch features in the series of Jupyter notebook tutorials about deep learning.\n",
        "\n",
        "We will use a set of standard libraries that are often used in machine learning projects. If you are running this notebook on Google Colab, all libraries should be pre-installed. If you are running this notebook locally, make sure you have installed our `dl2020` environment and have activated it."
      ]
    },
    {
      "cell_type": "code",
      "execution_count": 9,
      "metadata": {
        "id": "MFctKOFF3e0w",
        "outputId": "5eb83b66-5f7a-4386-ac79-4c2a0c220894",
        "colab": {
          "base_uri": "https://localhost:8080/"
        }
      },
      "outputs": [
        {
          "output_type": "stream",
          "name": "stderr",
          "text": [
            "<ipython-input-9-ef889392170e>:11: DeprecationWarning: `set_matplotlib_formats` is deprecated since IPython 7.23, directly use `matplotlib_inline.backend_inline.set_matplotlib_formats()`\n",
            "  set_matplotlib_formats('svg', 'pdf') # For export\n"
          ]
        }
      ],
      "source": [
        "## Standard libraries\n",
        "import os\n",
        "import math\n",
        "import numpy as np\n",
        "import time\n",
        "\n",
        "## Imports for plotting\n",
        "import matplotlib.pyplot as plt\n",
        "%matplotlib inline\n",
        "from IPython.display import set_matplotlib_formats\n",
        "set_matplotlib_formats('svg', 'pdf') # For export\n",
        "from matplotlib.colors import to_rgba\n",
        "import seaborn as sns\n",
        "sns.set()\n",
        "\n",
        "## Progress bar\n",
        "from tqdm.notebook import tqdm"
      ]
    },
    {
      "cell_type": "markdown",
      "metadata": {
        "id": "N5XcVJv53e00"
      },
      "source": [
        "## The Basics of PyTorch\n",
        "\n",
        "We will start with reviewing the very basic concepts of PyTorch. As a prerequisite, we recommend to be familiar with the `numpy` package as most machine learning frameworks are based on very similar concepts. If you are not familiar with numpy yet, don't worry: here is a [tutorial](https://numpy.org/devdocs/user/quickstart.html) to go through.\n",
        "\n",
        "So, let's start with importing PyTorch. The package is called `torch`, based on its original framework [Torch](http://torch.ch/). As a first step, we can check its version:"
      ]
    },
    {
      "cell_type": "code",
      "execution_count": 2,
      "metadata": {
        "id": "IyC0Knlw3e00",
        "outputId": "e6e1c01f-074f-4125-c606-bdb6761cedc7",
        "colab": {
          "base_uri": "https://localhost:8080/"
        }
      },
      "outputs": [
        {
          "output_type": "stream",
          "name": "stdout",
          "text": [
            "Using torch 2.1.0+cu118\n"
          ]
        }
      ],
      "source": [
        "import torch\n",
        "print(\"Using torch\", torch.__version__)"
      ]
    },
    {
      "cell_type": "markdown",
      "metadata": {
        "id": "uksXDM9-3e01"
      },
      "source": [
        "At the time of writing this tutorial (mid of October 2020), the current stable version is 1.6. You should therefore see the output `Using torch 1.6.0`. If you see a lower version number, make sure you have installed the correct the environment, or ask one of your TAs. In case PyTorch 1.7 or newer will be published during the time of the course, don't worry. The interface between PyTorch versions doesn't change too much, and hence all code should also be runnable with newer versions.\n",
        "\n",
        "As in every machine learning framework, PyTorch provides functions that are stochastic like generating random numbers. However, a very good practice is to setup your code to be reproducible with the exact same random numbers. This is why we set a seed below."
      ]
    },
    {
      "cell_type": "code",
      "execution_count": 3,
      "metadata": {
        "id": "gBG3kZj23e01",
        "outputId": "3b4def12-2c3c-4216-cf46-7784f1d93e8f",
        "colab": {
          "base_uri": "https://localhost:8080/"
        }
      },
      "outputs": [
        {
          "output_type": "execute_result",
          "data": {
            "text/plain": [
              "<torch._C.Generator at 0x7fb0246452d0>"
            ]
          },
          "metadata": {},
          "execution_count": 3
        }
      ],
      "source": [
        "torch.manual_seed(42) # Setting the seed"
      ]
    },
    {
      "cell_type": "markdown",
      "metadata": {
        "id": "iT0uMX813e01"
      },
      "source": [
        "### Tensors\n",
        "\n",
        "Tensors are the PyTorch equivalent to Numpy arrays, with the addition to also have support for GPU acceleration (more on that later).\n",
        "The name \"tensor\" is a generalization of concepts you already know. For instance, a vector is a 1-D tensor, and a matrix a 2-D tensor. When working with neural networks, we will use tensors of various shapes and number of dimensions.\n",
        "\n",
        "Most common functions you know from numpy can be used on tensors as well. Actually, since numpy arrays are so similar to tensors, we can convert most tensors to numpy arrays (and back) but we don't need it too often.\n",
        "\n",
        "#### Initialization\n",
        "\n",
        "Let's first start by looking at different ways of creating a tensor. There are many possible options, the most simple one is to call `torch.Tensor` passing the desired shape as input argument:"
      ]
    },
    {
      "cell_type": "code",
      "execution_count": null,
      "metadata": {
        "id": "ALM5h8rY3e01",
        "outputId": "ff40df5e-5774-4c09-969c-6439cfa11b27"
      },
      "outputs": [
        {
          "name": "stdout",
          "output_type": "stream",
          "text": [
            "tensor([[[2.0645e-14, 9.7250e-43, 2.0645e-14, 9.7250e-43],\n",
            "         [2.0660e-14, 9.7250e-43, 2.0660e-14, 9.7250e-43],\n",
            "         [2.0664e-14, 9.7250e-43, 2.0664e-14, 9.7250e-43]],\n",
            "\n",
            "        [[2.0975e-14, 9.7250e-43, 2.0975e-14, 9.7250e-43],\n",
            "         [2.0993e-14, 9.7250e-43, 2.0993e-14, 9.7250e-43],\n",
            "         [2.0975e-14, 9.7250e-43, 2.0975e-14, 9.7250e-43]]])\n"
          ]
        }
      ],
      "source": [
        "x = torch.Tensor(2, 3, 4)\n",
        "print(x)"
      ]
    },
    {
      "cell_type": "markdown",
      "metadata": {
        "id": "5En747pk3e02"
      },
      "source": [
        "The function `torch.Tensor` allocates memory for the desired tensor, but reuses any values that have already been in the memory. To directly assign values to the tensor during initialization, there are many alternatives including:\n",
        "\n",
        "* `torch.zeros`: Creates a tensor filled with zeros\n",
        "* `torch.ones`: Creates a tensor filled with ones\n",
        "* `torch.rand`: Creates a tensor with random values uniformly sampled between 0 and 1\n",
        "* `torch.randn`: Creates a tensor with random values sampled from a normal distribution with mean 0 and variance 1\n",
        "* `torch.arange`: Creates a tensor containing the values $N,N+1,N+2,...,M$\n",
        "* `torch.Tensor` (input list): Creates a tensor from the list elements you provide\n",
        "* `torch.from_numpy`: Converts a numpy array into a PyTorch tensor"
      ]
    },
    {
      "cell_type": "code",
      "execution_count": null,
      "metadata": {
        "id": "KoWQCEyD3e02",
        "outputId": "949f4d7e-82f7-48be-e9bb-301f590cc21e"
      },
      "outputs": [
        {
          "name": "stdout",
          "output_type": "stream",
          "text": [
            "tensor([[1., 2.],\n",
            "        [3., 4.]])\n"
          ]
        }
      ],
      "source": [
        "## TODO: Create a tensor from the list [[1, 2], [3, 4]]\n",
        "x = torch.Tensor([[1,2],[3,4]])\n",
        "print(x)"
      ]
    },
    {
      "cell_type": "code",
      "execution_count": null,
      "metadata": {
        "id": "yaOUcVm53e03",
        "outputId": "505a3ed6-8305-4c1c-c422-6d9f44b165b8"
      },
      "outputs": [
        {
          "name": "stdout",
          "output_type": "stream",
          "text": [
            "tensor([[[2.0975e-14, 9.7250e-43, 2.0975e-14, 9.7250e-43],\n",
            "         [2.0993e-14, 9.7250e-43, 2.0993e-14, 9.7250e-43],\n",
            "         [2.0975e-14, 9.7250e-43, 2.0975e-14, 9.7250e-43]],\n",
            "\n",
            "        [[2.0976e-14, 9.7250e-43, 2.0976e-14, 9.7250e-43],\n",
            "         [2.1478e-14, 9.7250e-43, 2.1478e-14, 9.7250e-43],\n",
            "         [2.1482e-14, 9.7250e-43, 2.1482e-14, 9.7250e-43]]])\n"
          ]
        }
      ],
      "source": [
        "## TODO: Create a tensor with random values between 0 and 1 with the shape [2, 3, 4]\n",
        "x = torch.Tensor(2,3,4)\n",
        "print(x)"
      ]
    },
    {
      "cell_type": "markdown",
      "metadata": {
        "id": "kFa6Yetr3e03"
      },
      "source": [
        "You can obtain the shape of a tensor in the same way as in numpy (`x.shape`), or using the `.size` method:"
      ]
    },
    {
      "cell_type": "code",
      "execution_count": null,
      "metadata": {
        "id": "b5SqcorH3e04",
        "outputId": "3d9e33cb-25f5-4795-f022-4b1863a6be67"
      },
      "outputs": [
        {
          "name": "stdout",
          "output_type": "stream",
          "text": [
            "Shape: torch.Size([2, 3, 4])\n",
            "Size: torch.Size([2, 3, 4])\n",
            "Size: 2 3 4\n"
          ]
        }
      ],
      "source": [
        "shape = x.shape\n",
        "print(\"Shape:\", x.shape)\n",
        "\n",
        "size = x.size()\n",
        "print(\"Size:\", size)\n",
        "\n",
        "dim1, dim2, dim3 = x.size()\n",
        "print(\"Size:\", dim1, dim2, dim3)"
      ]
    },
    {
      "cell_type": "markdown",
      "metadata": {
        "id": "nhYcyU9K3e04"
      },
      "source": [
        "#### Operations\n",
        "\n",
        "Most operations that exist in numpy, also exist in PyTorch. A full list of operations can be found in the [PyTorch documentation](https://pytorch.org/docs/stable/tensors.html#), but we will review the most important ones here.\n",
        "\n",
        "The simplest operation is to add two tensors:"
      ]
    },
    {
      "cell_type": "code",
      "execution_count": null,
      "metadata": {
        "id": "1tiufU-o3e04",
        "outputId": "637972f5-1fa9-41be-8d8e-a4df50959fde"
      },
      "outputs": [
        {
          "name": "stdout",
          "output_type": "stream",
          "text": [
            "X1 tensor([[0.8694, 0.5677, 0.7411],\n",
            "        [0.4294, 0.8854, 0.5739]])\n",
            "X2 tensor([[0.2666, 0.6274, 0.2696],\n",
            "        [0.4414, 0.2969, 0.8317]])\n",
            "Y tensor([[1.1360, 1.1952, 1.0107],\n",
            "        [0.8708, 1.1824, 1.4056]])\n"
          ]
        }
      ],
      "source": [
        "x1 = torch.rand(2, 3)\n",
        "x2 = torch.rand(2, 3)\n",
        "\n",
        "## TODO: Sum up the tensors x1 and x2, and store the result in y\n",
        "y = x1 + x2\n",
        "\n",
        "print(\"X1\", x1)\n",
        "print(\"X2\", x2)\n",
        "print(\"Y\", y)"
      ]
    },
    {
      "cell_type": "markdown",
      "metadata": {
        "id": "WT22Wc4N3e04"
      },
      "source": [
        "Calling `x1 + x2` creates a new tensor containing the sum of the two inputs. However, we can also use in-place operations that are applied directly on the memory of a tensor. We therefore change the values of `x2` without the chance to re-accessing the values of `x2` before the operation. An example is shown below:"
      ]
    },
    {
      "cell_type": "code",
      "execution_count": null,
      "metadata": {
        "id": "uraGLwtV3e05",
        "outputId": "33a1a78f-be60-4563-e167-d3fd3574425e"
      },
      "outputs": [
        {
          "name": "stdout",
          "output_type": "stream",
          "text": [
            "X1 (before) tensor([[0.1053, 0.2695, 0.3588],\n",
            "        [0.1994, 0.5472, 0.0062]])\n",
            "X2 (before) tensor([[0.9516, 0.0753, 0.8860],\n",
            "        [0.5832, 0.3376, 0.8090]])\n",
            "X1 (after) tensor([[0.1053, 0.2695, 0.3588],\n",
            "        [0.1994, 0.5472, 0.0062]])\n",
            "X2 (after) tensor([[1.0569, 0.3448, 1.2448],\n",
            "        [0.7826, 0.8848, 0.8151]])\n"
          ]
        }
      ],
      "source": [
        "x1 = torch.rand(2, 3)\n",
        "x2 = torch.rand(2, 3)\n",
        "print(\"X1 (before)\", x1)\n",
        "print(\"X2 (before)\", x2)\n",
        "\n",
        "x2.add_(x1)\n",
        "print(\"X1 (after)\", x1)\n",
        "print(\"X2 (after)\", x2)"
      ]
    },
    {
      "cell_type": "markdown",
      "metadata": {
        "id": "4t1YIZco3e05"
      },
      "source": [
        "In-place operations are usually marked with a underscore postfix (e.g. \"add_\" instead of \"add\").\n",
        "\n",
        "Another common operation aims at changing the shape of a tensor. A tensor of size (2,3) can be re-organized to any other shape with the same number of elements (e.g. a tensor of size (6), or (3,2), ...). In PyTorch, this operation is called `view`:"
      ]
    },
    {
      "cell_type": "code",
      "execution_count": null,
      "metadata": {
        "id": "CyLRvf013e05",
        "outputId": "81356755-c66c-44fd-91a7-af8dcef744d6"
      },
      "outputs": [
        {
          "name": "stdout",
          "output_type": "stream",
          "text": [
            "X tensor([0, 1, 2, 3, 4, 5])\n"
          ]
        }
      ],
      "source": [
        "## TODO: Create a tensor with the input values [0, .., 5] (i.e. a range to 6)\n",
        "x = torch.arange(6)\n",
        "### did smth here\n",
        "print(x)\n",
        "print(\"X\", x)"
      ]
    },
    {
      "cell_type": "code",
      "execution_count": null,
      "metadata": {
        "id": "zfduXYa13e06",
        "outputId": "a32177b2-a278-41d8-99e0-95e2bdf4badc"
      },
      "outputs": [
        {
          "name": "stdout",
          "output_type": "stream",
          "text": [
            "X tensor([[0, 1, 2],\n",
            "        [3, 4, 5]])\n"
          ]
        }
      ],
      "source": [
        "x = x.view(2, 3)\n",
        "print(\"X\", x)"
      ]
    },
    {
      "cell_type": "code",
      "execution_count": null,
      "metadata": {
        "id": "3Uw8w_LC3e06",
        "outputId": "2929510c-026e-4934-d771-954e3bb21518"
      },
      "outputs": [
        {
          "name": "stdout",
          "output_type": "stream",
          "text": [
            "X tensor([[0, 3],\n",
            "        [1, 4],\n",
            "        [2, 5]])\n"
          ]
        }
      ],
      "source": [
        "x = x.permute(1, 0) # Swapping dimension 0 and 1\n",
        "print(\"X\", x)"
      ]
    },
    {
      "cell_type": "markdown",
      "metadata": {
        "id": "NDsUgMnS3e06"
      },
      "source": [
        "Other commonly used operations include matrix multiplications, which are essential for neural networks. Quite often, we have an input vector $\\mathbf{x}$, which is transformed using a learned weight matrix $\\mathbf{W}$. There are multiple ways and functions to perform matrix multiplication, some of which we list below:\n",
        "\n",
        "* `torch.matmul`: Performs the matrix product over two tensors, where the specific behavior depends on the dimensions. If both inputs are matrices (2-dimensional tensors), it performs the standard matrix product. For higher dimensional inputs, the function supports broadcasting (for details see the [documentation](https://pytorch.org/docs/stable/generated/torch.matmul.html?highlight=matmul#torch.matmul)). Can also be written as `a @ b`, similar to numpy.\n",
        "* `torch.mm`: Performs the matrix product over two matrices, but doesn't support broadcasting (see [documentation](https://pytorch.org/docs/stable/generated/torch.mm.html?highlight=torch%20mm#torch.mm))\n",
        "* `torch.bmm`: Performs the matrix product with a support batch dimension. If the first tensor $T$ is of shape ($b\\times n\\times m$), and the second tensor $R$ ($b\\times m\\times p$), the output $O$ is of shape ($b\\times n\\times p$), and has been calculated by performing $b$ matrix multiplications of the submatrices of $T$ and $R$: $O_i = T_i @ R_i$\n",
        "* `torch.einsum`: Performs matrix multiplications and more (i.e. sums of products) using the Einstein summation convention. Explanation of the Einstein sum can be found in assignment 1.\n",
        "\n",
        "Usually, we use `torch.matmul` or `torch.bmm`. We can try a matrix multiplication with `torch.matmul` below."
      ]
    },
    {
      "cell_type": "code",
      "execution_count": null,
      "metadata": {
        "id": "_6k8wq0O3e07"
      },
      "outputs": [],
      "source": [
        "x = torch.arange(6)\n",
        "x = x.view(2, 3)\n",
        "print(\"X\", x)"
      ]
    },
    {
      "cell_type": "code",
      "execution_count": null,
      "metadata": {
        "id": "9uNVQriz3e07"
      },
      "outputs": [],
      "source": [
        "W = torch.arange(9).view(3, 3) # We can also stack multiple operations in a single line\n",
        "print(\"W\", W)"
      ]
    },
    {
      "cell_type": "code",
      "execution_count": null,
      "metadata": {
        "id": "EpLrzMV_3e07"
      },
      "outputs": [],
      "source": [
        "## TODO: Perform a matrix multiplication between x and W\n",
        "h = ...\n",
        "print(\"h\", h)\n",
        "# Verify the result by calculating it by hand too!"
      ]
    },
    {
      "cell_type": "markdown",
      "metadata": {
        "id": "jQRBcEqN3e07"
      },
      "source": [
        "#### Indexing\n",
        "\n",
        "We often have the situation where we need to select a part of a tensor. Indexing works just like in numpy, so let's try it:"
      ]
    },
    {
      "cell_type": "code",
      "execution_count": null,
      "metadata": {
        "id": "2ihrB_2h3e07"
      },
      "outputs": [],
      "source": [
        "x = torch.arange(12).view(3, 4)\n",
        "print(\"X\", x)"
      ]
    },
    {
      "cell_type": "code",
      "execution_count": null,
      "metadata": {
        "id": "ByPf-qR23e08"
      },
      "outputs": [],
      "source": [
        "## TODO: Print the second column of the tensor x\n",
        "print(...)"
      ]
    },
    {
      "cell_type": "code",
      "execution_count": null,
      "metadata": {
        "id": "VNrBAUJQ3e08"
      },
      "outputs": [],
      "source": [
        "## TODO: Print the first row of the tensor x\n",
        "print(...)"
      ]
    },
    {
      "cell_type": "code",
      "execution_count": null,
      "metadata": {
        "id": "FrQ21dRG3e09"
      },
      "outputs": [],
      "source": [
        "## TODO: Print the elements of the tensor x that are both in first two rows and the last column\n",
        "print(...)"
      ]
    },
    {
      "cell_type": "code",
      "execution_count": null,
      "metadata": {
        "id": "2hThz_WJ3e0-"
      },
      "outputs": [],
      "source": [
        "## TODO: Print the middle two rows of tensor x\n",
        "print(...)"
      ]
    },
    {
      "cell_type": "markdown",
      "metadata": {
        "id": "L0CZ4Pio3e0-"
      },
      "source": [
        "### Dynamic Computation Graph and Backpropagation\n",
        "\n",
        "One of the main reasons for using PyTorch in Deep Learning projects is that we can automatically get **gradients/derivatives** of functions that we define. We will mainly use PyTorch for implementing neural networks, and they are just fancy functions. If we use weight matrices in our function that we want to learn, then those are called the **parameters** or simply the **weights**.\n",
        "\n",
        "If our neural network would output a single scalar value, we would talk about taking the **derivative**, but you will see that quite often we will have **multiple** output variables (\"values\"); in that case we talk about **gradients**. It's a more general term.\n",
        "\n",
        "Given an input $\\mathbf{x}$, we define our function by **manipulating** that input, usually by matrix-multiplications with weight matrices and additions with so-called bias vectors. As we manipulate our input, we are automatically creating a **computational graph**. This graph shows how to arrive at our output from our input.\n",
        "PyTorch is a **define-by-run** framework; this means that we can just do our manipulations, and PyTorch will keep track of that graph for us. Thus, we create a dynamic computation graph along the way.\n",
        "\n",
        "So, to recap: the only thing we have to do is to compute the **output**, and then we can ask PyTorch to automatically get the **gradients**.\n",
        "\n",
        "> **Note:  Why do we want gradients?** Consider that we have defined a function, a neural net, that is supposed to compute a certain output $y$ for an input vector $\\mathbf{x}$. We then define an **error measure** that tells us how wrong our network is; how bad it is in predicting output $y$ from input $\\mathbf{x}$. Based on this error measure, we can use the gradients to **update** the weights $\\mathbf{W}$ that were responsible for the output, so that the next time we present input $\\mathbf{x}$ to our network, the output will be closer to what we want.\n",
        "\n",
        "The first thing we have to do is to specify which tensors require gradients. By default, when we create a tensor, it does not require gradients."
      ]
    },
    {
      "cell_type": "code",
      "execution_count": null,
      "metadata": {
        "id": "FimadgU43e0_"
      },
      "outputs": [],
      "source": [
        "x = torch.ones((3,))\n",
        "print(x.requires_grad)"
      ]
    },
    {
      "cell_type": "markdown",
      "metadata": {
        "id": "3XX00Vjc3e1A"
      },
      "source": [
        "We can change this for an existing tensor using the function `requires_grad_()` (underscore indicating that this is a in-place operation). Alternatively, when creating a tensor, you can pass the argument `requires_grad=True` to most initializers we have seen above."
      ]
    },
    {
      "cell_type": "code",
      "execution_count": null,
      "metadata": {
        "id": "ZIaG60C73e1A"
      },
      "outputs": [],
      "source": [
        "x.requires_grad_(True)\n",
        "print(x.requires_grad)"
      ]
    },
    {
      "cell_type": "markdown",
      "metadata": {
        "id": "uxKE35xm3e1A"
      },
      "source": [
        "In order to get familiar with the concept of a computation graph, we will create one for the following function:\n",
        "\n",
        "$$y = \\frac{1}{|x|}\\sum_i \\left[(x_i + 2)^2 + 3\\right]$$\n",
        "\n",
        "You could imagine that $x$ are our parameters, and we want to optimize (either maximize or minimize) the output $y$. For this, we want to obtain the gradients $\\partial y / \\partial \\mathbf{x}$. For our example, we'll use $\\mathbf{x}=[0,1,2]$ as our input."
      ]
    },
    {
      "cell_type": "code",
      "execution_count": null,
      "metadata": {
        "id": "EhvqUxFY3e1A"
      },
      "outputs": [],
      "source": [
        "## TODO: Create a tensor with values [0.0, 1.0, 2.0] which is requires gradients\n",
        "# Note that only float tensors can have gradients\n",
        "x = ...\n",
        "print(\"X\", x)"
      ]
    },
    {
      "cell_type": "markdown",
      "metadata": {
        "id": "fGjx-Nlz3e1B"
      },
      "source": [
        "Now let's build the computation graph step by step. You can combine multiple operations in a single line, but we will separate them here to get a better understanding of how each operation is added to the computation graph."
      ]
    },
    {
      "cell_type": "code",
      "execution_count": null,
      "metadata": {
        "id": "UcuGe3t73e1I"
      },
      "outputs": [],
      "source": [
        "## TODO: Implement the function above in four steps, each representing one single operation (add -> a, square -> b, add -> c, mean -> y)\n",
        "a = ...\n",
        "b = ...\n",
        "c = ...\n",
        "y = ...\n",
        "print(\"Y\", y)"
      ]
    },
    {
      "cell_type": "markdown",
      "metadata": {
        "id": "cbdbNK1g3e1J"
      },
      "source": [
        "Using the statements above, we have created a computation graph that looks similar to the figure below:\n",
        "\n",
        "<center style=\"width: 100%\"><img src=\"https://github.com/dilshod-obidov/uvadlc_notebooks/blob/deep_learning_notebooks/docs/tutorial_notebooks/tutorial2/pytorch_computation_graph.svg?raw=1\" width=\"200px\"></center>\n",
        "\n",
        "We calculate $a$ based on the inputs $x$ and the constant $2$, $b$ is $a$ squared, and so on. The visualization is an abstraction of the dependencies between inputs and outputs of the operations we have applied.\n",
        "Each node of the computation graph has automatically defined a function for calculating the gradients with respect to its inputs, `grad_fn`. You can see this when we printed the output tensor $y$. This is why the computation graph is usually visualized in the reverse direction (arrows point from the result to the inputs). We can perform backpropagation on the computation graph by calling the function `backward()` on the last output, which effectively calculates the gradients for each tensor that has the property `requires_grad=True`:"
      ]
    },
    {
      "cell_type": "code",
      "execution_count": null,
      "metadata": {
        "id": "qkWKQKZN3e1J"
      },
      "outputs": [],
      "source": [
        "y.backward()"
      ]
    },
    {
      "cell_type": "markdown",
      "metadata": {
        "id": "nGj0jaUn3e1K"
      },
      "source": [
        "`x.grad` will now contain the gradient $\\partial y/ \\partial \\mathcal{x}$, and this gradient indicates how a change in $\\mathbf{x}$ will affect output $y$ given the current input $\\mathbf{x}=[0,1,2]$:"
      ]
    },
    {
      "cell_type": "code",
      "execution_count": null,
      "metadata": {
        "id": "epjyZLrF3e1L"
      },
      "outputs": [],
      "source": [
        "print(x.grad)"
      ]
    },
    {
      "cell_type": "markdown",
      "metadata": {
        "id": "P4VthnHa3e1L"
      },
      "source": [
        "We can also verify these gradients by hand. We will calculate the gradients using the chain rule, in the same way as PyTorch did it:\n",
        "\n",
        "$$\\frac{\\partial y}{\\partial x_i} = \\frac{\\partial y}{\\partial c_i}\\frac{\\partial c_i}{\\partial b_i}\\frac{\\partial b_i}{\\partial a_i}\\frac{\\partial a_i}{\\partial x_i}$$\n",
        "\n",
        "Note that we have simplified this equation to index notation, and by using the fact that all operation besides the mean do not combine the elements in the tensor. The partial derivatives are:\n",
        "\n",
        "$$\n",
        "\\frac{\\partial a_i}{\\partial x_i} = 1,\\hspace{1cm}\n",
        "\\frac{\\partial b_i}{\\partial a_i} = 2\\cdot a_i\\hspace{1cm}\n",
        "\\frac{\\partial c_i}{\\partial b_i} = 1\\hspace{1cm}\n",
        "\\frac{\\partial y}{\\partial c_i} = \\frac{1}{3}\n",
        "$$\n",
        "\n",
        "Hence, with the input being $\\mathbf{x}=[0,1,2]$, our gradients are $\\partial y/\\partial \\mathbf{x}=[4/3,2,8/3]$. The previous code cell should have printed the same result."
      ]
    },
    {
      "cell_type": "markdown",
      "metadata": {
        "id": "j1nn7W5H3e1M"
      },
      "source": [
        "### GPU support\n",
        "\n",
        "A crucial feature of PyTorch is the support of GPUs, short for Graphics Processing Unit. A GPU can perform many thousands of small operations in parallel, making it very well suitable for performing large matrix operations in neural networks. When comparing GPUs to CPUs, we can list the following main differences (credit: [Kevin Krewell, 2009](https://blogs.nvidia.com/blog/2009/12/16/whats-the-difference-between-a-cpu-and-a-gpu/))\n",
        "\n",
        "<center style=\"width: 100%\"><img src=\"https://github.com/dilshod-obidov/uvadlc_notebooks/blob/deep_learning_notebooks/docs/tutorial_notebooks/tutorial2/comparison_CPU_GPU.png?raw=1\" width=\"700px\"></center>\n",
        "\n",
        "CPUs and GPUs have both different advantages and disadvantages, which is why many computers contain both components and use them for different tasks. In case you are not familiar with GPUs, you can read up more details in this [NVIDIA blog post](https://blogs.nvidia.com/blog/2009/12/16/whats-the-difference-between-a-cpu-and-a-gpu/) or [here](https://www.intel.com/content/www/us/en/products/docs/processors/what-is-a-gpu.html).\n",
        "\n",
        "GPUs can accelerate the training of your network up to a factor of $100$ which is essential for large neural networks. PyTorch implements a lot of functionality for supporting GPUs (mostly those of NVIDIA due to the libraries [CUDA](https://developer.nvidia.com/cuda-zone) and [cuDNN](https://developer.nvidia.com/cudnn)). First, let's check whether you have a GPU available:"
      ]
    },
    {
      "cell_type": "code",
      "execution_count": 28,
      "metadata": {
        "id": "SYAOLqoo3e1M",
        "colab": {
          "base_uri": "https://localhost:8080/"
        },
        "outputId": "4dc1d056-fac7-43c1-da5e-289085b2a761"
      },
      "outputs": [
        {
          "output_type": "stream",
          "name": "stdout",
          "text": [
            "Is the GPU available? True\n"
          ]
        }
      ],
      "source": [
        "gpu_avail = torch.cuda.is_available()\n",
        "print(\"Is the GPU available? %s\" % str(gpu_avail))"
      ]
    },
    {
      "cell_type": "markdown",
      "metadata": {
        "id": "kZckRVNM3e1M"
      },
      "source": [
        "If you have a GPU on your computer but the command above returns False, make sure you have the correct CUDA-version installed. The `dl2020` environment comes with the CUDA-toolkit 10.1, which is selected for the Lisa supercomputer. Please change it if necessary (CUDA 10.2 is currently common). On Google Colab, make sure that you have selected a GPU in your runtime setup (in the menu, check under `Runtime -> Change runtime type`).\n",
        "\n",
        "By default, all tensors you create are stored on the CPU. We can push a tensor to the GPU by using the function `.to(...)`, or `.cuda()`. However, it is often a good practice to define a `device` object in your code which points to the GPU if you have one, and otherwise to the CPU. Then, you can write your code with respect to this device object, and it allows you to run the same code on both a CPU-only system, and one with a GPU. Let's try it below. We can specify the device as follows:"
      ]
    },
    {
      "cell_type": "code",
      "execution_count": 29,
      "metadata": {
        "id": "c9HhKd_63e1N",
        "colab": {
          "base_uri": "https://localhost:8080/"
        },
        "outputId": "afbfaed7-d4cb-4cc5-fbbf-0a677462058b"
      },
      "outputs": [
        {
          "output_type": "stream",
          "name": "stdout",
          "text": [
            "Device cuda\n"
          ]
        }
      ],
      "source": [
        "device = torch.device(\"cuda\") if torch.cuda.is_available() else torch.device(\"cpu\")\n",
        "print(\"Device\", device)"
      ]
    },
    {
      "cell_type": "markdown",
      "metadata": {
        "id": "lptmnuml3e1N"
      },
      "source": [
        "Now let's create a tensor and push it to the device:"
      ]
    },
    {
      "cell_type": "code",
      "execution_count": null,
      "metadata": {
        "id": "9aBqJBze3e1O",
        "colab": {
          "base_uri": "https://localhost:8080/"
        },
        "outputId": "1114cfa4-50b5-4903-af27-259f2a5c3d0b"
      },
      "outputs": [
        {
          "output_type": "stream",
          "name": "stdout",
          "text": [
            "X tensor([[0., 0., 0.],\n",
            "        [0., 0., 0.]], device='cuda:0')\n"
          ]
        }
      ],
      "source": [
        "x = torch.zeros(2, 3)\n",
        "\n",
        "## TODO: Push the tensor to \"device\"\n",
        "x = x.to(device)\n",
        "print(\"X\", x)"
      ]
    },
    {
      "cell_type": "code",
      "source": [
        "y = torch.ones(2,2)\n",
        "print(y.device)\n",
        "y = y.cuda(device)\n",
        "print(y.device)"
      ],
      "metadata": {
        "colab": {
          "base_uri": "https://localhost:8080/"
        },
        "id": "PQNiNS0S1hRZ",
        "outputId": "09ea067f-5316-46a6-e358-3e45ff94a68e"
      },
      "execution_count": null,
      "outputs": [
        {
          "output_type": "stream",
          "name": "stdout",
          "text": [
            "cpu\n",
            "cuda:0\n"
          ]
        }
      ]
    },
    {
      "cell_type": "markdown",
      "metadata": {
        "id": "DyplW0Oe3e1O"
      },
      "source": [
        "In case you have a GPU, you should now see the attribute `device='cuda:0'` being printed next to your tensor. The zero next to cuda indicates that this is the zero-th GPU device on your computer. PyTorch also supports multi-GPU systems, but this you will only need once you have very big networks to train (if interested, see the [PyTorch documentation](https://pytorch.org/docs/stable/distributed.html#distributed-basics)). We can also compare the runtime of a large matrix multiplication on the CPU with a operation on the GPU:"
      ]
    },
    {
      "cell_type": "code",
      "execution_count": null,
      "metadata": {
        "id": "QZ-xTQqy3e1P",
        "colab": {
          "base_uri": "https://localhost:8080/"
        },
        "outputId": "38762b5a-40fc-4984-abb1-5f7c0f8ed012"
      },
      "outputs": [
        {
          "output_type": "stream",
          "name": "stdout",
          "text": [
            "CPU time: 1.96726s\n",
            "GPU time: 0.00017s\n"
          ]
        }
      ],
      "source": [
        "x = torch.randn(5000, 5000)\n",
        "\n",
        "## CPU version\n",
        "start_time = time.time()\n",
        "_ = torch.matmul(x, x)\n",
        "end_time = time.time()\n",
        "print(\"CPU time: %6.5fs\" % (end_time - start_time))\n",
        "\n",
        "## GPU version\n",
        "x = x.to(device)\n",
        "# The first operation on a CUDA device can be slow as it has to establish a CPU-GPU communication first.\n",
        "# Hence, we run an arbitrary command first without timing it for a fair comparison.\n",
        "if torch.cuda.is_available():\n",
        "    _ = torch.matmul(x*0.0, x)\n",
        "start_time = time.time()\n",
        "_ = torch.matmul(x, x)\n",
        "end_time = time.time()\n",
        "print(\"GPU time: %6.5fs\" % (end_time - start_time))"
      ]
    },
    {
      "cell_type": "markdown",
      "metadata": {
        "id": "mVPUM3jr3e1Q"
      },
      "source": [
        "Depending on the size of the operation and the CPU/GPU in your system, the speedup of this operation can be >500x. As `matmul` operations are very common in neural networks, we can already see the great benefit of training a NN on a GPU. The time estimate can be relatively noisy here because we haven't run it for multiple times. Feel free to extend this, but it also takes longer to run.\n",
        "\n",
        "When generating random numbers, the seed between CPU and GPU is not synchronized. Hence, we need to set the seed on the GPU separately to ensure a reproducible code. Note that due to different GPU architectures, running the same code on different GPUs does not guarantee the same random numbers. Still, we don't want that our code gives us a different output every time we run it on the exact same hardware. Hence, we also set the seed on the GPU:"
      ]
    },
    {
      "cell_type": "code",
      "execution_count": 6,
      "metadata": {
        "id": "JyrhVaP53e1R"
      },
      "outputs": [],
      "source": [
        "# GPU operations have a separate seed we also want to set\n",
        "if torch.cuda.is_available():\n",
        "    torch.cuda.manual_seed(42)\n",
        "    torch.cuda.manual_seed_all(42)\n",
        "\n",
        "# Additionally, some operations on a GPU are implemented stochastic for efficiency\n",
        "# We want to ensure that all operations are deterministic on GPU (if used) for reproducibility\n",
        "torch.backends.cudnn.deterministic = True\n",
        "torch.backends.cudnn.benchmark = False"
      ]
    },
    {
      "cell_type": "markdown",
      "metadata": {
        "id": "bj-7zOx73e1R"
      },
      "source": [
        "## Learning by example: Continuous XOR\n",
        "\n",
        "If we want to build a neural network in PyTorch, we could specify all our parameters (weight matrices, bias vectors) using `Tensors` (with `requires_grad=True`), ask PyTorch to calculate the gradients and then adjust the parameters. But things can quickly get cumbersome if we have a lot of parameters. In PyTorch, there is a package called `torch.nn` that makes building neural networks more convenient.\n",
        "\n",
        "We will introduce the libraries and all additional parts you might need to train a neural network in PyTorch, using a simple example classifier on a simple yet well known example: XOR. Given two binary inputs $x_1$ and $x_2$, the label to predict is $1$ if either $x_1$ or $x_2$ is $1$ while the other is $0$, or the label is $0$ in all other cases. The example became famous by the fact that a single neuron, i.e. a linear classifier, cannot learn this simple function.\n",
        "Hence, we will learn how to build a small neural network that can learn this function.\n",
        "To make it a little bit more interesting, we move the XOR into continuous space and introduce some gaussian noise on the binary inputs. Our desired separation of an XOR dataset could look as follows:\n",
        "\n",
        "<center style=\"width: 100%\"><img src=\"https://github.com/dilshod-obidov/uvadlc_notebooks/blob/master/docs/tutorial_notebooks/tutorial2/continuous_xor.svg?raw=1\" width=\"350px\"></center>"
      ]
    },
    {
      "cell_type": "markdown",
      "metadata": {
        "id": "eADUIw7t3e1R"
      },
      "source": [
        "### The model\n",
        "\n",
        "The package `torch.nn` defines a series of useful classes like linear networks layers, activation functions, loss functions etc. A full list can be found [here](https://pytorch.org/docs/stable/nn.html). In case you need a certain network layer, check the documentation of the package first before writing the layer yourself as the package likely contains the code for it already. We import it below:"
      ]
    },
    {
      "cell_type": "code",
      "execution_count": null,
      "metadata": {
        "id": "ie3R7_oS3e1S"
      },
      "outputs": [],
      "source": [
        "import torch.nn as nn"
      ]
    },
    {
      "cell_type": "markdown",
      "metadata": {
        "id": "d-i8-U6N3e1S"
      },
      "source": [
        "Additionally to `torch.nn`, there is also `torch.nn.functional`. It contains functions that are used in network layers. This is in contrast to `torch.nn` which defines them as `nn.Modules` (more on it below), and `torch.nn` actually uses a lot of functionalities from `torch.nn.functional`. Hence, the functional package is useful in many situations, and so we import it as well here."
      ]
    },
    {
      "cell_type": "code",
      "execution_count": null,
      "metadata": {
        "id": "bXAmHUC23e1S"
      },
      "outputs": [],
      "source": [
        "import torch.nn.functional as F"
      ]
    },
    {
      "cell_type": "markdown",
      "metadata": {
        "id": "oqleN8eQ3e1S"
      },
      "source": [
        "#### nn.Module\n",
        "\n",
        "In PyTorch, a neural network is build up out of modules. Modules can contain other modules, and a neural network is considered to be a module itself as well. The basic template of a module is as follows:"
      ]
    },
    {
      "cell_type": "code",
      "execution_count": null,
      "metadata": {
        "id": "JqBLit--3e1S"
      },
      "outputs": [],
      "source": [
        "class MyModule(nn.Module):\n",
        "\n",
        "    def __init__(self):\n",
        "        super().__init__()\n",
        "        # Some init for my module\n",
        "\n",
        "    def forward(self, x):\n",
        "        # Function for performing the calculation of the module.\n",
        "        pass"
      ]
    },
    {
      "cell_type": "markdown",
      "metadata": {
        "id": "7fDAp2iY3e1T"
      },
      "source": [
        "The forward function is where the computation of the module is taken place, and is executed when you call the module (`nn = MyModule(); nn(x)`). In the init function, we usually create the parameters of the module, using `nn.Parameter`, or defining other modules that are used in the forward function. The backward calculation is done automatically, but could be overwritten as well if wanted.\n",
        "\n",
        "#### Simple classifier\n",
        "We can now make use of the pre-defined modules in the `torch.nn` package, and define our own small neural network. We will use a minimal network with a input layer, one hidden layer with tanh as activation function, and a output layer. In other words, our networks should look something like this:\n",
        "\n",
        "<center width=\"100%\"><img src=\"https://github.com/dilshod-obidov/uvadlc_notebooks/blob/master/docs/tutorial_notebooks/tutorial2/small_neural_network.svg?raw=1\" width=\"300px\"></center>\n",
        "\n",
        "The input neurons are shown in blue, which represent the coordinates $x_1$ and $x_2$ of a data point. The hidden neurons including a tanh activation are shown in white, and the output neuron in red.\n",
        "In PyTorch, we can define this as follows:"
      ]
    },
    {
      "cell_type": "code",
      "execution_count": 23,
      "metadata": {
        "id": "gK3skA1U3e1T"
      },
      "outputs": [],
      "source": [
        "class SimpleClassifier(nn.Module):\n",
        "\n",
        "    def __init__(self, num_inputs, num_hidden, num_outputs):\n",
        "        super().__init__()\n",
        "        # Initialize the modules we need to build the network\n",
        "        ## TODO: Implement the linear layers using nn.Linear(input_neurons, output_neurons)\n",
        "        self.linear1 = nn.Linear(num_inputs, num_hidden)\n",
        "        self.linear2 = nn.Linear(num_hidden, num_outputs)\n",
        "\n",
        "        ## TODO: Implement the activation function using nn.Tanh\n",
        "        self.act_fn = nn.Tanh()\n",
        "\n",
        "\n",
        "    def forward(self, x):\n",
        "        # Perform the calculation of the model to determine the prediction\n",
        "        ## TODO: Execute the NN modules in sequence to build the neural network computation graph\n",
        "        x = self.linear1(x);\n",
        "        x = self.act_fn(x);\n",
        "        x = self.linear2(x);\n",
        "\n",
        "        return x"
      ]
    },
    {
      "cell_type": "markdown",
      "metadata": {
        "id": "JwzRt-wK3e1T"
      },
      "source": [
        "For the examples in this notebook, we will use a tiny neural network with two input neurons and four hidden neurons. As we perform binary classification, we will use a single output neuron. Note that we do not apply a sigmoid on the output yet. This is because other functions, especially the loss, are more efficient and precise to calculate on the original outputs instead of the sigmoid output. We will discuss the detailed reason later."
      ]
    },
    {
      "cell_type": "code",
      "execution_count": 24,
      "metadata": {
        "id": "_mq2vk323e1T",
        "outputId": "a0deeae5-7bdd-4564-ef5d-316fb7028208",
        "colab": {
          "base_uri": "https://localhost:8080/"
        }
      },
      "outputs": [
        {
          "output_type": "stream",
          "name": "stdout",
          "text": [
            "SimpleClassifier(\n",
            "  (linear1): Linear(in_features=2, out_features=4, bias=True)\n",
            "  (linear2): Linear(in_features=4, out_features=1, bias=True)\n",
            "  (act_fn): Tanh()\n",
            ")\n"
          ]
        }
      ],
      "source": [
        "model = SimpleClassifier(num_inputs=2, num_hidden=4, num_outputs=1)\n",
        "# Printing a module shows all its submodules\n",
        "print(model)"
      ]
    },
    {
      "cell_type": "markdown",
      "metadata": {
        "id": "dfde-NEx3e1U"
      },
      "source": [
        "Printing the model lists all submodules it contains. The parameters of a module can be obtained by using its `parameters()` functions, or `named_parameters()` to get a name to each parameter object. For our small neural network, we have the following parameters:"
      ]
    },
    {
      "cell_type": "code",
      "execution_count": null,
      "metadata": {
        "id": "lv4CJEma3e1U",
        "outputId": "19e576b0-52f7-4507-8455-1db4aba038c8",
        "colab": {
          "base_uri": "https://localhost:8080/"
        }
      },
      "outputs": [
        {
          "output_type": "stream",
          "name": "stdout",
          "text": [
            "Parameter: linear1.weight,  shape: torch.Size([4, 2])\n",
            "Parameter: linear1.bias,  shape: torch.Size([4])\n",
            "Parameter: linear2.weight,  shape: torch.Size([1, 4])\n",
            "Parameter: linear2.bias,  shape: torch.Size([1])\n"
          ]
        }
      ],
      "source": [
        "for name, param in model.named_parameters():\n",
        "    print(\"Parameter: %s,  shape: %s\" % (name, str(param.shape)))"
      ]
    },
    {
      "cell_type": "markdown",
      "metadata": {
        "id": "vX4-MMi23e1U"
      },
      "source": [
        "Each linear layer has a weight matrix of the shape `[output, input]`, and a bias of the shape `[output]`. The tanh activation function does not have any parameters. Note that parameters are only registered for `nn.Module` objects that are direct object attributes, i.e. `self.a = ...`. If you define a list of modules, the parameters of those are not registered for the outer module and can cause some issues when you try to optimize your module. There are alternatives, like `nn.ModuleList`, `nn.ModuleDict` and `nn.Sequential`, that allow you to have different data structures of modules. We will use them in a few later tutorials and explain them there."
      ]
    },
    {
      "cell_type": "markdown",
      "metadata": {
        "id": "rLBwRti03e1V"
      },
      "source": [
        "### The data\n",
        "\n",
        "PyTorch also provides a few functionalities to load the training and test data efficiently, summarized in the package `torch.utils.data`."
      ]
    },
    {
      "cell_type": "code",
      "execution_count": 2,
      "metadata": {
        "id": "gGcsGezR3e1V"
      },
      "outputs": [],
      "source": [
        "import torch.utils.data as data"
      ]
    },
    {
      "cell_type": "markdown",
      "metadata": {
        "id": "h4KcbJUO3e1V"
      },
      "source": [
        "The data package defines two classes which are the standard interface for handling data in PyTorch: `data.Dataset`, and `data.DataLoader`. The dataset class provides an uniform interface to access the training/test data, while the data loader makes sure to efficiently load and stack the data points from the dataset into batches during training."
      ]
    },
    {
      "cell_type": "markdown",
      "metadata": {
        "id": "d5Inj5Oe3e1W"
      },
      "source": [
        "#### The dataset class\n",
        "\n",
        "The dataset class summarizes the basic functionality of a dataset in a natural way. To define a dataset in PyTorch, we simply specify two functions: `__getitem__`, and `__len__`. The get-item function has to return the $i$-th data point in the dataset, while the len function returns the size of the dataset. For the XOR dataset, we can define the dataset class as follows:"
      ]
    },
    {
      "cell_type": "code",
      "execution_count": 3,
      "metadata": {
        "id": "l_QzHgij3e1W"
      },
      "outputs": [],
      "source": [
        "class XORDataset(data.Dataset):\n",
        "\n",
        "    def __init__(self, size, std=0.1):\n",
        "        \"\"\"\n",
        "        Inputs:\n",
        "            size - Number of data points we want to generate\n",
        "            std - Standard deviation of the noise (see generate_continuous_xor function)\n",
        "        \"\"\"\n",
        "        super().__init__()\n",
        "        self.size = size\n",
        "        self.std = std\n",
        "        self.generate_continuous_xor()\n",
        "\n",
        "\n",
        "    def generate_continuous_xor(self):\n",
        "        # Each data point in the XOR dataset has two variables, x and y, that can be either 0 or 1\n",
        "        # The label is their XOR combination, i.e. 1 if only x or only y is 1 while the other is 0.\n",
        "        # If x=y, the label is 0.\n",
        "        data = torch.randint(low=0, high=2, size=(self.size, 2), dtype=torch.float32)\n",
        "        label = (data.sum(dim=1) == 1).to(torch.long)\n",
        "\n",
        "        # To make it slightly more challenging, we add a bit of gaussian noise to the data points.\n",
        "        data += self.std * torch.randn(data.shape)\n",
        "\n",
        "        self.data = data\n",
        "        self.label = label\n",
        "\n",
        "\n",
        "    def __len__(self):\n",
        "        ## TODO: Return the number of data points the data has\n",
        "        return self.size\n",
        "\n",
        "\n",
        "    def __getitem__(self, idx):\n",
        "        ## TODO: Return the idx-th data point and label of the dataset\n",
        "        data_point = self.data[idx]\n",
        "        data_label = self.label[idx]\n",
        "        return data_point, data_label"
      ]
    },
    {
      "cell_type": "markdown",
      "metadata": {
        "id": "-BrcAdtC3e1W"
      },
      "source": [
        "Let's try to create such a dataset and inspect it:"
      ]
    },
    {
      "cell_type": "code",
      "source": [
        "import torch"
      ],
      "metadata": {
        "id": "o1qUppEp2ZtY"
      },
      "execution_count": 11,
      "outputs": []
    },
    {
      "cell_type": "code",
      "execution_count": 12,
      "metadata": {
        "id": "f2orIIQd3e1W",
        "outputId": "b829ec0d-2640-450f-bdf7-52ca9258b3d5",
        "colab": {
          "base_uri": "https://localhost:8080/"
        }
      },
      "outputs": [
        {
          "output_type": "stream",
          "name": "stdout",
          "text": [
            "Size of dataset: 200\n",
            "Data point 0: (tensor([-0.1845,  0.0499]), tensor(0))\n"
          ]
        }
      ],
      "source": [
        "dataset = XORDataset(size=200)\n",
        "print(\"Size of dataset:\", len(dataset))\n",
        "print(\"Data point 0:\", dataset[0])"
      ]
    },
    {
      "cell_type": "markdown",
      "metadata": {
        "id": "6ETVS9P43e1W"
      },
      "source": [
        "To better relate to the dataset, we visualize the samples below."
      ]
    },
    {
      "cell_type": "code",
      "execution_count": 13,
      "metadata": {
        "id": "EqAbKrdS3e1X"
      },
      "outputs": [],
      "source": [
        "def visualize_samples(data, label):\n",
        "    if isinstance(data, torch.Tensor):\n",
        "        data = data.cpu().numpy()\n",
        "    if isinstance(label, torch.Tensor):\n",
        "        label = label.cpu().numpy()\n",
        "    data_0 = data[label == 0]\n",
        "    data_1 = data[label == 1]\n",
        "\n",
        "    plt.figure(figsize=(4,4))\n",
        "    plt.scatter(data_0[:,0], data_0[:,1], edgecolor=\"#333\", label=\"Class 0\")\n",
        "    plt.scatter(data_1[:,0], data_1[:,1], edgecolor=\"#333\", label=\"Class 1\")\n",
        "    plt.title(\"Dataset samples\")\n",
        "    plt.ylabel(r\"$x_2$\")\n",
        "    plt.xlabel(r\"$x_1$\")\n",
        "    plt.legend()"
      ]
    },
    {
      "cell_type": "code",
      "execution_count": 12,
      "metadata": {
        "id": "Fr2_kIVw3e1X",
        "outputId": "15f90cb2-6c21-4e3b-a5b5-223b72da2c77",
        "colab": {
          "base_uri": "https://localhost:8080/",
          "height": 404
        }
      },
      "outputs": [
        {
          "output_type": "display_data",
          "data": {
            "text/plain": [
              "<Figure size 400x400 with 1 Axes>"
            ],
            "image/svg+xml": "<?xml version=\"1.0\" encoding=\"utf-8\" standalone=\"no\"?>\n<!DOCTYPE svg PUBLIC \"-//W3C//DTD SVG 1.1//EN\"\n  \"http://www.w3.org/Graphics/SVG/1.1/DTD/svg11.dtd\">\n<svg xmlns:xlink=\"http://www.w3.org/1999/xlink\" width=\"289.424844pt\" height=\"287.037813pt\" viewBox=\"0 0 289.424844 287.037813\" xmlns=\"http://www.w3.org/2000/svg\" version=\"1.1\">\n <metadata>\n  <rdf:RDF xmlns:dc=\"http://purl.org/dc/elements/1.1/\" xmlns:cc=\"http://creativecommons.org/ns#\" xmlns:rdf=\"http://www.w3.org/1999/02/22-rdf-syntax-ns#\">\n   <cc:Work>\n    <dc:type rdf:resource=\"http://purl.org/dc/dcmitype/StillImage\"/>\n    <dc:date>2023-11-24T09:29:40.604655</dc:date>\n    <dc:format>image/svg+xml</dc:format>\n    <dc:creator>\n     <cc:Agent>\n      <dc:title>Matplotlib v3.7.1, https://matplotlib.org/</dc:title>\n     </cc:Agent>\n    </dc:creator>\n   </cc:Work>\n  </rdf:RDF>\n </metadata>\n <defs>\n  <style type=\"text/css\">*{stroke-linejoin: round; stroke-linecap: butt}</style>\n </defs>\n <g id=\"figure_1\">\n  <g id=\"patch_1\">\n   <path d=\"M 0 287.037813 \nL 289.424844 287.037813 \nL 289.424844 0 \nL 0 0 \nz\n\" style=\"fill: #ffffff\"/>\n  </g>\n  <g id=\"axes_1\">\n   <g id=\"patch_2\">\n    <path d=\"M 59.024844 244.078125 \nL 282.224844 244.078125 \nL 282.224844 22.318125 \nL 59.024844 22.318125 \nz\n\" style=\"fill: #eaeaf2\"/>\n   </g>\n   <g id=\"matplotlib.axis_1\">\n    <g id=\"xtick_1\">\n     <g id=\"line2d_1\">\n      <path d=\"M 97.371639 244.078125 \nL 97.371639 22.318125 \n\" clip-path=\"url(#pa54c6c609e)\" style=\"fill: none; stroke: #ffffff; stroke-linecap: round\"/>\n     </g>\n     <g id=\"text_1\">\n      <!-- 0.0 -->\n      <g style=\"fill: #262626\" transform=\"translate(88.62492 261.936406) scale(0.11 -0.11)\">\n       <defs>\n        <path id=\"DejaVuSans-30\" d=\"M 2034 4250 \nQ 1547 4250 1301 3770 \nQ 1056 3291 1056 2328 \nQ 1056 1369 1301 889 \nQ 1547 409 2034 409 \nQ 2525 409 2770 889 \nQ 3016 1369 3016 2328 \nQ 3016 3291 2770 3770 \nQ 2525 4250 2034 4250 \nz\nM 2034 4750 \nQ 2819 4750 3233 4129 \nQ 3647 3509 3647 2328 \nQ 3647 1150 3233 529 \nQ 2819 -91 2034 -91 \nQ 1250 -91 836 529 \nQ 422 1150 422 2328 \nQ 422 3509 836 4129 \nQ 1250 4750 2034 4750 \nz\n\" transform=\"scale(0.015625)\"/>\n        <path id=\"DejaVuSans-2e\" d=\"M 684 794 \nL 1344 794 \nL 1344 0 \nL 684 0 \nL 684 794 \nz\n\" transform=\"scale(0.015625)\"/>\n       </defs>\n       <use xlink:href=\"#DejaVuSans-30\"/>\n       <use xlink:href=\"#DejaVuSans-2e\" x=\"63.623047\"/>\n       <use xlink:href=\"#DejaVuSans-30\" x=\"95.410156\"/>\n      </g>\n     </g>\n    </g>\n    <g id=\"xtick_2\">\n     <g id=\"line2d_2\">\n      <path d=\"M 165.436225 244.078125 \nL 165.436225 22.318125 \n\" clip-path=\"url(#pa54c6c609e)\" style=\"fill: none; stroke: #ffffff; stroke-linecap: round\"/>\n     </g>\n     <g id=\"text_2\">\n      <!-- 0.5 -->\n      <g style=\"fill: #262626\" transform=\"translate(156.689507 261.936406) scale(0.11 -0.11)\">\n       <defs>\n        <path id=\"DejaVuSans-35\" d=\"M 691 4666 \nL 3169 4666 \nL 3169 4134 \nL 1269 4134 \nL 1269 2991 \nQ 1406 3038 1543 3061 \nQ 1681 3084 1819 3084 \nQ 2600 3084 3056 2656 \nQ 3513 2228 3513 1497 \nQ 3513 744 3044 326 \nQ 2575 -91 1722 -91 \nQ 1428 -91 1123 -41 \nQ 819 9 494 109 \nL 494 744 \nQ 775 591 1075 516 \nQ 1375 441 1709 441 \nQ 2250 441 2565 725 \nQ 2881 1009 2881 1497 \nQ 2881 1984 2565 2268 \nQ 2250 2553 1709 2553 \nQ 1456 2553 1204 2497 \nQ 953 2441 691 2322 \nL 691 4666 \nz\n\" transform=\"scale(0.015625)\"/>\n       </defs>\n       <use xlink:href=\"#DejaVuSans-30\"/>\n       <use xlink:href=\"#DejaVuSans-2e\" x=\"63.623047\"/>\n       <use xlink:href=\"#DejaVuSans-35\" x=\"95.410156\"/>\n      </g>\n     </g>\n    </g>\n    <g id=\"xtick_3\">\n     <g id=\"line2d_3\">\n      <path d=\"M 233.500812 244.078125 \nL 233.500812 22.318125 \n\" clip-path=\"url(#pa54c6c609e)\" style=\"fill: none; stroke: #ffffff; stroke-linecap: round\"/>\n     </g>\n     <g id=\"text_3\">\n      <!-- 1.0 -->\n      <g style=\"fill: #262626\" transform=\"translate(224.754093 261.936406) scale(0.11 -0.11)\">\n       <defs>\n        <path id=\"DejaVuSans-31\" d=\"M 794 531 \nL 1825 531 \nL 1825 4091 \nL 703 3866 \nL 703 4441 \nL 1819 4666 \nL 2450 4666 \nL 2450 531 \nL 3481 531 \nL 3481 0 \nL 794 0 \nL 794 531 \nz\n\" transform=\"scale(0.015625)\"/>\n       </defs>\n       <use xlink:href=\"#DejaVuSans-31\"/>\n       <use xlink:href=\"#DejaVuSans-2e\" x=\"63.623047\"/>\n       <use xlink:href=\"#DejaVuSans-30\" x=\"95.410156\"/>\n      </g>\n     </g>\n    </g>\n    <g id=\"text_4\">\n     <!-- $x_1$ -->\n     <g style=\"fill: #262626\" transform=\"translate(164.204844 277.342188) scale(0.12 -0.12)\">\n      <defs>\n       <path id=\"DejaVuSans-Oblique-78\" d=\"M 3841 3500 \nL 2234 1784 \nL 3219 0 \nL 2559 0 \nL 1819 1388 \nL 531 0 \nL -166 0 \nL 1556 1844 \nL 641 3500 \nL 1300 3500 \nL 1972 2234 \nL 3144 3500 \nL 3841 3500 \nz\n\" transform=\"scale(0.015625)\"/>\n      </defs>\n      <use xlink:href=\"#DejaVuSans-Oblique-78\" transform=\"translate(0 0.3125)\"/>\n      <use xlink:href=\"#DejaVuSans-31\" transform=\"translate(59.179688 -16.09375) scale(0.7)\"/>\n     </g>\n    </g>\n   </g>\n   <g id=\"matplotlib.axis_2\">\n    <g id=\"ytick_1\">\n     <g id=\"line2d_4\">\n      <path d=\"M 59.024844 219.381325 \nL 282.224844 219.381325 \n\" clip-path=\"url(#pa54c6c609e)\" style=\"fill: none; stroke: #ffffff; stroke-linecap: round\"/>\n     </g>\n     <g id=\"text_5\">\n      <!-- −0.2 -->\n      <g style=\"fill: #262626\" transform=\"translate(22.81375 223.560466) scale(0.11 -0.11)\">\n       <defs>\n        <path id=\"DejaVuSans-2212\" d=\"M 678 2272 \nL 4684 2272 \nL 4684 1741 \nL 678 1741 \nL 678 2272 \nz\n\" transform=\"scale(0.015625)\"/>\n        <path id=\"DejaVuSans-32\" d=\"M 1228 531 \nL 3431 531 \nL 3431 0 \nL 469 0 \nL 469 531 \nQ 828 903 1448 1529 \nQ 2069 2156 2228 2338 \nQ 2531 2678 2651 2914 \nQ 2772 3150 2772 3378 \nQ 2772 3750 2511 3984 \nQ 2250 4219 1831 4219 \nQ 1534 4219 1204 4116 \nQ 875 4013 500 3803 \nL 500 4441 \nQ 881 4594 1212 4672 \nQ 1544 4750 1819 4750 \nQ 2544 4750 2975 4387 \nQ 3406 4025 3406 3419 \nQ 3406 3131 3298 2873 \nQ 3191 2616 2906 2266 \nQ 2828 2175 2409 1742 \nQ 1991 1309 1228 531 \nz\n\" transform=\"scale(0.015625)\"/>\n       </defs>\n       <use xlink:href=\"#DejaVuSans-2212\"/>\n       <use xlink:href=\"#DejaVuSans-30\" x=\"83.789062\"/>\n       <use xlink:href=\"#DejaVuSans-2e\" x=\"147.412109\"/>\n       <use xlink:href=\"#DejaVuSans-32\" x=\"179.199219\"/>\n      </g>\n     </g>\n    </g>\n    <g id=\"ytick_2\">\n     <g id=\"line2d_5\">\n      <path d=\"M 59.024844 192.844072 \nL 282.224844 192.844072 \n\" clip-path=\"url(#pa54c6c609e)\" style=\"fill: none; stroke: #ffffff; stroke-linecap: round\"/>\n     </g>\n     <g id=\"text_6\">\n      <!-- 0.0 -->\n      <g style=\"fill: #262626\" transform=\"translate(32.031406 197.023212) scale(0.11 -0.11)\">\n       <use xlink:href=\"#DejaVuSans-30\"/>\n       <use xlink:href=\"#DejaVuSans-2e\" x=\"63.623047\"/>\n       <use xlink:href=\"#DejaVuSans-30\" x=\"95.410156\"/>\n      </g>\n     </g>\n    </g>\n    <g id=\"ytick_3\">\n     <g id=\"line2d_6\">\n      <path d=\"M 59.024844 166.306818 \nL 282.224844 166.306818 \n\" clip-path=\"url(#pa54c6c609e)\" style=\"fill: none; stroke: #ffffff; stroke-linecap: round\"/>\n     </g>\n     <g id=\"text_7\">\n      <!-- 0.2 -->\n      <g style=\"fill: #262626\" transform=\"translate(32.031406 170.485959) scale(0.11 -0.11)\">\n       <use xlink:href=\"#DejaVuSans-30\"/>\n       <use xlink:href=\"#DejaVuSans-2e\" x=\"63.623047\"/>\n       <use xlink:href=\"#DejaVuSans-32\" x=\"95.410156\"/>\n      </g>\n     </g>\n    </g>\n    <g id=\"ytick_4\">\n     <g id=\"line2d_7\">\n      <path d=\"M 59.024844 139.769564 \nL 282.224844 139.769564 \n\" clip-path=\"url(#pa54c6c609e)\" style=\"fill: none; stroke: #ffffff; stroke-linecap: round\"/>\n     </g>\n     <g id=\"text_8\">\n      <!-- 0.4 -->\n      <g style=\"fill: #262626\" transform=\"translate(32.031406 143.948705) scale(0.11 -0.11)\">\n       <defs>\n        <path id=\"DejaVuSans-34\" d=\"M 2419 4116 \nL 825 1625 \nL 2419 1625 \nL 2419 4116 \nz\nM 2253 4666 \nL 3047 4666 \nL 3047 1625 \nL 3713 1625 \nL 3713 1100 \nL 3047 1100 \nL 3047 0 \nL 2419 0 \nL 2419 1100 \nL 313 1100 \nL 313 1709 \nL 2253 4666 \nz\n\" transform=\"scale(0.015625)\"/>\n       </defs>\n       <use xlink:href=\"#DejaVuSans-30\"/>\n       <use xlink:href=\"#DejaVuSans-2e\" x=\"63.623047\"/>\n       <use xlink:href=\"#DejaVuSans-34\" x=\"95.410156\"/>\n      </g>\n     </g>\n    </g>\n    <g id=\"ytick_5\">\n     <g id=\"line2d_8\">\n      <path d=\"M 59.024844 113.232311 \nL 282.224844 113.232311 \n\" clip-path=\"url(#pa54c6c609e)\" style=\"fill: none; stroke: #ffffff; stroke-linecap: round\"/>\n     </g>\n     <g id=\"text_9\">\n      <!-- 0.6 -->\n      <g style=\"fill: #262626\" transform=\"translate(32.031406 117.411452) scale(0.11 -0.11)\">\n       <defs>\n        <path id=\"DejaVuSans-36\" d=\"M 2113 2584 \nQ 1688 2584 1439 2293 \nQ 1191 2003 1191 1497 \nQ 1191 994 1439 701 \nQ 1688 409 2113 409 \nQ 2538 409 2786 701 \nQ 3034 994 3034 1497 \nQ 3034 2003 2786 2293 \nQ 2538 2584 2113 2584 \nz\nM 3366 4563 \nL 3366 3988 \nQ 3128 4100 2886 4159 \nQ 2644 4219 2406 4219 \nQ 1781 4219 1451 3797 \nQ 1122 3375 1075 2522 \nQ 1259 2794 1537 2939 \nQ 1816 3084 2150 3084 \nQ 2853 3084 3261 2657 \nQ 3669 2231 3669 1497 \nQ 3669 778 3244 343 \nQ 2819 -91 2113 -91 \nQ 1303 -91 875 529 \nQ 447 1150 447 2328 \nQ 447 3434 972 4092 \nQ 1497 4750 2381 4750 \nQ 2619 4750 2861 4703 \nQ 3103 4656 3366 4563 \nz\n\" transform=\"scale(0.015625)\"/>\n       </defs>\n       <use xlink:href=\"#DejaVuSans-30\"/>\n       <use xlink:href=\"#DejaVuSans-2e\" x=\"63.623047\"/>\n       <use xlink:href=\"#DejaVuSans-36\" x=\"95.410156\"/>\n      </g>\n     </g>\n    </g>\n    <g id=\"ytick_6\">\n     <g id=\"line2d_9\">\n      <path d=\"M 59.024844 86.695057 \nL 282.224844 86.695057 \n\" clip-path=\"url(#pa54c6c609e)\" style=\"fill: none; stroke: #ffffff; stroke-linecap: round\"/>\n     </g>\n     <g id=\"text_10\">\n      <!-- 0.8 -->\n      <g style=\"fill: #262626\" transform=\"translate(32.031406 90.874198) scale(0.11 -0.11)\">\n       <defs>\n        <path id=\"DejaVuSans-38\" d=\"M 2034 2216 \nQ 1584 2216 1326 1975 \nQ 1069 1734 1069 1313 \nQ 1069 891 1326 650 \nQ 1584 409 2034 409 \nQ 2484 409 2743 651 \nQ 3003 894 3003 1313 \nQ 3003 1734 2745 1975 \nQ 2488 2216 2034 2216 \nz\nM 1403 2484 \nQ 997 2584 770 2862 \nQ 544 3141 544 3541 \nQ 544 4100 942 4425 \nQ 1341 4750 2034 4750 \nQ 2731 4750 3128 4425 \nQ 3525 4100 3525 3541 \nQ 3525 3141 3298 2862 \nQ 3072 2584 2669 2484 \nQ 3125 2378 3379 2068 \nQ 3634 1759 3634 1313 \nQ 3634 634 3220 271 \nQ 2806 -91 2034 -91 \nQ 1263 -91 848 271 \nQ 434 634 434 1313 \nQ 434 1759 690 2068 \nQ 947 2378 1403 2484 \nz\nM 1172 3481 \nQ 1172 3119 1398 2916 \nQ 1625 2713 2034 2713 \nQ 2441 2713 2670 2916 \nQ 2900 3119 2900 3481 \nQ 2900 3844 2670 4047 \nQ 2441 4250 2034 4250 \nQ 1625 4250 1398 4047 \nQ 1172 3844 1172 3481 \nz\n\" transform=\"scale(0.015625)\"/>\n       </defs>\n       <use xlink:href=\"#DejaVuSans-30\"/>\n       <use xlink:href=\"#DejaVuSans-2e\" x=\"63.623047\"/>\n       <use xlink:href=\"#DejaVuSans-38\" x=\"95.410156\"/>\n      </g>\n     </g>\n    </g>\n    <g id=\"ytick_7\">\n     <g id=\"line2d_10\">\n      <path d=\"M 59.024844 60.157804 \nL 282.224844 60.157804 \n\" clip-path=\"url(#pa54c6c609e)\" style=\"fill: none; stroke: #ffffff; stroke-linecap: round\"/>\n     </g>\n     <g id=\"text_11\">\n      <!-- 1.0 -->\n      <g style=\"fill: #262626\" transform=\"translate(32.031406 64.336944) scale(0.11 -0.11)\">\n       <use xlink:href=\"#DejaVuSans-31\"/>\n       <use xlink:href=\"#DejaVuSans-2e\" x=\"63.623047\"/>\n       <use xlink:href=\"#DejaVuSans-30\" x=\"95.410156\"/>\n      </g>\n     </g>\n    </g>\n    <g id=\"ytick_8\">\n     <g id=\"line2d_11\">\n      <path d=\"M 59.024844 33.62055 \nL 282.224844 33.62055 \n\" clip-path=\"url(#pa54c6c609e)\" style=\"fill: none; stroke: #ffffff; stroke-linecap: round\"/>\n     </g>\n     <g id=\"text_12\">\n      <!-- 1.2 -->\n      <g style=\"fill: #262626\" transform=\"translate(32.031406 37.799691) scale(0.11 -0.11)\">\n       <use xlink:href=\"#DejaVuSans-31\"/>\n       <use xlink:href=\"#DejaVuSans-2e\" x=\"63.623047\"/>\n       <use xlink:href=\"#DejaVuSans-32\" x=\"95.410156\"/>\n      </g>\n     </g>\n    </g>\n    <g id=\"text_13\">\n     <!-- $x_2$ -->\n     <g style=\"fill: #262626\" transform=\"translate(16.318125 139.618125) rotate(-90) scale(0.12 -0.12)\">\n      <use xlink:href=\"#DejaVuSans-Oblique-78\" transform=\"translate(0 0.3125)\"/>\n      <use xlink:href=\"#DejaVuSans-32\" transform=\"translate(59.179688 -16.09375) scale(0.7)\"/>\n     </g>\n    </g>\n   </g>\n   <g id=\"PathCollection_1\">\n    <defs>\n     <path id=\"m2578faeb42\" d=\"M 0 3 \nC 0.795609 3 1.55874 2.683901 2.12132 2.12132 \nC 2.683901 1.55874 3 0.795609 3 0 \nC 3 -0.795609 2.683901 -1.55874 2.12132 -2.12132 \nC 1.55874 -2.683901 0.795609 -3 0 -3 \nC -0.795609 -3 -1.55874 -2.683901 -2.12132 -2.12132 \nC -2.683901 -1.55874 -3 -0.795609 -3 0 \nC -3 0.795609 -2.683901 1.55874 -2.12132 2.12132 \nC -1.55874 2.683901 -0.795609 3 0 3 \nz\n\" style=\"stroke: #333333\"/>\n    </defs>\n    <g clip-path=\"url(#pa54c6c609e)\">\n     <use xlink:href=\"#m2578faeb42\" x=\"87.023188\" y=\"198.251118\" style=\"fill: #4c72b0; stroke: #333333\"/>\n     <use xlink:href=\"#m2578faeb42\" x=\"99.450519\" y=\"193.358926\" style=\"fill: #4c72b0; stroke: #333333\"/>\n     <use xlink:href=\"#m2578faeb42\" x=\"110.809346\" y=\"177.642551\" style=\"fill: #4c72b0; stroke: #333333\"/>\n     <use xlink:href=\"#m2578faeb42\" x=\"95.441171\" y=\"196.510744\" style=\"fill: #4c72b0; stroke: #333333\"/>\n     <use xlink:href=\"#m2578faeb42\" x=\"242.810347\" y=\"77.733284\" style=\"fill: #4c72b0; stroke: #333333\"/>\n     <use xlink:href=\"#m2578faeb42\" x=\"232.872006\" y=\"81.994509\" style=\"fill: #4c72b0; stroke: #333333\"/>\n     <use xlink:href=\"#m2578faeb42\" x=\"226.921314\" y=\"69.980495\" style=\"fill: #4c72b0; stroke: #333333\"/>\n     <use xlink:href=\"#m2578faeb42\" x=\"237.779093\" y=\"58.279562\" style=\"fill: #4c72b0; stroke: #333333\"/>\n     <use xlink:href=\"#m2578faeb42\" x=\"247.587699\" y=\"68.469771\" style=\"fill: #4c72b0; stroke: #333333\"/>\n     <use xlink:href=\"#m2578faeb42\" x=\"90.35973\" y=\"183.684872\" style=\"fill: #4c72b0; stroke: #333333\"/>\n     <use xlink:href=\"#m2578faeb42\" x=\"226.776043\" y=\"45.076512\" style=\"fill: #4c72b0; stroke: #333333\"/>\n     <use xlink:href=\"#m2578faeb42\" x=\"106.472693\" y=\"179.005157\" style=\"fill: #4c72b0; stroke: #333333\"/>\n     <use xlink:href=\"#m2578faeb42\" x=\"106.763214\" y=\"210.264915\" style=\"fill: #4c72b0; stroke: #333333\"/>\n     <use xlink:href=\"#m2578faeb42\" x=\"234.01543\" y=\"75.684903\" style=\"fill: #4c72b0; stroke: #333333\"/>\n     <use xlink:href=\"#m2578faeb42\" x=\"232.096152\" y=\"44.375119\" style=\"fill: #4c72b0; stroke: #333333\"/>\n     <use xlink:href=\"#m2578faeb42\" x=\"214.662106\" y=\"53.697694\" style=\"fill: #4c72b0; stroke: #333333\"/>\n     <use xlink:href=\"#m2578faeb42\" x=\"90.796318\" y=\"191.340764\" style=\"fill: #4c72b0; stroke: #333333\"/>\n     <use xlink:href=\"#m2578faeb42\" x=\"98.421887\" y=\"205.088531\" style=\"fill: #4c72b0; stroke: #333333\"/>\n     <use xlink:href=\"#m2578faeb42\" x=\"80.192149\" y=\"178.433636\" style=\"fill: #4c72b0; stroke: #333333\"/>\n     <use xlink:href=\"#m2578faeb42\" x=\"235.706925\" y=\"44.289088\" style=\"fill: #4c72b0; stroke: #333333\"/>\n     <use xlink:href=\"#m2578faeb42\" x=\"215.720252\" y=\"78.786583\" style=\"fill: #4c72b0; stroke: #333333\"/>\n     <use xlink:href=\"#m2578faeb42\" x=\"272.079389\" y=\"34.237883\" style=\"fill: #4c72b0; stroke: #333333\"/>\n     <use xlink:href=\"#m2578faeb42\" x=\"90.454978\" y=\"201.050588\" style=\"fill: #4c72b0; stroke: #333333\"/>\n     <use xlink:href=\"#m2578faeb42\" x=\"227.370834\" y=\"61.125965\" style=\"fill: #4c72b0; stroke: #333333\"/>\n     <use xlink:href=\"#m2578faeb42\" x=\"226.041545\" y=\"75.317914\" style=\"fill: #4c72b0; stroke: #333333\"/>\n     <use xlink:href=\"#m2578faeb42\" x=\"227.391987\" y=\"60.561892\" style=\"fill: #4c72b0; stroke: #333333\"/>\n     <use xlink:href=\"#m2578faeb42\" x=\"238.714986\" y=\"60.751835\" style=\"fill: #4c72b0; stroke: #333333\"/>\n     <use xlink:href=\"#m2578faeb42\" x=\"249.563263\" y=\"64.555399\" style=\"fill: #4c72b0; stroke: #333333\"/>\n     <use xlink:href=\"#m2578faeb42\" x=\"216.04549\" y=\"34.081069\" style=\"fill: #4c72b0; stroke: #333333\"/>\n     <use xlink:href=\"#m2578faeb42\" x=\"220.380017\" y=\"94.215637\" style=\"fill: #4c72b0; stroke: #333333\"/>\n     <use xlink:href=\"#m2578faeb42\" x=\"243.160706\" y=\"49.279615\" style=\"fill: #4c72b0; stroke: #333333\"/>\n     <use xlink:href=\"#m2578faeb42\" x=\"214.935927\" y=\"57.597515\" style=\"fill: #4c72b0; stroke: #333333\"/>\n     <use xlink:href=\"#m2578faeb42\" x=\"251.794545\" y=\"77.303936\" style=\"fill: #4c72b0; stroke: #333333\"/>\n     <use xlink:href=\"#m2578faeb42\" x=\"102.181301\" y=\"227.972603\" style=\"fill: #4c72b0; stroke: #333333\"/>\n     <use xlink:href=\"#m2578faeb42\" x=\"77.530313\" y=\"205.731065\" style=\"fill: #4c72b0; stroke: #333333\"/>\n     <use xlink:href=\"#m2578faeb42\" x=\"100.829743\" y=\"195.219941\" style=\"fill: #4c72b0; stroke: #333333\"/>\n     <use xlink:href=\"#m2578faeb42\" x=\"113.697398\" y=\"198.539194\" style=\"fill: #4c72b0; stroke: #333333\"/>\n     <use xlink:href=\"#m2578faeb42\" x=\"250.119992\" y=\"68.220409\" style=\"fill: #4c72b0; stroke: #333333\"/>\n     <use xlink:href=\"#m2578faeb42\" x=\"78.778915\" y=\"178.092728\" style=\"fill: #4c72b0; stroke: #333333\"/>\n     <use xlink:href=\"#m2578faeb42\" x=\"95.087065\" y=\"171.039543\" style=\"fill: #4c72b0; stroke: #333333\"/>\n     <use xlink:href=\"#m2578faeb42\" x=\"124.693961\" y=\"209.471014\" style=\"fill: #4c72b0; stroke: #333333\"/>\n     <use xlink:href=\"#m2578faeb42\" x=\"122.68483\" y=\"158.051783\" style=\"fill: #4c72b0; stroke: #333333\"/>\n     <use xlink:href=\"#m2578faeb42\" x=\"238.524698\" y=\"55.111789\" style=\"fill: #4c72b0; stroke: #333333\"/>\n     <use xlink:href=\"#m2578faeb42\" x=\"231.128631\" y=\"52.074477\" style=\"fill: #4c72b0; stroke: #333333\"/>\n     <use xlink:href=\"#m2578faeb42\" x=\"86.437536\" y=\"207.716882\" style=\"fill: #4c72b0; stroke: #333333\"/>\n     <use xlink:href=\"#m2578faeb42\" x=\"100.034879\" y=\"203.213744\" style=\"fill: #4c72b0; stroke: #333333\"/>\n     <use xlink:href=\"#m2578faeb42\" x=\"73.006163\" y=\"196.314793\" style=\"fill: #4c72b0; stroke: #333333\"/>\n     <use xlink:href=\"#m2578faeb42\" x=\"90.836117\" y=\"209.923096\" style=\"fill: #4c72b0; stroke: #333333\"/>\n     <use xlink:href=\"#m2578faeb42\" x=\"80.960775\" y=\"205.505133\" style=\"fill: #4c72b0; stroke: #333333\"/>\n     <use xlink:href=\"#m2578faeb42\" x=\"98.205792\" y=\"191.712775\" style=\"fill: #4c72b0; stroke: #333333\"/>\n     <use xlink:href=\"#m2578faeb42\" x=\"221.132706\" y=\"56.004778\" style=\"fill: #4c72b0; stroke: #333333\"/>\n     <use xlink:href=\"#m2578faeb42\" x=\"108.330687\" y=\"207.616836\" style=\"fill: #4c72b0; stroke: #333333\"/>\n     <use xlink:href=\"#m2578faeb42\" x=\"99.102019\" y=\"187.001019\" style=\"fill: #4c72b0; stroke: #333333\"/>\n     <use xlink:href=\"#m2578faeb42\" x=\"257.592907\" y=\"51.84079\" style=\"fill: #4c72b0; stroke: #333333\"/>\n     <use xlink:href=\"#m2578faeb42\" x=\"84.842432\" y=\"184.005641\" style=\"fill: #4c72b0; stroke: #333333\"/>\n     <use xlink:href=\"#m2578faeb42\" x=\"91.378349\" y=\"223.600172\" style=\"fill: #4c72b0; stroke: #333333\"/>\n     <use xlink:href=\"#m2578faeb42\" x=\"114.994687\" y=\"189.889505\" style=\"fill: #4c72b0; stroke: #333333\"/>\n     <use xlink:href=\"#m2578faeb42\" x=\"103.23943\" y=\"187.956532\" style=\"fill: #4c72b0; stroke: #333333\"/>\n     <use xlink:href=\"#m2578faeb42\" x=\"243.898327\" y=\"44.511149\" style=\"fill: #4c72b0; stroke: #333333\"/>\n     <use xlink:href=\"#m2578faeb42\" x=\"227.867975\" y=\"53.279228\" style=\"fill: #4c72b0; stroke: #333333\"/>\n     <use xlink:href=\"#m2578faeb42\" x=\"99.297554\" y=\"191.900624\" style=\"fill: #4c72b0; stroke: #333333\"/>\n     <use xlink:href=\"#m2578faeb42\" x=\"241.169694\" y=\"67.835508\" style=\"fill: #4c72b0; stroke: #333333\"/>\n     <use xlink:href=\"#m2578faeb42\" x=\"218.746975\" y=\"65.318321\" style=\"fill: #4c72b0; stroke: #333333\"/>\n     <use xlink:href=\"#m2578faeb42\" x=\"244.56281\" y=\"40.279827\" style=\"fill: #4c72b0; stroke: #333333\"/>\n     <use xlink:href=\"#m2578faeb42\" x=\"234.09837\" y=\"40.99362\" style=\"fill: #4c72b0; stroke: #333333\"/>\n     <use xlink:href=\"#m2578faeb42\" x=\"81.164644\" y=\"182.552827\" style=\"fill: #4c72b0; stroke: #333333\"/>\n     <use xlink:href=\"#m2578faeb42\" x=\"103.575317\" y=\"189.522532\" style=\"fill: #4c72b0; stroke: #333333\"/>\n     <use xlink:href=\"#m2578faeb42\" x=\"85.51689\" y=\"201.350552\" style=\"fill: #4c72b0; stroke: #333333\"/>\n     <use xlink:href=\"#m2578faeb42\" x=\"95.769118\" y=\"196.806657\" style=\"fill: #4c72b0; stroke: #333333\"/>\n     <use xlink:href=\"#m2578faeb42\" x=\"219.66118\" y=\"60.259652\" style=\"fill: #4c72b0; stroke: #333333\"/>\n     <use xlink:href=\"#m2578faeb42\" x=\"90.317141\" y=\"181.704494\" style=\"fill: #4c72b0; stroke: #333333\"/>\n     <use xlink:href=\"#m2578faeb42\" x=\"234.29747\" y=\"82.293166\" style=\"fill: #4c72b0; stroke: #333333\"/>\n     <use xlink:href=\"#m2578faeb42\" x=\"262.491222\" y=\"80.30153\" style=\"fill: #4c72b0; stroke: #333333\"/>\n     <use xlink:href=\"#m2578faeb42\" x=\"195.471369\" y=\"69.593845\" style=\"fill: #4c72b0; stroke: #333333\"/>\n     <use xlink:href=\"#m2578faeb42\" x=\"99.046866\" y=\"181.224056\" style=\"fill: #4c72b0; stroke: #333333\"/>\n     <use xlink:href=\"#m2578faeb42\" x=\"101.089369\" y=\"156.604385\" style=\"fill: #4c72b0; stroke: #333333\"/>\n     <use xlink:href=\"#m2578faeb42\" x=\"232.186063\" y=\"39.698583\" style=\"fill: #4c72b0; stroke: #333333\"/>\n     <use xlink:href=\"#m2578faeb42\" x=\"80.328927\" y=\"152.70583\" style=\"fill: #4c72b0; stroke: #333333\"/>\n     <use xlink:href=\"#m2578faeb42\" x=\"254.232733\" y=\"43.167458\" style=\"fill: #4c72b0; stroke: #333333\"/>\n     <use xlink:href=\"#m2578faeb42\" x=\"231.919528\" y=\"41.972672\" style=\"fill: #4c72b0; stroke: #333333\"/>\n     <use xlink:href=\"#m2578faeb42\" x=\"92.612844\" y=\"187.805326\" style=\"fill: #4c72b0; stroke: #333333\"/>\n     <use xlink:href=\"#m2578faeb42\" x=\"244.786397\" y=\"32.398125\" style=\"fill: #4c72b0; stroke: #333333\"/>\n     <use xlink:href=\"#m2578faeb42\" x=\"244.327295\" y=\"56.452079\" style=\"fill: #4c72b0; stroke: #333333\"/>\n     <use xlink:href=\"#m2578faeb42\" x=\"99.909738\" y=\"188.137513\" style=\"fill: #4c72b0; stroke: #333333\"/>\n     <use xlink:href=\"#m2578faeb42\" x=\"234.734665\" y=\"37.040463\" style=\"fill: #4c72b0; stroke: #333333\"/>\n     <use xlink:href=\"#m2578faeb42\" x=\"80.137668\" y=\"187.680442\" style=\"fill: #4c72b0; stroke: #333333\"/>\n     <use xlink:href=\"#m2578faeb42\" x=\"213.167796\" y=\"63.095283\" style=\"fill: #4c72b0; stroke: #333333\"/>\n     <use xlink:href=\"#m2578faeb42\" x=\"100.437745\" y=\"193.869012\" style=\"fill: #4c72b0; stroke: #333333\"/>\n     <use xlink:href=\"#m2578faeb42\" x=\"246.918982\" y=\"43.19604\" style=\"fill: #4c72b0; stroke: #333333\"/>\n     <use xlink:href=\"#m2578faeb42\" x=\"103.620185\" y=\"185.799322\" style=\"fill: #4c72b0; stroke: #333333\"/>\n     <use xlink:href=\"#m2578faeb42\" x=\"249.591889\" y=\"55.831877\" style=\"fill: #4c72b0; stroke: #333333\"/>\n     <use xlink:href=\"#m2578faeb42\" x=\"92.070129\" y=\"154.970361\" style=\"fill: #4c72b0; stroke: #333333\"/>\n     <use xlink:href=\"#m2578faeb42\" x=\"98.319839\" y=\"214.119438\" style=\"fill: #4c72b0; stroke: #333333\"/>\n     <use xlink:href=\"#m2578faeb42\" x=\"227.649686\" y=\"52.512968\" style=\"fill: #4c72b0; stroke: #333333\"/>\n     <use xlink:href=\"#m2578faeb42\" x=\"102.059426\" y=\"233.998125\" style=\"fill: #4c72b0; stroke: #333333\"/>\n     <use xlink:href=\"#m2578faeb42\" x=\"213.643345\" y=\"79.156165\" style=\"fill: #4c72b0; stroke: #333333\"/>\n     <use xlink:href=\"#m2578faeb42\" x=\"225.236043\" y=\"63.60417\" style=\"fill: #4c72b0; stroke: #333333\"/>\n     <use xlink:href=\"#m2578faeb42\" x=\"229.655011\" y=\"49.95067\" style=\"fill: #4c72b0; stroke: #333333\"/>\n     <use xlink:href=\"#m2578faeb42\" x=\"107.511102\" y=\"174.991333\" style=\"fill: #4c72b0; stroke: #333333\"/>\n     <use xlink:href=\"#m2578faeb42\" x=\"99.098055\" y=\"225.379697\" style=\"fill: #4c72b0; stroke: #333333\"/>\n     <use xlink:href=\"#m2578faeb42\" x=\"103.034288\" y=\"167.600035\" style=\"fill: #4c72b0; stroke: #333333\"/>\n     <use xlink:href=\"#m2578faeb42\" x=\"223.499808\" y=\"59.565267\" style=\"fill: #4c72b0; stroke: #333333\"/>\n     <use xlink:href=\"#m2578faeb42\" x=\"243.576789\" y=\"41.366785\" style=\"fill: #4c72b0; stroke: #333333\"/>\n    </g>\n   </g>\n   <g id=\"PathCollection_2\">\n    <defs>\n     <path id=\"m2289a32727\" d=\"M 0 3 \nC 0.795609 3 1.55874 2.683901 2.12132 2.12132 \nC 2.683901 1.55874 3 0.795609 3 0 \nC 3 -0.795609 2.683901 -1.55874 2.12132 -2.12132 \nC 1.55874 -2.683901 0.795609 -3 0 -3 \nC -0.795609 -3 -1.55874 -2.683901 -2.12132 -2.12132 \nC -2.683901 -1.55874 -3 -0.795609 -3 0 \nC -3 0.795609 -2.683901 1.55874 -2.12132 2.12132 \nC -1.55874 2.683901 -0.795609 3 0 3 \nz\n\" style=\"stroke: #333333\"/>\n    </defs>\n    <g clip-path=\"url(#pa54c6c609e)\">\n     <use xlink:href=\"#m2289a32727\" x=\"97.707877\" y=\"74.277594\" style=\"fill: #dd8452; stroke: #333333\"/>\n     <use xlink:href=\"#m2289a32727\" x=\"110.472228\" y=\"62.050463\" style=\"fill: #dd8452; stroke: #333333\"/>\n     <use xlink:href=\"#m2289a32727\" x=\"110.230481\" y=\"81.154153\" style=\"fill: #dd8452; stroke: #333333\"/>\n     <use xlink:href=\"#m2289a32727\" x=\"230.870608\" y=\"182.537255\" style=\"fill: #dd8452; stroke: #333333\"/>\n     <use xlink:href=\"#m2289a32727\" x=\"226.475429\" y=\"184.88045\" style=\"fill: #dd8452; stroke: #333333\"/>\n     <use xlink:href=\"#m2289a32727\" x=\"227.099732\" y=\"200.919936\" style=\"fill: #dd8452; stroke: #333333\"/>\n     <use xlink:href=\"#m2289a32727\" x=\"227.213822\" y=\"174.002894\" style=\"fill: #dd8452; stroke: #333333\"/>\n     <use xlink:href=\"#m2289a32727\" x=\"245.051625\" y=\"193.479523\" style=\"fill: #dd8452; stroke: #333333\"/>\n     <use xlink:href=\"#m2289a32727\" x=\"243.856086\" y=\"202.746513\" style=\"fill: #dd8452; stroke: #333333\"/>\n     <use xlink:href=\"#m2289a32727\" x=\"83.731091\" y=\"59.720626\" style=\"fill: #dd8452; stroke: #333333\"/>\n     <use xlink:href=\"#m2289a32727\" x=\"91.52903\" y=\"73.184917\" style=\"fill: #dd8452; stroke: #333333\"/>\n     <use xlink:href=\"#m2289a32727\" x=\"88.631348\" y=\"49.190105\" style=\"fill: #dd8452; stroke: #333333\"/>\n     <use xlink:href=\"#m2289a32727\" x=\"255.164342\" y=\"194.447098\" style=\"fill: #dd8452; stroke: #333333\"/>\n     <use xlink:href=\"#m2289a32727\" x=\"112.300125\" y=\"69.229475\" style=\"fill: #dd8452; stroke: #333333\"/>\n     <use xlink:href=\"#m2289a32727\" x=\"234.399852\" y=\"192.854339\" style=\"fill: #dd8452; stroke: #333333\"/>\n     <use xlink:href=\"#m2289a32727\" x=\"82.945756\" y=\"56.101185\" style=\"fill: #dd8452; stroke: #333333\"/>\n     <use xlink:href=\"#m2289a32727\" x=\"103.021791\" y=\"69.676911\" style=\"fill: #dd8452; stroke: #333333\"/>\n     <use xlink:href=\"#m2289a32727\" x=\"125.260171\" y=\"74.594575\" style=\"fill: #dd8452; stroke: #333333\"/>\n     <use xlink:href=\"#m2289a32727\" x=\"119.447633\" y=\"48.862684\" style=\"fill: #dd8452; stroke: #333333\"/>\n     <use xlink:href=\"#m2289a32727\" x=\"91.920078\" y=\"68.2361\" style=\"fill: #dd8452; stroke: #333333\"/>\n     <use xlink:href=\"#m2289a32727\" x=\"211.079781\" y=\"206.593153\" style=\"fill: #dd8452; stroke: #333333\"/>\n     <use xlink:href=\"#m2289a32727\" x=\"242.342465\" y=\"191.584103\" style=\"fill: #dd8452; stroke: #333333\"/>\n     <use xlink:href=\"#m2289a32727\" x=\"87.126728\" y=\"68.745651\" style=\"fill: #dd8452; stroke: #333333\"/>\n     <use xlink:href=\"#m2289a32727\" x=\"241.96051\" y=\"187.228976\" style=\"fill: #dd8452; stroke: #333333\"/>\n     <use xlink:href=\"#m2289a32727\" x=\"228.887417\" y=\"185.971276\" style=\"fill: #dd8452; stroke: #333333\"/>\n     <use xlink:href=\"#m2289a32727\" x=\"89.063209\" y=\"57.991906\" style=\"fill: #dd8452; stroke: #333333\"/>\n     <use xlink:href=\"#m2289a32727\" x=\"117.929482\" y=\"57.340813\" style=\"fill: #dd8452; stroke: #333333\"/>\n     <use xlink:href=\"#m2289a32727\" x=\"223.628705\" y=\"205.486065\" style=\"fill: #dd8452; stroke: #333333\"/>\n     <use xlink:href=\"#m2289a32727\" x=\"240.602595\" y=\"198.998954\" style=\"fill: #dd8452; stroke: #333333\"/>\n     <use xlink:href=\"#m2289a32727\" x=\"235.983496\" y=\"197.974529\" style=\"fill: #dd8452; stroke: #333333\"/>\n     <use xlink:href=\"#m2289a32727\" x=\"72.995303\" y=\"58.919931\" style=\"fill: #dd8452; stroke: #333333\"/>\n     <use xlink:href=\"#m2289a32727\" x=\"207.428577\" y=\"201.364856\" style=\"fill: #dd8452; stroke: #333333\"/>\n     <use xlink:href=\"#m2289a32727\" x=\"243.931627\" y=\"184.280495\" style=\"fill: #dd8452; stroke: #333333\"/>\n     <use xlink:href=\"#m2289a32727\" x=\"247.25373\" y=\"184.736408\" style=\"fill: #dd8452; stroke: #333333\"/>\n     <use xlink:href=\"#m2289a32727\" x=\"209.846966\" y=\"194.507316\" style=\"fill: #dd8452; stroke: #333333\"/>\n     <use xlink:href=\"#m2289a32727\" x=\"88.893559\" y=\"70.629152\" style=\"fill: #dd8452; stroke: #333333\"/>\n     <use xlink:href=\"#m2289a32727\" x=\"112.602715\" y=\"36.628846\" style=\"fill: #dd8452; stroke: #333333\"/>\n     <use xlink:href=\"#m2289a32727\" x=\"69.170298\" y=\"65.631451\" style=\"fill: #dd8452; stroke: #333333\"/>\n     <use xlink:href=\"#m2289a32727\" x=\"84.072423\" y=\"60.604077\" style=\"fill: #dd8452; stroke: #333333\"/>\n     <use xlink:href=\"#m2289a32727\" x=\"236.209518\" y=\"195.97667\" style=\"fill: #dd8452; stroke: #333333\"/>\n     <use xlink:href=\"#m2289a32727\" x=\"237.631095\" y=\"198.815972\" style=\"fill: #dd8452; stroke: #333333\"/>\n     <use xlink:href=\"#m2289a32727\" x=\"103.822857\" y=\"51.528728\" style=\"fill: #dd8452; stroke: #333333\"/>\n     <use xlink:href=\"#m2289a32727\" x=\"249.376708\" y=\"192.619354\" style=\"fill: #dd8452; stroke: #333333\"/>\n     <use xlink:href=\"#m2289a32727\" x=\"104.621699\" y=\"68.165887\" style=\"fill: #dd8452; stroke: #333333\"/>\n     <use xlink:href=\"#m2289a32727\" x=\"227.507716\" y=\"163.854384\" style=\"fill: #dd8452; stroke: #333333\"/>\n     <use xlink:href=\"#m2289a32727\" x=\"243.559165\" y=\"192.394335\" style=\"fill: #dd8452; stroke: #333333\"/>\n     <use xlink:href=\"#m2289a32727\" x=\"93.120406\" y=\"63.530358\" style=\"fill: #dd8452; stroke: #333333\"/>\n     <use xlink:href=\"#m2289a32727\" x=\"107.555806\" y=\"62.328043\" style=\"fill: #dd8452; stroke: #333333\"/>\n     <use xlink:href=\"#m2289a32727\" x=\"104.153086\" y=\"76.079563\" style=\"fill: #dd8452; stroke: #333333\"/>\n     <use xlink:href=\"#m2289a32727\" x=\"242.18275\" y=\"190.723894\" style=\"fill: #dd8452; stroke: #333333\"/>\n     <use xlink:href=\"#m2289a32727\" x=\"207.994929\" y=\"161.982493\" style=\"fill: #dd8452; stroke: #333333\"/>\n     <use xlink:href=\"#m2289a32727\" x=\"221.952416\" y=\"170.964875\" style=\"fill: #dd8452; stroke: #333333\"/>\n     <use xlink:href=\"#m2289a32727\" x=\"255.289216\" y=\"193.886843\" style=\"fill: #dd8452; stroke: #333333\"/>\n     <use xlink:href=\"#m2289a32727\" x=\"87.821677\" y=\"65.894376\" style=\"fill: #dd8452; stroke: #333333\"/>\n     <use xlink:href=\"#m2289a32727\" x=\"100.530229\" y=\"53.43726\" style=\"fill: #dd8452; stroke: #333333\"/>\n     <use xlink:href=\"#m2289a32727\" x=\"216.09402\" y=\"193.353951\" style=\"fill: #dd8452; stroke: #333333\"/>\n     <use xlink:href=\"#m2289a32727\" x=\"259.553232\" y=\"188.361338\" style=\"fill: #dd8452; stroke: #333333\"/>\n     <use xlink:href=\"#m2289a32727\" x=\"99.074017\" y=\"70.270507\" style=\"fill: #dd8452; stroke: #333333\"/>\n     <use xlink:href=\"#m2289a32727\" x=\"214.97231\" y=\"168.936207\" style=\"fill: #dd8452; stroke: #333333\"/>\n     <use xlink:href=\"#m2289a32727\" x=\"232.488802\" y=\"194.92249\" style=\"fill: #dd8452; stroke: #333333\"/>\n     <use xlink:href=\"#m2289a32727\" x=\"91.728229\" y=\"69.316313\" style=\"fill: #dd8452; stroke: #333333\"/>\n     <use xlink:href=\"#m2289a32727\" x=\"230.370441\" y=\"221.667297\" style=\"fill: #dd8452; stroke: #333333\"/>\n     <use xlink:href=\"#m2289a32727\" x=\"98.565263\" y=\"45.644785\" style=\"fill: #dd8452; stroke: #333333\"/>\n     <use xlink:href=\"#m2289a32727\" x=\"84.39008\" y=\"61.384794\" style=\"fill: #dd8452; stroke: #333333\"/>\n     <use xlink:href=\"#m2289a32727\" x=\"99.260136\" y=\"75.811561\" style=\"fill: #dd8452; stroke: #333333\"/>\n     <use xlink:href=\"#m2289a32727\" x=\"90.160316\" y=\"47.386537\" style=\"fill: #dd8452; stroke: #333333\"/>\n     <use xlink:href=\"#m2289a32727\" x=\"101.175609\" y=\"67.745056\" style=\"fill: #dd8452; stroke: #333333\"/>\n     <use xlink:href=\"#m2289a32727\" x=\"240.627472\" y=\"215.540722\" style=\"fill: #dd8452; stroke: #333333\"/>\n     <use xlink:href=\"#m2289a32727\" x=\"244.915035\" y=\"196.424549\" style=\"fill: #dd8452; stroke: #333333\"/>\n     <use xlink:href=\"#m2289a32727\" x=\"99.431681\" y=\"50.347071\" style=\"fill: #dd8452; stroke: #333333\"/>\n     <use xlink:href=\"#m2289a32727\" x=\"103.25249\" y=\"64.26023\" style=\"fill: #dd8452; stroke: #333333\"/>\n     <use xlink:href=\"#m2289a32727\" x=\"232.020482\" y=\"198.402357\" style=\"fill: #dd8452; stroke: #333333\"/>\n     <use xlink:href=\"#m2289a32727\" x=\"116.952984\" y=\"69.536634\" style=\"fill: #dd8452; stroke: #333333\"/>\n     <use xlink:href=\"#m2289a32727\" x=\"115.698151\" y=\"48.805077\" style=\"fill: #dd8452; stroke: #333333\"/>\n     <use xlink:href=\"#m2289a32727\" x=\"237.884574\" y=\"186.925512\" style=\"fill: #dd8452; stroke: #333333\"/>\n     <use xlink:href=\"#m2289a32727\" x=\"226.953843\" y=\"205.984819\" style=\"fill: #dd8452; stroke: #333333\"/>\n     <use xlink:href=\"#m2289a32727\" x=\"214.930328\" y=\"192.735194\" style=\"fill: #dd8452; stroke: #333333\"/>\n     <use xlink:href=\"#m2289a32727\" x=\"91.846697\" y=\"69.592936\" style=\"fill: #dd8452; stroke: #333333\"/>\n     <use xlink:href=\"#m2289a32727\" x=\"110.975082\" y=\"43.237845\" style=\"fill: #dd8452; stroke: #333333\"/>\n     <use xlink:href=\"#m2289a32727\" x=\"246.56231\" y=\"191.470636\" style=\"fill: #dd8452; stroke: #333333\"/>\n     <use xlink:href=\"#m2289a32727\" x=\"238.168334\" y=\"212.203844\" style=\"fill: #dd8452; stroke: #333333\"/>\n     <use xlink:href=\"#m2289a32727\" x=\"101.294227\" y=\"48.626703\" style=\"fill: #dd8452; stroke: #333333\"/>\n     <use xlink:href=\"#m2289a32727\" x=\"86.349181\" y=\"79.13009\" style=\"fill: #dd8452; stroke: #333333\"/>\n     <use xlink:href=\"#m2289a32727\" x=\"78.837921\" y=\"34.20106\" style=\"fill: #dd8452; stroke: #333333\"/>\n     <use xlink:href=\"#m2289a32727\" x=\"257.575121\" y=\"205.924264\" style=\"fill: #dd8452; stroke: #333333\"/>\n     <use xlink:href=\"#m2289a32727\" x=\"216.660599\" y=\"223.386795\" style=\"fill: #dd8452; stroke: #333333\"/>\n     <use xlink:href=\"#m2289a32727\" x=\"97.357907\" y=\"71.428518\" style=\"fill: #dd8452; stroke: #333333\"/>\n     <use xlink:href=\"#m2289a32727\" x=\"210.911644\" y=\"188.780016\" style=\"fill: #dd8452; stroke: #333333\"/>\n     <use xlink:href=\"#m2289a32727\" x=\"244.722833\" y=\"182.251102\" style=\"fill: #dd8452; stroke: #333333\"/>\n     <use xlink:href=\"#m2289a32727\" x=\"123.086743\" y=\"52.283362\" style=\"fill: #dd8452; stroke: #333333\"/>\n     <use xlink:href=\"#m2289a32727\" x=\"87.583698\" y=\"65.277251\" style=\"fill: #dd8452; stroke: #333333\"/>\n     <use xlink:href=\"#m2289a32727\" x=\"240.625168\" y=\"203.739961\" style=\"fill: #dd8452; stroke: #333333\"/>\n     <use xlink:href=\"#m2289a32727\" x=\"227.090912\" y=\"184.861104\" style=\"fill: #dd8452; stroke: #333333\"/>\n     <use xlink:href=\"#m2289a32727\" x=\"223.061168\" y=\"205.442457\" style=\"fill: #dd8452; stroke: #333333\"/>\n     <use xlink:href=\"#m2289a32727\" x=\"97.601934\" y=\"59.092626\" style=\"fill: #dd8452; stroke: #333333\"/>\n     <use xlink:href=\"#m2289a32727\" x=\"76.664759\" y=\"55.542482\" style=\"fill: #dd8452; stroke: #333333\"/>\n     <use xlink:href=\"#m2289a32727\" x=\"242.803856\" y=\"194.678484\" style=\"fill: #dd8452; stroke: #333333\"/>\n    </g>\n   </g>\n   <g id=\"patch_3\">\n    <path d=\"M 59.024844 244.078125 \nL 59.024844 22.318125 \n\" style=\"fill: none; stroke: #ffffff; stroke-width: 1.25; stroke-linejoin: miter; stroke-linecap: square\"/>\n   </g>\n   <g id=\"patch_4\">\n    <path d=\"M 282.224844 244.078125 \nL 282.224844 22.318125 \n\" style=\"fill: none; stroke: #ffffff; stroke-width: 1.25; stroke-linejoin: miter; stroke-linecap: square\"/>\n   </g>\n   <g id=\"patch_5\">\n    <path d=\"M 59.024844 244.078125 \nL 282.224844 244.078125 \n\" style=\"fill: none; stroke: #ffffff; stroke-width: 1.25; stroke-linejoin: miter; stroke-linecap: square\"/>\n   </g>\n   <g id=\"patch_6\">\n    <path d=\"M 59.024844 22.318125 \nL 282.224844 22.318125 \n\" style=\"fill: none; stroke: #ffffff; stroke-width: 1.25; stroke-linejoin: miter; stroke-linecap: square\"/>\n   </g>\n   <g id=\"text_14\">\n    <!-- Dataset samples -->\n    <g style=\"fill: #262626\" transform=\"translate(120.282031 16.318125) scale(0.12 -0.12)\">\n     <defs>\n      <path id=\"DejaVuSans-44\" d=\"M 1259 4147 \nL 1259 519 \nL 2022 519 \nQ 2988 519 3436 956 \nQ 3884 1394 3884 2338 \nQ 3884 3275 3436 3711 \nQ 2988 4147 2022 4147 \nL 1259 4147 \nz\nM 628 4666 \nL 1925 4666 \nQ 3281 4666 3915 4102 \nQ 4550 3538 4550 2338 \nQ 4550 1131 3912 565 \nQ 3275 0 1925 0 \nL 628 0 \nL 628 4666 \nz\n\" transform=\"scale(0.015625)\"/>\n      <path id=\"DejaVuSans-61\" d=\"M 2194 1759 \nQ 1497 1759 1228 1600 \nQ 959 1441 959 1056 \nQ 959 750 1161 570 \nQ 1363 391 1709 391 \nQ 2188 391 2477 730 \nQ 2766 1069 2766 1631 \nL 2766 1759 \nL 2194 1759 \nz\nM 3341 1997 \nL 3341 0 \nL 2766 0 \nL 2766 531 \nQ 2569 213 2275 61 \nQ 1981 -91 1556 -91 \nQ 1019 -91 701 211 \nQ 384 513 384 1019 \nQ 384 1609 779 1909 \nQ 1175 2209 1959 2209 \nL 2766 2209 \nL 2766 2266 \nQ 2766 2663 2505 2880 \nQ 2244 3097 1772 3097 \nQ 1472 3097 1187 3025 \nQ 903 2953 641 2809 \nL 641 3341 \nQ 956 3463 1253 3523 \nQ 1550 3584 1831 3584 \nQ 2591 3584 2966 3190 \nQ 3341 2797 3341 1997 \nz\n\" transform=\"scale(0.015625)\"/>\n      <path id=\"DejaVuSans-74\" d=\"M 1172 4494 \nL 1172 3500 \nL 2356 3500 \nL 2356 3053 \nL 1172 3053 \nL 1172 1153 \nQ 1172 725 1289 603 \nQ 1406 481 1766 481 \nL 2356 481 \nL 2356 0 \nL 1766 0 \nQ 1100 0 847 248 \nQ 594 497 594 1153 \nL 594 3053 \nL 172 3053 \nL 172 3500 \nL 594 3500 \nL 594 4494 \nL 1172 4494 \nz\n\" transform=\"scale(0.015625)\"/>\n      <path id=\"DejaVuSans-73\" d=\"M 2834 3397 \nL 2834 2853 \nQ 2591 2978 2328 3040 \nQ 2066 3103 1784 3103 \nQ 1356 3103 1142 2972 \nQ 928 2841 928 2578 \nQ 928 2378 1081 2264 \nQ 1234 2150 1697 2047 \nL 1894 2003 \nQ 2506 1872 2764 1633 \nQ 3022 1394 3022 966 \nQ 3022 478 2636 193 \nQ 2250 -91 1575 -91 \nQ 1294 -91 989 -36 \nQ 684 19 347 128 \nL 347 722 \nQ 666 556 975 473 \nQ 1284 391 1588 391 \nQ 1994 391 2212 530 \nQ 2431 669 2431 922 \nQ 2431 1156 2273 1281 \nQ 2116 1406 1581 1522 \nL 1381 1569 \nQ 847 1681 609 1914 \nQ 372 2147 372 2553 \nQ 372 3047 722 3315 \nQ 1072 3584 1716 3584 \nQ 2034 3584 2315 3537 \nQ 2597 3491 2834 3397 \nz\n\" transform=\"scale(0.015625)\"/>\n      <path id=\"DejaVuSans-65\" d=\"M 3597 1894 \nL 3597 1613 \nL 953 1613 \nQ 991 1019 1311 708 \nQ 1631 397 2203 397 \nQ 2534 397 2845 478 \nQ 3156 559 3463 722 \nL 3463 178 \nQ 3153 47 2828 -22 \nQ 2503 -91 2169 -91 \nQ 1331 -91 842 396 \nQ 353 884 353 1716 \nQ 353 2575 817 3079 \nQ 1281 3584 2069 3584 \nQ 2775 3584 3186 3129 \nQ 3597 2675 3597 1894 \nz\nM 3022 2063 \nQ 3016 2534 2758 2815 \nQ 2500 3097 2075 3097 \nQ 1594 3097 1305 2825 \nQ 1016 2553 972 2059 \nL 3022 2063 \nz\n\" transform=\"scale(0.015625)\"/>\n      <path id=\"DejaVuSans-20\" transform=\"scale(0.015625)\"/>\n      <path id=\"DejaVuSans-6d\" d=\"M 3328 2828 \nQ 3544 3216 3844 3400 \nQ 4144 3584 4550 3584 \nQ 5097 3584 5394 3201 \nQ 5691 2819 5691 2113 \nL 5691 0 \nL 5113 0 \nL 5113 2094 \nQ 5113 2597 4934 2840 \nQ 4756 3084 4391 3084 \nQ 3944 3084 3684 2787 \nQ 3425 2491 3425 1978 \nL 3425 0 \nL 2847 0 \nL 2847 2094 \nQ 2847 2600 2669 2842 \nQ 2491 3084 2119 3084 \nQ 1678 3084 1418 2786 \nQ 1159 2488 1159 1978 \nL 1159 0 \nL 581 0 \nL 581 3500 \nL 1159 3500 \nL 1159 2956 \nQ 1356 3278 1631 3431 \nQ 1906 3584 2284 3584 \nQ 2666 3584 2933 3390 \nQ 3200 3197 3328 2828 \nz\n\" transform=\"scale(0.015625)\"/>\n      <path id=\"DejaVuSans-70\" d=\"M 1159 525 \nL 1159 -1331 \nL 581 -1331 \nL 581 3500 \nL 1159 3500 \nL 1159 2969 \nQ 1341 3281 1617 3432 \nQ 1894 3584 2278 3584 \nQ 2916 3584 3314 3078 \nQ 3713 2572 3713 1747 \nQ 3713 922 3314 415 \nQ 2916 -91 2278 -91 \nQ 1894 -91 1617 61 \nQ 1341 213 1159 525 \nz\nM 3116 1747 \nQ 3116 2381 2855 2742 \nQ 2594 3103 2138 3103 \nQ 1681 3103 1420 2742 \nQ 1159 2381 1159 1747 \nQ 1159 1113 1420 752 \nQ 1681 391 2138 391 \nQ 2594 391 2855 752 \nQ 3116 1113 3116 1747 \nz\n\" transform=\"scale(0.015625)\"/>\n      <path id=\"DejaVuSans-6c\" d=\"M 603 4863 \nL 1178 4863 \nL 1178 0 \nL 603 0 \nL 603 4863 \nz\n\" transform=\"scale(0.015625)\"/>\n     </defs>\n     <use xlink:href=\"#DejaVuSans-44\"/>\n     <use xlink:href=\"#DejaVuSans-61\" x=\"77.001953\"/>\n     <use xlink:href=\"#DejaVuSans-74\" x=\"138.28125\"/>\n     <use xlink:href=\"#DejaVuSans-61\" x=\"177.490234\"/>\n     <use xlink:href=\"#DejaVuSans-73\" x=\"238.769531\"/>\n     <use xlink:href=\"#DejaVuSans-65\" x=\"290.869141\"/>\n     <use xlink:href=\"#DejaVuSans-74\" x=\"352.392578\"/>\n     <use xlink:href=\"#DejaVuSans-20\" x=\"391.601562\"/>\n     <use xlink:href=\"#DejaVuSans-73\" x=\"423.388672\"/>\n     <use xlink:href=\"#DejaVuSans-61\" x=\"475.488281\"/>\n     <use xlink:href=\"#DejaVuSans-6d\" x=\"536.767578\"/>\n     <use xlink:href=\"#DejaVuSans-70\" x=\"634.179688\"/>\n     <use xlink:href=\"#DejaVuSans-6c\" x=\"697.65625\"/>\n     <use xlink:href=\"#DejaVuSans-65\" x=\"725.439453\"/>\n     <use xlink:href=\"#DejaVuSans-73\" x=\"786.962891\"/>\n    </g>\n   </g>\n   <g id=\"legend_1\">\n    <g id=\"patch_7\">\n     <path d=\"M 199.891562 150.994063 \nL 274.524844 150.994063 \nQ 276.724844 150.994063 276.724844 148.794063 \nL 276.724844 117.602188 \nQ 276.724844 115.402188 274.524844 115.402188 \nL 199.891562 115.402188 \nQ 197.691562 115.402188 197.691562 117.602188 \nL 197.691562 148.794063 \nQ 197.691562 150.994063 199.891562 150.994063 \nz\n\" style=\"fill: #eaeaf2; opacity: 0.8; stroke: #cccccc; stroke-linejoin: miter\"/>\n    </g>\n    <g id=\"PathCollection_3\">\n     <g>\n      <use xlink:href=\"#m2578faeb42\" x=\"213.091562\" y=\"125.272969\" style=\"fill: #4c72b0; stroke: #333333\"/>\n     </g>\n    </g>\n    <g id=\"text_15\">\n     <!-- Class 0 -->\n     <g style=\"fill: #262626\" transform=\"translate(232.891562 128.160469) scale(0.11 -0.11)\">\n      <defs>\n       <path id=\"DejaVuSans-43\" d=\"M 4122 4306 \nL 4122 3641 \nQ 3803 3938 3442 4084 \nQ 3081 4231 2675 4231 \nQ 1875 4231 1450 3742 \nQ 1025 3253 1025 2328 \nQ 1025 1406 1450 917 \nQ 1875 428 2675 428 \nQ 3081 428 3442 575 \nQ 3803 722 4122 1019 \nL 4122 359 \nQ 3791 134 3420 21 \nQ 3050 -91 2638 -91 \nQ 1578 -91 968 557 \nQ 359 1206 359 2328 \nQ 359 3453 968 4101 \nQ 1578 4750 2638 4750 \nQ 3056 4750 3426 4639 \nQ 3797 4528 4122 4306 \nz\n\" transform=\"scale(0.015625)\"/>\n      </defs>\n      <use xlink:href=\"#DejaVuSans-43\"/>\n      <use xlink:href=\"#DejaVuSans-6c\" x=\"69.824219\"/>\n      <use xlink:href=\"#DejaVuSans-61\" x=\"97.607422\"/>\n      <use xlink:href=\"#DejaVuSans-73\" x=\"158.886719\"/>\n      <use xlink:href=\"#DejaVuSans-73\" x=\"210.986328\"/>\n      <use xlink:href=\"#DejaVuSans-20\" x=\"263.085938\"/>\n      <use xlink:href=\"#DejaVuSans-30\" x=\"294.873047\"/>\n     </g>\n    </g>\n    <g id=\"PathCollection_4\">\n     <g>\n      <use xlink:href=\"#m2289a32727\" x=\"213.091562\" y=\"141.418906\" style=\"fill: #dd8452; stroke: #333333\"/>\n     </g>\n    </g>\n    <g id=\"text_16\">\n     <!-- Class 1 -->\n     <g style=\"fill: #262626\" transform=\"translate(232.891562 144.306406) scale(0.11 -0.11)\">\n      <use xlink:href=\"#DejaVuSans-43\"/>\n      <use xlink:href=\"#DejaVuSans-6c\" x=\"69.824219\"/>\n      <use xlink:href=\"#DejaVuSans-61\" x=\"97.607422\"/>\n      <use xlink:href=\"#DejaVuSans-73\" x=\"158.886719\"/>\n      <use xlink:href=\"#DejaVuSans-73\" x=\"210.986328\"/>\n      <use xlink:href=\"#DejaVuSans-20\" x=\"263.085938\"/>\n      <use xlink:href=\"#DejaVuSans-31\" x=\"294.873047\"/>\n     </g>\n    </g>\n   </g>\n  </g>\n </g>\n <defs>\n  <clipPath id=\"pa54c6c609e\">\n   <rect x=\"59.024844\" y=\"22.318125\" width=\"223.2\" height=\"221.76\"/>\n  </clipPath>\n </defs>\n</svg>\n",
            "application/pdf": "[encoded data removed]"
          },
          "metadata": {}
        }
      ],
      "source": [
        "visualize_samples(dataset.data, dataset.label)\n",
        "plt.show()"
      ]
    },
    {
      "cell_type": "markdown",
      "metadata": {
        "id": "PvjuLWd_3e1X"
      },
      "source": [
        "#### The data loader class\n",
        "\n",
        "The class `torch.utils.data.DataLoader` represents a Python iterable over a dataset with support for automatic batching, multi-process data loading and many more features. The data loader communicates with the dataset using the function `__getitem__`, and stacks its outputs as tensors over the first dimension to form a batch.\n",
        "In contrast to the dataset class, we usually don't have to define our own data loader class, but can just create an object of it with the dataset as input. Additionally, we can configure our data loader with the following input arguments (only a selection, see full list [here](https://pytorch.org/docs/stable/data.html#torch.utils.data.DataLoader)):\n",
        "\n",
        "* `batch_size`: Number of samples to stack per batch\n",
        "* `shuffle`: If True, the data is returned in a random order. This is important during training for introducing stochasticity.\n",
        "* `num_workers`: Number of subprocesses to use for data loading. The default, 0, means that the data will be loaded in the main process which can slow down training for datasets where loading a data point takes a considerable amount of time (e.g. large images). More workers are recommended for those, but can cause issues on Windows computers. For tiny datasets as ours, 0 workers are usually faster.\n",
        "* `pin_memory`: If True, the data loader will copy Tensors into CUDA pinned memory before returning them. This can save some time for large data points on GPUs. Usually a good practice to use for a training set, but not necessarily for validation and test to save memory on the GPU.\n",
        "* `drop_last`: If True, the last batch is dropped in case it is smaller than the specified batch size. This occurs when the dataset size is not a multiple of the batch size. Only potentially helpful during training to keep a consistent batch size.\n",
        "\n",
        "Let's create a simple data loader below:"
      ]
    },
    {
      "cell_type": "code",
      "execution_count": 17,
      "metadata": {
        "id": "xvJ3OFsh3e1X"
      },
      "outputs": [],
      "source": [
        "data_loader = data.DataLoader(dataset, batch_size=8, shuffle=True)"
      ]
    },
    {
      "cell_type": "code",
      "execution_count": 18,
      "metadata": {
        "id": "oYE8R1pD3e1X",
        "outputId": "a9482d66-c18e-46f9-93d0-305f3685e052",
        "colab": {
          "base_uri": "https://localhost:8080/"
        }
      },
      "outputs": [
        {
          "output_type": "stream",
          "name": "stdout",
          "text": [
            "Data inputs torch.Size([8, 2]) \n",
            " tensor([[ 0.1413,  1.0954],\n",
            "        [ 1.1211,  0.0088],\n",
            "        [ 1.0335, -0.0505],\n",
            "        [ 0.9791, -0.0480],\n",
            "        [ 0.9316,  0.9757],\n",
            "        [-0.0650,  0.1779],\n",
            "        [-0.0932,  1.0689],\n",
            "        [ 0.0979, -0.0166]])\n",
            "Data labels torch.Size([8]) \n",
            " tensor([1, 1, 1, 1, 0, 0, 1, 0])\n"
          ]
        }
      ],
      "source": [
        "# next(iter(...)) catches the first batch of the data loader\n",
        "# If shuffle is True, this will return a different batch every time we run this cell\n",
        "# For iterating over the whole dataset, we can simple use \"for batch in data_loader: ...\"\n",
        "data_inputs, data_labels = next(iter(data_loader))\n",
        "\n",
        "# The shape of the outputs are [batch_size, d_1,...,d_N] where d_1,...,d_N are the\n",
        "# dimensions of the data point returned from the dataset class\n",
        "print(\"Data inputs\", data_inputs.shape, \"\\n\", data_inputs)\n",
        "print(\"Data labels\", data_labels.shape, \"\\n\", data_labels)"
      ]
    },
    {
      "cell_type": "markdown",
      "metadata": {
        "id": "PSbwYcgJ3e1Y"
      },
      "source": [
        "### Optimization\n",
        "\n",
        "After defining the model and the dataset, it is time to prepare the optimization of the model. During training, we will perform the following steps:\n",
        "\n",
        "1. Get a batch from the data loader\n",
        "2. Obtain the predictions from the model for the batch\n",
        "3. Calculate the loss based on the difference between predictions and labels\n",
        "4. Backpropagation: calculate the gradients for every parameter with respect to the loss\n",
        "5. Update the parameters of the model in the direction of the gradients\n",
        "\n",
        "We have seen how we can do step 1, 2 and 4 in PyTorch. Now, we will look at step 3 and 5."
      ]
    },
    {
      "cell_type": "markdown",
      "metadata": {
        "id": "vCbm44Wn3e1Y"
      },
      "source": [
        "#### Loss modules\n",
        "\n",
        "We can calculate the loss for a batch by simply performing a few tensor operations as those are automatically added to the computation graph. For instance, for binary classification, we can use Binary Cross Entropy (BCE) which is defined as follows:\n",
        "\n",
        "$$\\mathcal{L}_{BCE} = \\sum_i y_i \\log x_i + (1 - y_i) \\log (1 - x_i)$$\n",
        "\n",
        "where $y$ are our labels, and $x$ our predictions, both in the range of $[0,1]$. However, PyTorch already provides a list of predefined loss functions which we can use (see [here](https://pytorch.org/docs/stable/nn.html#loss-functions) for a full list). For instance, for BCE, PyTorch has two modules: `nn.BCELoss()`, `nn.BCEWithLogitsLoss()`. While `nn.BCELoss` expects the inputs $x$ to be in the range $[0,1]$, i.e. the output of a sigmoid, `nn.BCEWithLogitsLoss` combines a sigmoid layer and the BCE loss in a single class. This version is numerically more stable than using a plain Sigmoid followed by a BCE loss because of the logarithms applied in the loss function. Hence, it is adviced to use loss functions applied on \"logits\" where possible (remember to not apply a sigmoid on the output of the model in this case!). For our model defined above, we therefore use the module `nn.BCEWithLogitsLoss`."
      ]
    },
    {
      "cell_type": "code",
      "source": [
        "import torch.nn as nn"
      ],
      "metadata": {
        "id": "-EzV8RmX5C20"
      },
      "execution_count": 20,
      "outputs": []
    },
    {
      "cell_type": "code",
      "execution_count": 21,
      "metadata": {
        "id": "rP-s7hPq3e1Y"
      },
      "outputs": [],
      "source": [
        "loss_module = nn.BCEWithLogitsLoss()"
      ]
    },
    {
      "cell_type": "markdown",
      "metadata": {
        "id": "VhaB--Pq3e1Z"
      },
      "source": [
        "#### Stochastic Gradient Descent\n",
        "\n",
        "For updating the parameters, PyTorch provides the package `torch.optim` that has most popular optimizers implemented. We will discuss the specific optimizers and their differences later in the course, but will for now use the simplest of them: `torch.optim.SGD`. Stochastic Gradient Descent updates parameters by multiplying the gradients with a small constant, called learning rate, and subtracting those from the parameters (hence minimizing the loss). Therefore, we slowly move towards the direction of minimizing the loss. A good default value of the learning rate for a small network as ours is 0.1."
      ]
    },
    {
      "cell_type": "code",
      "execution_count": 25,
      "metadata": {
        "id": "zx5gNIV03e1Z"
      },
      "outputs": [],
      "source": [
        "# Input to the optimizer are the parameters of the model: model.parameters()\n",
        "optimizer = torch.optim.SGD(model.parameters(), lr=0.1)"
      ]
    },
    {
      "cell_type": "markdown",
      "metadata": {
        "id": "mg-e8wQj3e1Z"
      },
      "source": [
        "The optimizer provides two useful functions: `optimizer.step()`, and `optimizer.zero_grad()`. The step function updates the parameters based on the gradients as explained above. The function `optimizer.zero_grad()` sets the gradients of all parameters to zero. While this function seems less relevant at first, it is a crucial pre-step before performing backpropagation. If we would call the `backward` function on the loss while the parameter gradients are non-zero from the previous batch, the new gradients would actually be added to the previous ones instead of overwriting them. This is done because a parameter might occur multiple times in a computation graph, and we need to sum the gradients in this case instead of replacing them. Hence, remember to call `optimizer.zero_grad()` before calculating the gradients of a batch."
      ]
    },
    {
      "cell_type": "markdown",
      "metadata": {
        "id": "zlW3Jd273e1Z"
      },
      "source": [
        "### Training\n",
        "\n",
        "Finally, we are ready to train our model. As a first step, we create a slightly larger dataset and specify a data loader with a larger batch size."
      ]
    },
    {
      "cell_type": "code",
      "execution_count": 26,
      "metadata": {
        "id": "RK_LoMy83e1a"
      },
      "outputs": [],
      "source": [
        "train_dataset = XORDataset(size=1000)\n",
        "train_data_loader = data.DataLoader(train_dataset, batch_size=128, shuffle=True)"
      ]
    },
    {
      "cell_type": "markdown",
      "metadata": {
        "id": "-bd9zFoK3e1a"
      },
      "source": [
        "Now, we can write a small training function. Remember our five steps: load a batch, obtain the predictions, calculate the loss, backpropagate, and update. Additionally, we have to push all data and model parameters to the device of our choice (GPU if available). For the tiny neural network we have, communicating the data to the GPU actually takes much more time than we could save from running the operation on GPU. For large networks, the communication time is significantly smaller than the actual runtime making a GPU crucial in these cases. Still, to practice, we will push the data to GPU here."
      ]
    },
    {
      "cell_type": "code",
      "execution_count": 30,
      "metadata": {
        "id": "MFZT75A-3e1b",
        "outputId": "2105bac1-8a06-4a25-aec4-29c52f89bd0f",
        "colab": {
          "base_uri": "https://localhost:8080/"
        }
      },
      "outputs": [
        {
          "output_type": "execute_result",
          "data": {
            "text/plain": [
              "SimpleClassifier(\n",
              "  (linear1): Linear(in_features=2, out_features=4, bias=True)\n",
              "  (linear2): Linear(in_features=4, out_features=1, bias=True)\n",
              "  (act_fn): Tanh()\n",
              ")"
            ]
          },
          "metadata": {},
          "execution_count": 30
        }
      ],
      "source": [
        "# Push model to device. Has to be only done once\n",
        "model.to(device)"
      ]
    },
    {
      "cell_type": "markdown",
      "metadata": {
        "id": "r-RqLsLn3e1c"
      },
      "source": [
        "In addition, we set our model to training mode. This is done by calling `model.train()`. There exist certain modules that need to perform a different forward step during training than during testing (e.g. BatchNorm and Dropout), and we can switch between them using `model.train()` and `model.eval()`."
      ]
    },
    {
      "cell_type": "code",
      "execution_count": 32,
      "metadata": {
        "id": "X0_YWurb3e1c"
      },
      "outputs": [],
      "source": [
        "def train_model(model, optimizer, data_loader, loss_module, num_epochs=100):\n",
        "    # Set model to train mode\n",
        "    model.train()\n",
        "\n",
        "    # Training loop\n",
        "    for epoch in tqdm(range(num_epochs)):\n",
        "        for data_inputs, data_labels in data_loader:\n",
        "\n",
        "            ## TODO: Step 1 - Move input data to device\n",
        "            data_inputs, data_labels = data_inputs.to(device), data_labels.to(device)\n",
        "\n",
        "            ## TODO: Step 2 - Run the model on the input data\n",
        "            preds = model(data_inputs)\n",
        "            preds = preds.squeeze(dim=1) # Output is [Batch size, 1], but we want [Batch size]\n",
        "\n",
        "            ## TODO: Step 3 - Calculate the loss using the module loss_module\n",
        "            loss = loss_module(preds, data_labels.float())\n",
        "\n",
        "            ## TODO: Step 4 - Perform backpropagation\n",
        "            # Before calculating the gradients, we need to ensure that they are all zero.\n",
        "            # The gradients would not be overwritten, but actually added to the existing ones.\n",
        "            optimizer.zero_grad()\n",
        "            # Perform backpropagation\n",
        "            loss.backward()\n",
        "\n",
        "            ## TODO: Step 5 - Update parameters\n",
        "            optimizer.step()"
      ]
    },
    {
      "cell_type": "code",
      "execution_count": 33,
      "metadata": {
        "id": "jF2Jcumm3e1d",
        "outputId": "3933ce97-7ce2-4a94-d757-f251dcb4ee6f",
        "colab": {
          "base_uri": "https://localhost:8080/",
          "height": 49,
          "referenced_widgets": [
            "f0a5fcf76f11477885b9ab995f84b56f",
            "2d970e63607d427dad061a39677ea76a",
            "24575a945bdf4bf9bec7084afaa1a963",
            "2f893fb0e9134971b25a8d96664ba98c",
            "821af48aff5c434c96af79372358a0f3",
            "3e1faf98ffa94a09855bcb18eed50ad5",
            "10d270252c7e40168600e2e694f45a02",
            "7fad962f7aed4899a3785c7bd9c7b8db",
            "b8837040abd5401eb4ac0b60cfad9e73",
            "bf3fd178ef3843c58d5d48b363fe741f",
            "d379f0fc36aa47889f1fe73b060d9375"
          ]
        }
      },
      "outputs": [
        {
          "output_type": "display_data",
          "data": {
            "text/plain": [
              "  0%|          | 0/100 [00:00<?, ?it/s]"
            ],
            "application/vnd.jupyter.widget-view+json": {
              "version_major": 2,
              "version_minor": 0,
              "model_id": "f0a5fcf76f11477885b9ab995f84b56f"
            }
          },
          "metadata": {}
        }
      ],
      "source": [
        "train_model(model, optimizer, train_data_loader, loss_module)"
      ]
    },
    {
      "cell_type": "markdown",
      "metadata": {
        "id": "N9HVUYnZ3e1d"
      },
      "source": [
        "#### Saving a model\n",
        "\n",
        "After finish training a model, we save the model to disk so that we can load the same weights at a later time. For this, we extract the so-called `state_dict` from the model which contains all learnable parameters. For our simple model, the state dict contains the following entries:"
      ]
    },
    {
      "cell_type": "code",
      "execution_count": 34,
      "metadata": {
        "id": "FByOgVPW3e1e",
        "outputId": "7df51ea4-055b-4e89-b1d9-9ecf360a5af7",
        "colab": {
          "base_uri": "https://localhost:8080/"
        }
      },
      "outputs": [
        {
          "output_type": "stream",
          "name": "stdout",
          "text": [
            "OrderedDict([('linear1.weight', tensor([[ 2.5777, -2.4427],\n",
            "        [-0.0616, -0.2540],\n",
            "        [ 0.3854,  0.3129],\n",
            "        [-2.3855,  2.5976]], device='cuda:0')), ('linear1.bias', tensor([ 1.2480, -0.7937,  0.7445,  1.1751], device='cuda:0')), ('linear2.weight', tensor([[-3.2929, -0.6083,  1.0740, -3.3244]], device='cuda:0')), ('linear2.bias', tensor([1.7283], device='cuda:0'))])\n"
          ]
        }
      ],
      "source": [
        "state_dict = model.state_dict()\n",
        "print(state_dict)"
      ]
    },
    {
      "cell_type": "markdown",
      "metadata": {
        "id": "Nb2xIXH03e1e"
      },
      "source": [
        "To save the state dictionary, we can use `torch.save`:"
      ]
    },
    {
      "cell_type": "code",
      "execution_count": 35,
      "metadata": {
        "id": "cW70kmIJ3e1f"
      },
      "outputs": [],
      "source": [
        "# torch.save(object, filename). For the filename, any extension can be used\n",
        "torch.save(state_dict, \"our_model.tar\")"
      ]
    },
    {
      "cell_type": "markdown",
      "metadata": {
        "id": "KwY1tQiO3e1f"
      },
      "source": [
        "To load a model from a state dict, we use the function `torch.load` to load the state dict from the disk, and the module function `load_state_dict` to overwrite our parameters with the new values:"
      ]
    },
    {
      "cell_type": "code",
      "execution_count": 36,
      "metadata": {
        "id": "R6U9raJC3e1f",
        "outputId": "f6058368-78bb-49c4-d512-7ec904e48cfe",
        "colab": {
          "base_uri": "https://localhost:8080/"
        }
      },
      "outputs": [
        {
          "output_type": "stream",
          "name": "stdout",
          "text": [
            "Original model\n",
            " OrderedDict([('linear1.weight', tensor([[ 2.5777, -2.4427],\n",
            "        [-0.0616, -0.2540],\n",
            "        [ 0.3854,  0.3129],\n",
            "        [-2.3855,  2.5976]], device='cuda:0')), ('linear1.bias', tensor([ 1.2480, -0.7937,  0.7445,  1.1751], device='cuda:0')), ('linear2.weight', tensor([[-3.2929, -0.6083,  1.0740, -3.3244]], device='cuda:0')), ('linear2.bias', tensor([1.7283], device='cuda:0'))])\n",
            "\n",
            "Loaded model\n",
            " OrderedDict([('linear1.weight', tensor([[ 2.5777, -2.4427],\n",
            "        [-0.0616, -0.2540],\n",
            "        [ 0.3854,  0.3129],\n",
            "        [-2.3855,  2.5976]])), ('linear1.bias', tensor([ 1.2480, -0.7937,  0.7445,  1.1751])), ('linear2.weight', tensor([[-3.2929, -0.6083,  1.0740, -3.3244]])), ('linear2.bias', tensor([1.7283]))])\n"
          ]
        }
      ],
      "source": [
        "# Load state dict from the disk (make sure it is the same name as above)\n",
        "state_dict = torch.load(\"our_model.tar\")\n",
        "\n",
        "# Create a new model and load the state\n",
        "new_model = SimpleClassifier(num_inputs=2, num_hidden=4, num_outputs=1)\n",
        "new_model.load_state_dict(state_dict)\n",
        "\n",
        "# Verify that the parameters are the same\n",
        "print(\"Original model\\n\", model.state_dict())\n",
        "print(\"\\nLoaded model\\n\", new_model.state_dict())"
      ]
    },
    {
      "cell_type": "markdown",
      "metadata": {
        "id": "AyK0zeTl3e1f"
      },
      "source": [
        "A detailed tutorial on saving and loading models in PyTorch can be found [here](https://pytorch.org/tutorials/beginner/saving_loading_models.html)."
      ]
    },
    {
      "cell_type": "markdown",
      "metadata": {
        "id": "bIRdEWk83e1f"
      },
      "source": [
        "### Evaluation\n",
        "\n",
        "Once we have trained a model, it is time to evaluate it on a held-out test set. As our dataset consist of randomly generated data points, we need to first create a test set with a corresponding data loader."
      ]
    },
    {
      "cell_type": "code",
      "execution_count": 37,
      "metadata": {
        "id": "2OeTnYyh3e1g"
      },
      "outputs": [],
      "source": [
        "test_dataset = XORDataset(size=500)\n",
        "# drop_last -> Don't drop the last batch although it is smaller than 128\n",
        "test_data_loader = data.DataLoader(test_dataset, batch_size=128, shuffle=False, drop_last=False)"
      ]
    },
    {
      "cell_type": "markdown",
      "metadata": {
        "id": "2rNprJke3e1g"
      },
      "source": [
        "As metric, we will use accuracy which is calculated as follows:\n",
        "\n",
        "$$acc = \\frac{\\#\\text{correct predictions}}{\\#\\text{all predictions}} = \\frac{TP+TN}{TP+TN+FP+FN}$$\n",
        "\n",
        "where TP are the true positives, TN true negatives, FP false positives, and FN the fale negatives.\n",
        "\n",
        "When evaluating the model, we don't need to keep track of the computation graph as we don't intend to calculate the gradients. This reduces the required memory and speed up the model. In PyTorch, we can deactivate the computation graph using `with torch.no_grad(): ...`. Remember to additionally set the model to eval mode."
      ]
    },
    {
      "cell_type": "code",
      "execution_count": 39,
      "metadata": {
        "id": "mF5r4AQJ3e1g"
      },
      "outputs": [],
      "source": [
        "def eval_model(model, data_loader):\n",
        "    model.eval() # Set model to eval mode\n",
        "    true_preds, num_preds = 0., 0.\n",
        "\n",
        "    with torch.no_grad(): # Deactivate gradients for the following code\n",
        "        for data_inputs, data_labels in data_loader:\n",
        "\n",
        "            ## TODO: Step 1 - Move data to device\n",
        "            data_inputs, data_labels = data_inputs.to(device), data_labels.to(device)\n",
        "\n",
        "            ## TODO: Step 2 - Run the model on the input data\n",
        "            preds = model(data_inputs)\n",
        "            preds = preds.squeeze(dim=1)\n",
        "            preds = torch.sigmoid(preds) # Sigmoid to map predictions between 0 and 1\n",
        "\n",
        "            ## TODO: Step 3 - Determine binary predictions of the model\n",
        "            pred_labels = (preds >= 0.5).long() # Binarize predictions to 0 and 1\n",
        "\n",
        "            ## TODO: Step 4 - Keep records of predictions for the accuracy metric (true_preds=TP+TN, num_preds=TP+TN+FP+FN)\n",
        "            true_preds += (pred_labels == data_labels).sum()\n",
        "            num_preds += data_labels.shape[0]\n",
        "\n",
        "    acc = true_preds / num_preds\n",
        "    print(\"Accuracy of the model: %4.2f%%\" % (100.0*acc))"
      ]
    },
    {
      "cell_type": "code",
      "execution_count": 40,
      "metadata": {
        "id": "5stFYiSK3e1g",
        "outputId": "6ba73f69-40cf-410e-838d-20ee83b955b6",
        "colab": {
          "base_uri": "https://localhost:8080/"
        }
      },
      "outputs": [
        {
          "output_type": "stream",
          "name": "stdout",
          "text": [
            "Accuracy of the model: 100.00%\n"
          ]
        }
      ],
      "source": [
        "eval_model(model, test_data_loader)"
      ]
    },
    {
      "cell_type": "markdown",
      "metadata": {
        "id": "uNUak7nb3e1h"
      },
      "source": [
        "If we trained our model correctly, we should see a score close to 100% accuracy. However, this is only possible because of our simple task, and unfortunately, we usually don't get such high scores on test sets of more complex tasks."
      ]
    },
    {
      "cell_type": "markdown",
      "metadata": {
        "id": "U-GciYmQ3e1h"
      },
      "source": [
        "#### Visualizing classification boundaries\n",
        "\n",
        "To visualize what our model has learned, we can perform a prediction for every data point in a range of $[-0.5, 1.5]$, and visualize the predicted class as in the sample figure at the beginning of this section. This shows where the model has created decision boundaries, and which points would be classified as $0$, and which as $1$. We therefore get a background image out of blue (class 0) and orange (class 1). The spots where the model is uncertain we will see a blurry overlap. The specific code is less relevant compared to the output figure which should hopefully show us a clear separation of classes:"
      ]
    },
    {
      "cell_type": "code",
      "execution_count": 41,
      "metadata": {
        "id": "g1Xvz0Gt3e1h",
        "outputId": "0e6f1a68-527f-4d7b-8278-5ffc37b33b76",
        "colab": {
          "base_uri": "https://localhost:8080/",
          "height": 458
        }
      },
      "outputs": [
        {
          "output_type": "stream",
          "name": "stderr",
          "text": [
            "/usr/local/lib/python3.10/dist-packages/torch/functional.py:504: UserWarning: torch.meshgrid: in an upcoming release, it will be required to pass the indexing argument. (Triggered internally at ../aten/src/ATen/native/TensorShape.cpp:3526.)\n",
            "  return _VF.meshgrid(tensors, **kwargs)  # type: ignore[attr-defined]\n"
          ]
        },
        {
          "output_type": "display_data",
          "data": {
            "text/plain": [
              "<Figure size 400x400 with 1 Axes>"
            ],
            "image/svg+xml": "<?xml version=\"1.0\" encoding=\"utf-8\" standalone=\"no\"?>\n<!DOCTYPE svg PUBLIC \"-//W3C//DTD SVG 1.1//EN\"\n  \"http://www.w3.org/Graphics/SVG/1.1/DTD/svg11.dtd\">\n<svg xmlns:xlink=\"http://www.w3.org/1999/xlink\" width=\"303.730313pt\" height=\"287.037813pt\" viewBox=\"0 0 303.730313 287.037813\" xmlns=\"http://www.w3.org/2000/svg\" version=\"1.1\">\n <metadata>\n  <rdf:RDF xmlns:dc=\"http://purl.org/dc/elements/1.1/\" xmlns:cc=\"http://creativecommons.org/ns#\" xmlns:rdf=\"http://www.w3.org/1999/02/22-rdf-syntax-ns#\">\n   <cc:Work>\n    <dc:type rdf:resource=\"http://purl.org/dc/dcmitype/StillImage\"/>\n    <dc:date>2023-11-24T10:51:28.876005</dc:date>\n    <dc:format>image/svg+xml</dc:format>\n    <dc:creator>\n     <cc:Agent>\n      <dc:title>Matplotlib v3.7.1, https://matplotlib.org/</dc:title>\n     </cc:Agent>\n    </dc:creator>\n   </cc:Work>\n  </rdf:RDF>\n </metadata>\n <defs>\n  <style type=\"text/css\">*{stroke-linejoin: round; stroke-linecap: butt}</style>\n </defs>\n <g id=\"figure_1\">\n  <g id=\"patch_1\">\n   <path d=\"M 0 287.037813 \nL 303.730313 287.037813 \nL 303.730313 0 \nL 0 0 \nz\n\" style=\"fill: #ffffff\"/>\n  </g>\n  <g id=\"axes_1\">\n   <g id=\"patch_2\">\n    <path d=\"M 66.023594 244.078125 \nL 287.783594 244.078125 \nL 287.783594 22.318125 \nL 66.023594 22.318125 \nz\n\" style=\"fill: #eaeaf2\"/>\n   </g>\n   <g clip-path=\"url(#pd65fde988d)\">\n    <image xlink:href=\"data:image/png;base64,\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\" id=\"image21ade344ae\" transform=\"scale(1 -1) translate(0 -221.76)\" x=\"66.023594\" y=\"-22.318125\" width=\"222.48\" height=\"221.76\"/>\n   </g>\n   <g id=\"matplotlib.axis_1\">\n    <g id=\"xtick_1\">\n     <g id=\"text_1\">\n      <!-- −0.5 -->\n      <g style=\"fill: #262626\" transform=\"translate(52.668047 261.936406) scale(0.11 -0.11)\">\n       <defs>\n        <path id=\"DejaVuSans-2212\" d=\"M 678 2272 \nL 4684 2272 \nL 4684 1741 \nL 678 1741 \nL 678 2272 \nz\n\" transform=\"scale(0.015625)\"/>\n        <path id=\"DejaVuSans-30\" d=\"M 2034 4250 \nQ 1547 4250 1301 3770 \nQ 1056 3291 1056 2328 \nQ 1056 1369 1301 889 \nQ 1547 409 2034 409 \nQ 2525 409 2770 889 \nQ 3016 1369 3016 2328 \nQ 3016 3291 2770 3770 \nQ 2525 4250 2034 4250 \nz\nM 2034 4750 \nQ 2819 4750 3233 4129 \nQ 3647 3509 3647 2328 \nQ 3647 1150 3233 529 \nQ 2819 -91 2034 -91 \nQ 1250 -91 836 529 \nQ 422 1150 422 2328 \nQ 422 3509 836 4129 \nQ 1250 4750 2034 4750 \nz\n\" transform=\"scale(0.015625)\"/>\n        <path id=\"DejaVuSans-2e\" d=\"M 684 794 \nL 1344 794 \nL 1344 0 \nL 684 0 \nL 684 794 \nz\n\" transform=\"scale(0.015625)\"/>\n        <path id=\"DejaVuSans-35\" d=\"M 691 4666 \nL 3169 4666 \nL 3169 4134 \nL 1269 4134 \nL 1269 2991 \nQ 1406 3038 1543 3061 \nQ 1681 3084 1819 3084 \nQ 2600 3084 3056 2656 \nQ 3513 2228 3513 1497 \nQ 3513 744 3044 326 \nQ 2575 -91 1722 -91 \nQ 1428 -91 1123 -41 \nQ 819 9 494 109 \nL 494 744 \nQ 775 591 1075 516 \nQ 1375 441 1709 441 \nQ 2250 441 2565 725 \nQ 2881 1009 2881 1497 \nQ 2881 1984 2565 2268 \nQ 2250 2553 1709 2553 \nQ 1456 2553 1204 2497 \nQ 953 2441 691 2322 \nL 691 4666 \nz\n\" transform=\"scale(0.015625)\"/>\n       </defs>\n       <use xlink:href=\"#DejaVuSans-2212\"/>\n       <use xlink:href=\"#DejaVuSans-30\" x=\"83.789062\"/>\n       <use xlink:href=\"#DejaVuSans-2e\" x=\"147.412109\"/>\n       <use xlink:href=\"#DejaVuSans-35\" x=\"179.199219\"/>\n      </g>\n     </g>\n    </g>\n    <g id=\"xtick_2\">\n     <g id=\"text_2\">\n      <!-- 0.0 -->\n      <g style=\"fill: #262626\" transform=\"translate(112.716875 261.936406) scale(0.11 -0.11)\">\n       <use xlink:href=\"#DejaVuSans-30\"/>\n       <use xlink:href=\"#DejaVuSans-2e\" x=\"63.623047\"/>\n       <use xlink:href=\"#DejaVuSans-30\" x=\"95.410156\"/>\n      </g>\n     </g>\n    </g>\n    <g id=\"xtick_3\">\n     <g id=\"text_3\">\n      <!-- 0.5 -->\n      <g style=\"fill: #262626\" transform=\"translate(168.156875 261.936406) scale(0.11 -0.11)\">\n       <use xlink:href=\"#DejaVuSans-30\"/>\n       <use xlink:href=\"#DejaVuSans-2e\" x=\"63.623047\"/>\n       <use xlink:href=\"#DejaVuSans-35\" x=\"95.410156\"/>\n      </g>\n     </g>\n    </g>\n    <g id=\"xtick_4\">\n     <g id=\"text_4\">\n      <!-- 1.0 -->\n      <g style=\"fill: #262626\" transform=\"translate(223.596875 261.936406) scale(0.11 -0.11)\">\n       <defs>\n        <path id=\"DejaVuSans-31\" d=\"M 794 531 \nL 1825 531 \nL 1825 4091 \nL 703 3866 \nL 703 4441 \nL 1819 4666 \nL 2450 4666 \nL 2450 531 \nL 3481 531 \nL 3481 0 \nL 794 0 \nL 794 531 \nz\n\" transform=\"scale(0.015625)\"/>\n       </defs>\n       <use xlink:href=\"#DejaVuSans-31\"/>\n       <use xlink:href=\"#DejaVuSans-2e\" x=\"63.623047\"/>\n       <use xlink:href=\"#DejaVuSans-30\" x=\"95.410156\"/>\n      </g>\n     </g>\n    </g>\n    <g id=\"xtick_5\">\n     <g id=\"text_5\">\n      <!-- 1.5 -->\n      <g style=\"fill: #262626\" transform=\"translate(279.036875 261.936406) scale(0.11 -0.11)\">\n       <use xlink:href=\"#DejaVuSans-31\"/>\n       <use xlink:href=\"#DejaVuSans-2e\" x=\"63.623047\"/>\n       <use xlink:href=\"#DejaVuSans-35\" x=\"95.410156\"/>\n      </g>\n     </g>\n    </g>\n    <g id=\"text_6\">\n     <!-- $x_1$ -->\n     <g style=\"fill: #262626\" transform=\"translate(170.483594 277.342188) scale(0.12 -0.12)\">\n      <defs>\n       <path id=\"DejaVuSans-Oblique-78\" d=\"M 3841 3500 \nL 2234 1784 \nL 3219 0 \nL 2559 0 \nL 1819 1388 \nL 531 0 \nL -166 0 \nL 1556 1844 \nL 641 3500 \nL 1300 3500 \nL 1972 2234 \nL 3144 3500 \nL 3841 3500 \nz\n\" transform=\"scale(0.015625)\"/>\n      </defs>\n      <use xlink:href=\"#DejaVuSans-Oblique-78\" transform=\"translate(0 0.3125)\"/>\n      <use xlink:href=\"#DejaVuSans-31\" transform=\"translate(59.179688 -16.09375) scale(0.7)\"/>\n     </g>\n    </g>\n   </g>\n   <g id=\"matplotlib.axis_2\">\n    <g id=\"ytick_1\">\n     <g id=\"text_7\">\n      <!-- −0.50 -->\n      <g style=\"fill: #262626\" transform=\"translate(22.81375 248.257266) scale(0.11 -0.11)\">\n       <use xlink:href=\"#DejaVuSans-2212\"/>\n       <use xlink:href=\"#DejaVuSans-30\" x=\"83.789062\"/>\n       <use xlink:href=\"#DejaVuSans-2e\" x=\"147.412109\"/>\n       <use xlink:href=\"#DejaVuSans-35\" x=\"179.199219\"/>\n       <use xlink:href=\"#DejaVuSans-30\" x=\"242.822266\"/>\n      </g>\n     </g>\n    </g>\n    <g id=\"ytick_2\">\n     <g id=\"text_8\">\n      <!-- −0.25 -->\n      <g style=\"fill: #262626\" transform=\"translate(22.81375 220.537266) scale(0.11 -0.11)\">\n       <defs>\n        <path id=\"DejaVuSans-32\" d=\"M 1228 531 \nL 3431 531 \nL 3431 0 \nL 469 0 \nL 469 531 \nQ 828 903 1448 1529 \nQ 2069 2156 2228 2338 \nQ 2531 2678 2651 2914 \nQ 2772 3150 2772 3378 \nQ 2772 3750 2511 3984 \nQ 2250 4219 1831 4219 \nQ 1534 4219 1204 4116 \nQ 875 4013 500 3803 \nL 500 4441 \nQ 881 4594 1212 4672 \nQ 1544 4750 1819 4750 \nQ 2544 4750 2975 4387 \nQ 3406 4025 3406 3419 \nQ 3406 3131 3298 2873 \nQ 3191 2616 2906 2266 \nQ 2828 2175 2409 1742 \nQ 1991 1309 1228 531 \nz\n\" transform=\"scale(0.015625)\"/>\n       </defs>\n       <use xlink:href=\"#DejaVuSans-2212\"/>\n       <use xlink:href=\"#DejaVuSans-30\" x=\"83.789062\"/>\n       <use xlink:href=\"#DejaVuSans-2e\" x=\"147.412109\"/>\n       <use xlink:href=\"#DejaVuSans-32\" x=\"179.199219\"/>\n       <use xlink:href=\"#DejaVuSans-35\" x=\"242.822266\"/>\n      </g>\n     </g>\n    </g>\n    <g id=\"ytick_3\">\n     <g id=\"text_9\">\n      <!-- 0.00 -->\n      <g style=\"fill: #262626\" transform=\"translate(32.031406 192.817266) scale(0.11 -0.11)\">\n       <use xlink:href=\"#DejaVuSans-30\"/>\n       <use xlink:href=\"#DejaVuSans-2e\" x=\"63.623047\"/>\n       <use xlink:href=\"#DejaVuSans-30\" x=\"95.410156\"/>\n       <use xlink:href=\"#DejaVuSans-30\" x=\"159.033203\"/>\n      </g>\n     </g>\n    </g>\n    <g id=\"ytick_4\">\n     <g id=\"text_10\">\n      <!-- 0.25 -->\n      <g style=\"fill: #262626\" transform=\"translate(32.031406 165.097266) scale(0.11 -0.11)\">\n       <use xlink:href=\"#DejaVuSans-30\"/>\n       <use xlink:href=\"#DejaVuSans-2e\" x=\"63.623047\"/>\n       <use xlink:href=\"#DejaVuSans-32\" x=\"95.410156\"/>\n       <use xlink:href=\"#DejaVuSans-35\" x=\"159.033203\"/>\n      </g>\n     </g>\n    </g>\n    <g id=\"ytick_5\">\n     <g id=\"text_11\">\n      <!-- 0.50 -->\n      <g style=\"fill: #262626\" transform=\"translate(32.031406 137.377266) scale(0.11 -0.11)\">\n       <use xlink:href=\"#DejaVuSans-30\"/>\n       <use xlink:href=\"#DejaVuSans-2e\" x=\"63.623047\"/>\n       <use xlink:href=\"#DejaVuSans-35\" x=\"95.410156\"/>\n       <use xlink:href=\"#DejaVuSans-30\" x=\"159.033203\"/>\n      </g>\n     </g>\n    </g>\n    <g id=\"ytick_6\">\n     <g id=\"text_12\">\n      <!-- 0.75 -->\n      <g style=\"fill: #262626\" transform=\"translate(32.031406 109.657266) scale(0.11 -0.11)\">\n       <defs>\n        <path id=\"DejaVuSans-37\" d=\"M 525 4666 \nL 3525 4666 \nL 3525 4397 \nL 1831 0 \nL 1172 0 \nL 2766 4134 \nL 525 4134 \nL 525 4666 \nz\n\" transform=\"scale(0.015625)\"/>\n       </defs>\n       <use xlink:href=\"#DejaVuSans-30\"/>\n       <use xlink:href=\"#DejaVuSans-2e\" x=\"63.623047\"/>\n       <use xlink:href=\"#DejaVuSans-37\" x=\"95.410156\"/>\n       <use xlink:href=\"#DejaVuSans-35\" x=\"159.033203\"/>\n      </g>\n     </g>\n    </g>\n    <g id=\"ytick_7\">\n     <g id=\"text_13\">\n      <!-- 1.00 -->\n      <g style=\"fill: #262626\" transform=\"translate(32.031406 81.937266) scale(0.11 -0.11)\">\n       <use xlink:href=\"#DejaVuSans-31\"/>\n       <use xlink:href=\"#DejaVuSans-2e\" x=\"63.623047\"/>\n       <use xlink:href=\"#DejaVuSans-30\" x=\"95.410156\"/>\n       <use xlink:href=\"#DejaVuSans-30\" x=\"159.033203\"/>\n      </g>\n     </g>\n    </g>\n    <g id=\"ytick_8\">\n     <g id=\"text_14\">\n      <!-- 1.25 -->\n      <g style=\"fill: #262626\" transform=\"translate(32.031406 54.217266) scale(0.11 -0.11)\">\n       <use xlink:href=\"#DejaVuSans-31\"/>\n       <use xlink:href=\"#DejaVuSans-2e\" x=\"63.623047\"/>\n       <use xlink:href=\"#DejaVuSans-32\" x=\"95.410156\"/>\n       <use xlink:href=\"#DejaVuSans-35\" x=\"159.033203\"/>\n      </g>\n     </g>\n    </g>\n    <g id=\"ytick_9\">\n     <g id=\"text_15\">\n      <!-- 1.50 -->\n      <g style=\"fill: #262626\" transform=\"translate(32.031406 26.497266) scale(0.11 -0.11)\">\n       <use xlink:href=\"#DejaVuSans-31\"/>\n       <use xlink:href=\"#DejaVuSans-2e\" x=\"63.623047\"/>\n       <use xlink:href=\"#DejaVuSans-35\" x=\"95.410156\"/>\n       <use xlink:href=\"#DejaVuSans-30\" x=\"159.033203\"/>\n      </g>\n     </g>\n    </g>\n    <g id=\"text_16\">\n     <!-- $x_2$ -->\n     <g style=\"fill: #262626\" transform=\"translate(16.318125 139.618125) rotate(-90) scale(0.12 -0.12)\">\n      <use xlink:href=\"#DejaVuSans-Oblique-78\" transform=\"translate(0 0.3125)\"/>\n      <use xlink:href=\"#DejaVuSans-32\" transform=\"translate(59.179688 -16.09375) scale(0.7)\"/>\n     </g>\n    </g>\n   </g>\n   <g id=\"PathCollection_1\">\n    <defs>\n     <path id=\"m7659104a4a\" d=\"M 0 3 \nC 0.795609 3 1.55874 2.683901 2.12132 2.12132 \nC 2.683901 1.55874 3 0.795609 3 0 \nC 3 -0.795609 2.683901 -1.55874 2.12132 -2.12132 \nC 1.55874 -2.683901 0.795609 -3 0 -3 \nC -0.795609 -3 -1.55874 -2.683901 -2.12132 -2.12132 \nC -2.683901 -1.55874 -3 -0.795609 -3 0 \nC -3 0.795609 -2.683901 1.55874 -2.12132 2.12132 \nC -1.55874 2.683901 -0.795609 3 0 3 \nz\n\" style=\"stroke: #333333\"/>\n    </defs>\n    <g clip-path=\"url(#pd65fde988d)\">\n     <use xlink:href=\"#m7659104a4a\" x=\"101.0052\" y=\"183.106241\" style=\"fill: #4c72b0; stroke: #333333\"/>\n     <use xlink:href=\"#m7659104a4a\" x=\"125.07616\" y=\"175.980769\" style=\"fill: #4c72b0; stroke: #333333\"/>\n     <use xlink:href=\"#m7659104a4a\" x=\"122.69673\" y=\"207.946928\" style=\"fill: #4c72b0; stroke: #333333\"/>\n     <use xlink:href=\"#m7659104a4a\" x=\"225.919021\" y=\"65.500111\" style=\"fill: #4c72b0; stroke: #333333\"/>\n     <use xlink:href=\"#m7659104a4a\" x=\"227.092449\" y=\"74.115384\" style=\"fill: #4c72b0; stroke: #333333\"/>\n     <use xlink:href=\"#m7659104a4a\" x=\"235.131585\" y=\"77.450081\" style=\"fill: #4c72b0; stroke: #333333\"/>\n     <use xlink:href=\"#m7659104a4a\" x=\"224.763602\" y=\"80.452262\" style=\"fill: #4c72b0; stroke: #333333\"/>\n     <use xlink:href=\"#m7659104a4a\" x=\"123.327404\" y=\"182.17765\" style=\"fill: #4c72b0; stroke: #333333\"/>\n     <use xlink:href=\"#m7659104a4a\" x=\"218.637675\" y=\"69.99989\" style=\"fill: #4c72b0; stroke: #333333\"/>\n     <use xlink:href=\"#m7659104a4a\" x=\"115.080234\" y=\"182.127287\" style=\"fill: #4c72b0; stroke: #333333\"/>\n     <use xlink:href=\"#m7659104a4a\" x=\"225.597501\" y=\"64.824054\" style=\"fill: #4c72b0; stroke: #333333\"/>\n     <use xlink:href=\"#m7659104a4a\" x=\"114.541814\" y=\"176.648411\" style=\"fill: #4c72b0; stroke: #333333\"/>\n     <use xlink:href=\"#m7659104a4a\" x=\"254.626321\" y=\"70.834655\" style=\"fill: #4c72b0; stroke: #333333\"/>\n     <use xlink:href=\"#m7659104a4a\" x=\"118.940904\" y=\"177.827581\" style=\"fill: #4c72b0; stroke: #333333\"/>\n     <use xlink:href=\"#m7659104a4a\" x=\"101.114643\" y=\"186.83648\" style=\"fill: #4c72b0; stroke: #333333\"/>\n     <use xlink:href=\"#m7659104a4a\" x=\"143.55394\" y=\"191.148567\" style=\"fill: #4c72b0; stroke: #333333\"/>\n     <use xlink:href=\"#m7659104a4a\" x=\"109.574466\" y=\"206.066104\" style=\"fill: #4c72b0; stroke: #333333\"/>\n     <use xlink:href=\"#m7659104a4a\" x=\"240.608366\" y=\"94.478378\" style=\"fill: #4c72b0; stroke: #333333\"/>\n     <use xlink:href=\"#m7659104a4a\" x=\"230.587116\" y=\"66.709974\" style=\"fill: #4c72b0; stroke: #333333\"/>\n     <use xlink:href=\"#m7659104a4a\" x=\"114.251068\" y=\"168.911851\" style=\"fill: #4c72b0; stroke: #333333\"/>\n     <use xlink:href=\"#m7659104a4a\" x=\"119.05347\" y=\"182.301896\" style=\"fill: #4c72b0; stroke: #333333\"/>\n     <use xlink:href=\"#m7659104a4a\" x=\"224.23316\" y=\"94.066514\" style=\"fill: #4c72b0; stroke: #333333\"/>\n     <use xlink:href=\"#m7659104a4a\" x=\"119.841547\" y=\"196.950288\" style=\"fill: #4c72b0; stroke: #333333\"/>\n     <use xlink:href=\"#m7659104a4a\" x=\"234.854854\" y=\"96.641737\" style=\"fill: #4c72b0; stroke: #333333\"/>\n     <use xlink:href=\"#m7659104a4a\" x=\"138.142305\" y=\"193.894516\" style=\"fill: #4c72b0; stroke: #333333\"/>\n     <use xlink:href=\"#m7659104a4a\" x=\"111.662588\" y=\"204.085082\" style=\"fill: #4c72b0; stroke: #333333\"/>\n     <use xlink:href=\"#m7659104a4a\" x=\"218.877878\" y=\"70.48931\" style=\"fill: #4c72b0; stroke: #333333\"/>\n     <use xlink:href=\"#m7659104a4a\" x=\"203.586707\" y=\"68.313811\" style=\"fill: #4c72b0; stroke: #333333\"/>\n     <use xlink:href=\"#m7659104a4a\" x=\"237.53011\" y=\"102.50891\" style=\"fill: #4c72b0; stroke: #333333\"/>\n     <use xlink:href=\"#m7659104a4a\" x=\"128.842283\" y=\"179.140633\" style=\"fill: #4c72b0; stroke: #333333\"/>\n     <use xlink:href=\"#m7659104a4a\" x=\"219.085836\" y=\"53.210837\" style=\"fill: #4c72b0; stroke: #333333\"/>\n     <use xlink:href=\"#m7659104a4a\" x=\"212.882584\" y=\"77.647821\" style=\"fill: #4c72b0; stroke: #333333\"/>\n     <use xlink:href=\"#m7659104a4a\" x=\"133.120398\" y=\"177.591501\" style=\"fill: #4c72b0; stroke: #333333\"/>\n     <use xlink:href=\"#m7659104a4a\" x=\"126.536594\" y=\"205.940712\" style=\"fill: #4c72b0; stroke: #333333\"/>\n     <use xlink:href=\"#m7659104a4a\" x=\"230.786694\" y=\"80.311696\" style=\"fill: #4c72b0; stroke: #333333\"/>\n     <use xlink:href=\"#m7659104a4a\" x=\"122.909629\" y=\"191.140102\" style=\"fill: #4c72b0; stroke: #333333\"/>\n     <use xlink:href=\"#m7659104a4a\" x=\"232.064127\" y=\"61.348889\" style=\"fill: #4c72b0; stroke: #333333\"/>\n     <use xlink:href=\"#m7659104a4a\" x=\"241.489473\" y=\"70.175186\" style=\"fill: #4c72b0; stroke: #333333\"/>\n     <use xlink:href=\"#m7659104a4a\" x=\"114.006708\" y=\"206.460202\" style=\"fill: #4c72b0; stroke: #333333\"/>\n     <use xlink:href=\"#m7659104a4a\" x=\"132.622199\" y=\"190.790953\" style=\"fill: #4c72b0; stroke: #333333\"/>\n     <use xlink:href=\"#m7659104a4a\" x=\"233.669048\" y=\"63.174496\" style=\"fill: #4c72b0; stroke: #333333\"/>\n     <use xlink:href=\"#m7659104a4a\" x=\"242.470878\" y=\"80.076358\" style=\"fill: #4c72b0; stroke: #333333\"/>\n     <use xlink:href=\"#m7659104a4a\" x=\"248.655056\" y=\"65.637736\" style=\"fill: #4c72b0; stroke: #333333\"/>\n     <use xlink:href=\"#m7659104a4a\" x=\"230.312408\" y=\"75.891225\" style=\"fill: #4c72b0; stroke: #333333\"/>\n     <use xlink:href=\"#m7659104a4a\" x=\"246.99807\" y=\"85.24382\" style=\"fill: #4c72b0; stroke: #333333\"/>\n     <use xlink:href=\"#m7659104a4a\" x=\"239.080705\" y=\"76.139286\" style=\"fill: #4c72b0; stroke: #333333\"/>\n     <use xlink:href=\"#m7659104a4a\" x=\"127.143052\" y=\"209.235584\" style=\"fill: #4c72b0; stroke: #333333\"/>\n     <use xlink:href=\"#m7659104a4a\" x=\"240.382446\" y=\"88.437059\" style=\"fill: #4c72b0; stroke: #333333\"/>\n     <use xlink:href=\"#m7659104a4a\" x=\"231.601929\" y=\"72.737864\" style=\"fill: #4c72b0; stroke: #333333\"/>\n     <use xlink:href=\"#m7659104a4a\" x=\"245.360964\" y=\"67.633736\" style=\"fill: #4c72b0; stroke: #333333\"/>\n     <use xlink:href=\"#m7659104a4a\" x=\"132.315469\" y=\"190.484108\" style=\"fill: #4c72b0; stroke: #333333\"/>\n     <use xlink:href=\"#m7659104a4a\" x=\"244.703346\" y=\"72.279493\" style=\"fill: #4c72b0; stroke: #333333\"/>\n     <use xlink:href=\"#m7659104a4a\" x=\"118.189136\" y=\"175.312123\" style=\"fill: #4c72b0; stroke: #333333\"/>\n     <use xlink:href=\"#m7659104a4a\" x=\"128.426517\" y=\"180.942326\" style=\"fill: #4c72b0; stroke: #333333\"/>\n     <use xlink:href=\"#m7659104a4a\" x=\"226.183313\" y=\"54.75559\" style=\"fill: #4c72b0; stroke: #333333\"/>\n     <use xlink:href=\"#m7659104a4a\" x=\"121.188064\" y=\"179.251599\" style=\"fill: #4c72b0; stroke: #333333\"/>\n     <use xlink:href=\"#m7659104a4a\" x=\"124.26739\" y=\"196.901605\" style=\"fill: #4c72b0; stroke: #333333\"/>\n     <use xlink:href=\"#m7659104a4a\" x=\"118.209296\" y=\"188.23555\" style=\"fill: #4c72b0; stroke: #333333\"/>\n     <use xlink:href=\"#m7659104a4a\" x=\"231.272281\" y=\"67.45873\" style=\"fill: #4c72b0; stroke: #333333\"/>\n     <use xlink:href=\"#m7659104a4a\" x=\"219.276663\" y=\"66.276215\" style=\"fill: #4c72b0; stroke: #333333\"/>\n     <use xlink:href=\"#m7659104a4a\" x=\"152.855269\" y=\"181.305906\" style=\"fill: #4c72b0; stroke: #333333\"/>\n     <use xlink:href=\"#m7659104a4a\" x=\"248.183507\" y=\"67.054288\" style=\"fill: #4c72b0; stroke: #333333\"/>\n     <use xlink:href=\"#m7659104a4a\" x=\"116.414536\" y=\"195.971061\" style=\"fill: #4c72b0; stroke: #333333\"/>\n     <use xlink:href=\"#m7659104a4a\" x=\"128.984281\" y=\"199.220469\" style=\"fill: #4c72b0; stroke: #333333\"/>\n     <use xlink:href=\"#m7659104a4a\" x=\"223.949299\" y=\"85.254632\" style=\"fill: #4c72b0; stroke: #333333\"/>\n     <use xlink:href=\"#m7659104a4a\" x=\"133.011239\" y=\"187.049898\" style=\"fill: #4c72b0; stroke: #333333\"/>\n     <use xlink:href=\"#m7659104a4a\" x=\"139.872978\" y=\"188.03259\" style=\"fill: #4c72b0; stroke: #333333\"/>\n     <use xlink:href=\"#m7659104a4a\" x=\"229.505381\" y=\"72.171674\" style=\"fill: #4c72b0; stroke: #333333\"/>\n     <use xlink:href=\"#m7659104a4a\" x=\"111.138494\" y=\"196.681871\" style=\"fill: #4c72b0; stroke: #333333\"/>\n     <use xlink:href=\"#m7659104a4a\" x=\"121.261764\" y=\"186.277012\" style=\"fill: #4c72b0; stroke: #333333\"/>\n     <use xlink:href=\"#m7659104a4a\" x=\"233.129122\" y=\"79.879913\" style=\"fill: #4c72b0; stroke: #333333\"/>\n     <use xlink:href=\"#m7659104a4a\" x=\"213.282049\" y=\"69.934183\" style=\"fill: #4c72b0; stroke: #333333\"/>\n     <use xlink:href=\"#m7659104a4a\" x=\"227.980337\" y=\"84.077589\" style=\"fill: #4c72b0; stroke: #333333\"/>\n     <use xlink:href=\"#m7659104a4a\" x=\"133.002785\" y=\"172.385733\" style=\"fill: #4c72b0; stroke: #333333\"/>\n     <use xlink:href=\"#m7659104a4a\" x=\"237.586841\" y=\"67.957033\" style=\"fill: #4c72b0; stroke: #333333\"/>\n     <use xlink:href=\"#m7659104a4a\" x=\"121.037287\" y=\"186.662775\" style=\"fill: #4c72b0; stroke: #333333\"/>\n     <use xlink:href=\"#m7659104a4a\" x=\"134.665912\" y=\"184.646165\" style=\"fill: #4c72b0; stroke: #333333\"/>\n     <use xlink:href=\"#m7659104a4a\" x=\"116.292361\" y=\"166.964992\" style=\"fill: #4c72b0; stroke: #333333\"/>\n     <use xlink:href=\"#m7659104a4a\" x=\"255.521386\" y=\"74.631398\" style=\"fill: #4c72b0; stroke: #333333\"/>\n     <use xlink:href=\"#m7659104a4a\" x=\"234.062268\" y=\"84.420191\" style=\"fill: #4c72b0; stroke: #333333\"/>\n     <use xlink:href=\"#m7659104a4a\" x=\"121.98281\" y=\"167.916668\" style=\"fill: #4c72b0; stroke: #333333\"/>\n     <use xlink:href=\"#m7659104a4a\" x=\"238.873329\" y=\"68.451172\" style=\"fill: #4c72b0; stroke: #333333\"/>\n     <use xlink:href=\"#m7659104a4a\" x=\"233.374354\" y=\"93.380167\" style=\"fill: #4c72b0; stroke: #333333\"/>\n     <use xlink:href=\"#m7659104a4a\" x=\"122.738987\" y=\"193.504788\" style=\"fill: #4c72b0; stroke: #333333\"/>\n     <use xlink:href=\"#m7659104a4a\" x=\"234.30598\" y=\"76.704128\" style=\"fill: #4c72b0; stroke: #333333\"/>\n     <use xlink:href=\"#m7659104a4a\" x=\"125.898577\" y=\"172.908791\" style=\"fill: #4c72b0; stroke: #333333\"/>\n     <use xlink:href=\"#m7659104a4a\" x=\"237.860095\" y=\"85.987943\" style=\"fill: #4c72b0; stroke: #333333\"/>\n     <use xlink:href=\"#m7659104a4a\" x=\"235.869277\" y=\"72.7376\" style=\"fill: #4c72b0; stroke: #333333\"/>\n     <use xlink:href=\"#m7659104a4a\" x=\"237.610448\" y=\"78.351676\" style=\"fill: #4c72b0; stroke: #333333\"/>\n     <use xlink:href=\"#m7659104a4a\" x=\"120.07445\" y=\"215.509903\" style=\"fill: #4c72b0; stroke: #333333\"/>\n     <use xlink:href=\"#m7659104a4a\" x=\"222.74545\" y=\"100.38656\" style=\"fill: #4c72b0; stroke: #333333\"/>\n     <use xlink:href=\"#m7659104a4a\" x=\"124.368419\" y=\"188.454953\" style=\"fill: #4c72b0; stroke: #333333\"/>\n     <use xlink:href=\"#m7659104a4a\" x=\"232.747018\" y=\"103.520054\" style=\"fill: #4c72b0; stroke: #333333\"/>\n     <use xlink:href=\"#m7659104a4a\" x=\"118.091306\" y=\"193.116219\" style=\"fill: #4c72b0; stroke: #333333\"/>\n     <use xlink:href=\"#m7659104a4a\" x=\"229.761485\" y=\"83.113024\" style=\"fill: #4c72b0; stroke: #333333\"/>\n     <use xlink:href=\"#m7659104a4a\" x=\"108.368404\" y=\"190.029566\" style=\"fill: #4c72b0; stroke: #333333\"/>\n     <use xlink:href=\"#m7659104a4a\" x=\"130.286776\" y=\"184.267252\" style=\"fill: #4c72b0; stroke: #333333\"/>\n     <use xlink:href=\"#m7659104a4a\" x=\"216.527308\" y=\"84.58786\" style=\"fill: #4c72b0; stroke: #333333\"/>\n     <use xlink:href=\"#m7659104a4a\" x=\"217.574253\" y=\"74.204274\" style=\"fill: #4c72b0; stroke: #333333\"/>\n     <use xlink:href=\"#m7659104a4a\" x=\"223.319511\" y=\"93.084931\" style=\"fill: #4c72b0; stroke: #333333\"/>\n     <use xlink:href=\"#m7659104a4a\" x=\"115.784634\" y=\"182.53075\" style=\"fill: #4c72b0; stroke: #333333\"/>\n     <use xlink:href=\"#m7659104a4a\" x=\"127.010735\" y=\"214.526966\" style=\"fill: #4c72b0; stroke: #333333\"/>\n     <use xlink:href=\"#m7659104a4a\" x=\"231.04369\" y=\"82.880944\" style=\"fill: #4c72b0; stroke: #333333\"/>\n     <use xlink:href=\"#m7659104a4a\" x=\"225.914342\" y=\"65.801308\" style=\"fill: #4c72b0; stroke: #333333\"/>\n    </g>\n   </g>\n   <g id=\"PathCollection_2\">\n    <defs>\n     <path id=\"mbc1b2af716\" d=\"M 0 3 \nC 0.795609 3 1.55874 2.683901 2.12132 2.12132 \nC 2.683901 1.55874 3 0.795609 3 0 \nC 3 -0.795609 2.683901 -1.55874 2.12132 -2.12132 \nC 1.55874 -2.683901 0.795609 -3 0 -3 \nC -0.795609 -3 -1.55874 -2.683901 -2.12132 -2.12132 \nC -2.683901 -1.55874 -3 -0.795609 -3 0 \nC -3 0.795609 -2.683901 1.55874 -2.12132 2.12132 \nC -1.55874 2.683901 -0.795609 3 0 3 \nz\n\" style=\"stroke: #333333\"/>\n    </defs>\n    <g clip-path=\"url(#pd65fde988d)\">\n     <use xlink:href=\"#mbc1b2af716\" x=\"238.814614\" y=\"197.448304\" style=\"fill: #dd8452; stroke: #333333\"/>\n     <use xlink:href=\"#mbc1b2af716\" x=\"122.868322\" y=\"61.619249\" style=\"fill: #dd8452; stroke: #333333\"/>\n     <use xlink:href=\"#mbc1b2af716\" x=\"214.820173\" y=\"165.853999\" style=\"fill: #dd8452; stroke: #333333\"/>\n     <use xlink:href=\"#mbc1b2af716\" x=\"119.666612\" y=\"60.245047\" style=\"fill: #dd8452; stroke: #333333\"/>\n     <use xlink:href=\"#mbc1b2af716\" x=\"115.987803\" y=\"66.97806\" style=\"fill: #dd8452; stroke: #333333\"/>\n     <use xlink:href=\"#mbc1b2af716\" x=\"113.809679\" y=\"68.735926\" style=\"fill: #dd8452; stroke: #333333\"/>\n     <use xlink:href=\"#mbc1b2af716\" x=\"231.950552\" y=\"194.748034\" style=\"fill: #dd8452; stroke: #333333\"/>\n     <use xlink:href=\"#mbc1b2af716\" x=\"239.642387\" y=\"181.080302\" style=\"fill: #dd8452; stroke: #333333\"/>\n     <use xlink:href=\"#mbc1b2af716\" x=\"226.808343\" y=\"180.585104\" style=\"fill: #dd8452; stroke: #333333\"/>\n     <use xlink:href=\"#mbc1b2af716\" x=\"130.30317\" y=\"92.170991\" style=\"fill: #dd8452; stroke: #333333\"/>\n     <use xlink:href=\"#mbc1b2af716\" x=\"121.546935\" y=\"93.296015\" style=\"fill: #dd8452; stroke: #333333\"/>\n     <use xlink:href=\"#mbc1b2af716\" x=\"127.994798\" y=\"70.410822\" style=\"fill: #dd8452; stroke: #333333\"/>\n     <use xlink:href=\"#mbc1b2af716\" x=\"126.073673\" y=\"68.166881\" style=\"fill: #dd8452; stroke: #333333\"/>\n     <use xlink:href=\"#mbc1b2af716\" x=\"228.309866\" y=\"177.672813\" style=\"fill: #dd8452; stroke: #333333\"/>\n     <use xlink:href=\"#mbc1b2af716\" x=\"121.521083\" y=\"60.045179\" style=\"fill: #dd8452; stroke: #333333\"/>\n     <use xlink:href=\"#mbc1b2af716\" x=\"120.580881\" y=\"78.489651\" style=\"fill: #dd8452; stroke: #333333\"/>\n     <use xlink:href=\"#mbc1b2af716\" x=\"216.044457\" y=\"181.183467\" style=\"fill: #dd8452; stroke: #333333\"/>\n     <use xlink:href=\"#mbc1b2af716\" x=\"236.930901\" y=\"189.225638\" style=\"fill: #dd8452; stroke: #333333\"/>\n     <use xlink:href=\"#mbc1b2af716\" x=\"121.777695\" y=\"76.687896\" style=\"fill: #dd8452; stroke: #333333\"/>\n     <use xlink:href=\"#mbc1b2af716\" x=\"221.823182\" y=\"193.572963\" style=\"fill: #dd8452; stroke: #333333\"/>\n     <use xlink:href=\"#mbc1b2af716\" x=\"234.346916\" y=\"197.169441\" style=\"fill: #dd8452; stroke: #333333\"/>\n     <use xlink:href=\"#mbc1b2af716\" x=\"115.188681\" y=\"57.694106\" style=\"fill: #dd8452; stroke: #333333\"/>\n     <use xlink:href=\"#mbc1b2af716\" x=\"138.745137\" y=\"70.702832\" style=\"fill: #dd8452; stroke: #333333\"/>\n     <use xlink:href=\"#mbc1b2af716\" x=\"226.958809\" y=\"194.187438\" style=\"fill: #dd8452; stroke: #333333\"/>\n     <use xlink:href=\"#mbc1b2af716\" x=\"132.550788\" y=\"73.12819\" style=\"fill: #dd8452; stroke: #333333\"/>\n     <use xlink:href=\"#mbc1b2af716\" x=\"233.801015\" y=\"184.360431\" style=\"fill: #dd8452; stroke: #333333\"/>\n     <use xlink:href=\"#mbc1b2af716\" x=\"236.055148\" y=\"194.234651\" style=\"fill: #dd8452; stroke: #333333\"/>\n     <use xlink:href=\"#mbc1b2af716\" x=\"104.865614\" y=\"71.490475\" style=\"fill: #dd8452; stroke: #333333\"/>\n     <use xlink:href=\"#mbc1b2af716\" x=\"114.622098\" y=\"63.724309\" style=\"fill: #dd8452; stroke: #333333\"/>\n     <use xlink:href=\"#mbc1b2af716\" x=\"111.463322\" y=\"92.836203\" style=\"fill: #dd8452; stroke: #333333\"/>\n     <use xlink:href=\"#mbc1b2af716\" x=\"116.869444\" y=\"82.323901\" style=\"fill: #dd8452; stroke: #333333\"/>\n     <use xlink:href=\"#mbc1b2af716\" x=\"242.208515\" y=\"205.504729\" style=\"fill: #dd8452; stroke: #333333\"/>\n     <use xlink:href=\"#mbc1b2af716\" x=\"237.215351\" y=\"194.58767\" style=\"fill: #dd8452; stroke: #333333\"/>\n     <use xlink:href=\"#mbc1b2af716\" x=\"245.062596\" y=\"199.995377\" style=\"fill: #dd8452; stroke: #333333\"/>\n     <use xlink:href=\"#mbc1b2af716\" x=\"231.20976\" y=\"185.573384\" style=\"fill: #dd8452; stroke: #333333\"/>\n     <use xlink:href=\"#mbc1b2af716\" x=\"231.296503\" y=\"188.037558\" style=\"fill: #dd8452; stroke: #333333\"/>\n     <use xlink:href=\"#mbc1b2af716\" x=\"135.349565\" y=\"69.255231\" style=\"fill: #dd8452; stroke: #333333\"/>\n     <use xlink:href=\"#mbc1b2af716\" x=\"230.026009\" y=\"193.959183\" style=\"fill: #dd8452; stroke: #333333\"/>\n     <use xlink:href=\"#mbc1b2af716\" x=\"122.693823\" y=\"74.638827\" style=\"fill: #dd8452; stroke: #333333\"/>\n     <use xlink:href=\"#mbc1b2af716\" x=\"251.634364\" y=\"187.241018\" style=\"fill: #dd8452; stroke: #333333\"/>\n     <use xlink:href=\"#mbc1b2af716\" x=\"232.641433\" y=\"173.20674\" style=\"fill: #dd8452; stroke: #333333\"/>\n     <use xlink:href=\"#mbc1b2af716\" x=\"122.207116\" y=\"89.839541\" style=\"fill: #dd8452; stroke: #333333\"/>\n     <use xlink:href=\"#mbc1b2af716\" x=\"139.897801\" y=\"77.066444\" style=\"fill: #dd8452; stroke: #333333\"/>\n     <use xlink:href=\"#mbc1b2af716\" x=\"118.794739\" y=\"73.873205\" style=\"fill: #dd8452; stroke: #333333\"/>\n     <use xlink:href=\"#mbc1b2af716\" x=\"125.304255\" y=\"85.752538\" style=\"fill: #dd8452; stroke: #333333\"/>\n     <use xlink:href=\"#mbc1b2af716\" x=\"98.499934\" y=\"80.529303\" style=\"fill: #dd8452; stroke: #333333\"/>\n     <use xlink:href=\"#mbc1b2af716\" x=\"240.910555\" y=\"186.428938\" style=\"fill: #dd8452; stroke: #333333\"/>\n     <use xlink:href=\"#mbc1b2af716\" x=\"218.316129\" y=\"189.644133\" style=\"fill: #dd8452; stroke: #333333\"/>\n     <use xlink:href=\"#mbc1b2af716\" x=\"222.613614\" y=\"183.810997\" style=\"fill: #dd8452; stroke: #333333\"/>\n     <use xlink:href=\"#mbc1b2af716\" x=\"226.574154\" y=\"206.044417\" style=\"fill: #dd8452; stroke: #333333\"/>\n     <use xlink:href=\"#mbc1b2af716\" x=\"131.895673\" y=\"82.792436\" style=\"fill: #dd8452; stroke: #333333\"/>\n     <use xlink:href=\"#mbc1b2af716\" x=\"120.420466\" y=\"67.730914\" style=\"fill: #dd8452; stroke: #333333\"/>\n     <use xlink:href=\"#mbc1b2af716\" x=\"229.17531\" y=\"174.770196\" style=\"fill: #dd8452; stroke: #333333\"/>\n     <use xlink:href=\"#mbc1b2af716\" x=\"115.659251\" y=\"72.700669\" style=\"fill: #dd8452; stroke: #333333\"/>\n     <use xlink:href=\"#mbc1b2af716\" x=\"143.610624\" y=\"79.769041\" style=\"fill: #dd8452; stroke: #333333\"/>\n     <use xlink:href=\"#mbc1b2af716\" x=\"221.480461\" y=\"181.08851\" style=\"fill: #dd8452; stroke: #333333\"/>\n     <use xlink:href=\"#mbc1b2af716\" x=\"111.126993\" y=\"70.123015\" style=\"fill: #dd8452; stroke: #333333\"/>\n     <use xlink:href=\"#mbc1b2af716\" x=\"222.928346\" y=\"188.5132\" style=\"fill: #dd8452; stroke: #333333\"/>\n     <use xlink:href=\"#mbc1b2af716\" x=\"236.35838\" y=\"182.334364\" style=\"fill: #dd8452; stroke: #333333\"/>\n     <use xlink:href=\"#mbc1b2af716\" x=\"129.536961\" y=\"63.640402\" style=\"fill: #dd8452; stroke: #333333\"/>\n     <use xlink:href=\"#mbc1b2af716\" x=\"244.695164\" y=\"186.082916\" style=\"fill: #dd8452; stroke: #333333\"/>\n     <use xlink:href=\"#mbc1b2af716\" x=\"116.716614\" y=\"66.138339\" style=\"fill: #dd8452; stroke: #333333\"/>\n     <use xlink:href=\"#mbc1b2af716\" x=\"239.630544\" y=\"179.438671\" style=\"fill: #dd8452; stroke: #333333\"/>\n     <use xlink:href=\"#mbc1b2af716\" x=\"108.755569\" y=\"71.435991\" style=\"fill: #dd8452; stroke: #333333\"/>\n     <use xlink:href=\"#mbc1b2af716\" x=\"119.943579\" y=\"63.783816\" style=\"fill: #dd8452; stroke: #333333\"/>\n     <use xlink:href=\"#mbc1b2af716\" x=\"251.378954\" y=\"181.961512\" style=\"fill: #dd8452; stroke: #333333\"/>\n     <use xlink:href=\"#mbc1b2af716\" x=\"130.252655\" y=\"84.373016\" style=\"fill: #dd8452; stroke: #333333\"/>\n     <use xlink:href=\"#mbc1b2af716\" x=\"116.454514\" y=\"85.39769\" style=\"fill: #dd8452; stroke: #333333\"/>\n     <use xlink:href=\"#mbc1b2af716\" x=\"137.084623\" y=\"79.996673\" style=\"fill: #dd8452; stroke: #333333\"/>\n     <use xlink:href=\"#mbc1b2af716\" x=\"238.353296\" y=\"201.832133\" style=\"fill: #dd8452; stroke: #333333\"/>\n     <use xlink:href=\"#mbc1b2af716\" x=\"245.768116\" y=\"187.658362\" style=\"fill: #dd8452; stroke: #333333\"/>\n     <use xlink:href=\"#mbc1b2af716\" x=\"215.4172\" y=\"197.505433\" style=\"fill: #dd8452; stroke: #333333\"/>\n     <use xlink:href=\"#mbc1b2af716\" x=\"218.350641\" y=\"176.1161\" style=\"fill: #dd8452; stroke: #333333\"/>\n     <use xlink:href=\"#mbc1b2af716\" x=\"136.271405\" y=\"71.009462\" style=\"fill: #dd8452; stroke: #333333\"/>\n     <use xlink:href=\"#mbc1b2af716\" x=\"238.096656\" y=\"168.081398\" style=\"fill: #dd8452; stroke: #333333\"/>\n     <use xlink:href=\"#mbc1b2af716\" x=\"137.131185\" y=\"67.182383\" style=\"fill: #dd8452; stroke: #333333\"/>\n     <use xlink:href=\"#mbc1b2af716\" x=\"218.349062\" y=\"174.007006\" style=\"fill: #dd8452; stroke: #333333\"/>\n     <use xlink:href=\"#mbc1b2af716\" x=\"223.817807\" y=\"179.406085\" style=\"fill: #dd8452; stroke: #333333\"/>\n     <use xlink:href=\"#mbc1b2af716\" x=\"238.900095\" y=\"177.546076\" style=\"fill: #dd8452; stroke: #333333\"/>\n     <use xlink:href=\"#mbc1b2af716\" x=\"157.844151\" y=\"60.818626\" style=\"fill: #dd8452; stroke: #333333\"/>\n     <use xlink:href=\"#mbc1b2af716\" x=\"117.919225\" y=\"73.801577\" style=\"fill: #dd8452; stroke: #333333\"/>\n     <use xlink:href=\"#mbc1b2af716\" x=\"248.429122\" y=\"180.940234\" style=\"fill: #dd8452; stroke: #333333\"/>\n     <use xlink:href=\"#mbc1b2af716\" x=\"142.46899\" y=\"94.510472\" style=\"fill: #dd8452; stroke: #333333\"/>\n     <use xlink:href=\"#mbc1b2af716\" x=\"227.747377\" y=\"185.357241\" style=\"fill: #dd8452; stroke: #333333\"/>\n     <use xlink:href=\"#mbc1b2af716\" x=\"116.708956\" y=\"85.341051\" style=\"fill: #dd8452; stroke: #333333\"/>\n     <use xlink:href=\"#mbc1b2af716\" x=\"125.774997\" y=\"66.978536\" style=\"fill: #dd8452; stroke: #333333\"/>\n     <use xlink:href=\"#mbc1b2af716\" x=\"230.327371\" y=\"196.161441\" style=\"fill: #dd8452; stroke: #333333\"/>\n     <use xlink:href=\"#mbc1b2af716\" x=\"137.384396\" y=\"87.024235\" style=\"fill: #dd8452; stroke: #333333\"/>\n     <use xlink:href=\"#mbc1b2af716\" x=\"141.702778\" y=\"94.510353\" style=\"fill: #dd8452; stroke: #333333\"/>\n     <use xlink:href=\"#mbc1b2af716\" x=\"236.848408\" y=\"198.54019\" style=\"fill: #dd8452; stroke: #333333\"/>\n     <use xlink:href=\"#mbc1b2af716\" x=\"107.022682\" y=\"77.395756\" style=\"fill: #dd8452; stroke: #333333\"/>\n     <use xlink:href=\"#mbc1b2af716\" x=\"232.355133\" y=\"179.521858\" style=\"fill: #dd8452; stroke: #333333\"/>\n     <use xlink:href=\"#mbc1b2af716\" x=\"132.675957\" y=\"82.308158\" style=\"fill: #dd8452; stroke: #333333\"/>\n     <use xlink:href=\"#mbc1b2af716\" x=\"125.500013\" y=\"81.101441\" style=\"fill: #dd8452; stroke: #333333\"/>\n     <use xlink:href=\"#mbc1b2af716\" x=\"244.749688\" y=\"170.366356\" style=\"fill: #dd8452; stroke: #333333\"/>\n     <use xlink:href=\"#mbc1b2af716\" x=\"238.734223\" y=\"214.467454\" style=\"fill: #dd8452; stroke: #333333\"/>\n    </g>\n   </g>\n   <g id=\"patch_3\">\n    <path d=\"M 66.023594 244.078125 \nL 66.023594 22.318125 \n\" style=\"fill: none; stroke: #ffffff; stroke-width: 1.25; stroke-linejoin: miter; stroke-linecap: square\"/>\n   </g>\n   <g id=\"patch_4\">\n    <path d=\"M 287.783594 244.078125 \nL 287.783594 22.318125 \n\" style=\"fill: none; stroke: #ffffff; stroke-width: 1.25; stroke-linejoin: miter; stroke-linecap: square\"/>\n   </g>\n   <g id=\"patch_5\">\n    <path d=\"M 66.023594 244.078125 \nL 287.783594 244.078125 \n\" style=\"fill: none; stroke: #ffffff; stroke-width: 1.25; stroke-linejoin: miter; stroke-linecap: square\"/>\n   </g>\n   <g id=\"patch_6\">\n    <path d=\"M 66.023594 22.318125 \nL 287.783594 22.318125 \n\" style=\"fill: none; stroke: #ffffff; stroke-width: 1.25; stroke-linejoin: miter; stroke-linecap: square\"/>\n   </g>\n   <g id=\"text_17\">\n    <!-- Dataset samples -->\n    <g style=\"fill: #262626\" transform=\"translate(126.560781 16.318125) scale(0.12 -0.12)\">\n     <defs>\n      <path id=\"DejaVuSans-44\" d=\"M 1259 4147 \nL 1259 519 \nL 2022 519 \nQ 2988 519 3436 956 \nQ 3884 1394 3884 2338 \nQ 3884 3275 3436 3711 \nQ 2988 4147 2022 4147 \nL 1259 4147 \nz\nM 628 4666 \nL 1925 4666 \nQ 3281 4666 3915 4102 \nQ 4550 3538 4550 2338 \nQ 4550 1131 3912 565 \nQ 3275 0 1925 0 \nL 628 0 \nL 628 4666 \nz\n\" transform=\"scale(0.015625)\"/>\n      <path id=\"DejaVuSans-61\" d=\"M 2194 1759 \nQ 1497 1759 1228 1600 \nQ 959 1441 959 1056 \nQ 959 750 1161 570 \nQ 1363 391 1709 391 \nQ 2188 391 2477 730 \nQ 2766 1069 2766 1631 \nL 2766 1759 \nL 2194 1759 \nz\nM 3341 1997 \nL 3341 0 \nL 2766 0 \nL 2766 531 \nQ 2569 213 2275 61 \nQ 1981 -91 1556 -91 \nQ 1019 -91 701 211 \nQ 384 513 384 1019 \nQ 384 1609 779 1909 \nQ 1175 2209 1959 2209 \nL 2766 2209 \nL 2766 2266 \nQ 2766 2663 2505 2880 \nQ 2244 3097 1772 3097 \nQ 1472 3097 1187 3025 \nQ 903 2953 641 2809 \nL 641 3341 \nQ 956 3463 1253 3523 \nQ 1550 3584 1831 3584 \nQ 2591 3584 2966 3190 \nQ 3341 2797 3341 1997 \nz\n\" transform=\"scale(0.015625)\"/>\n      <path id=\"DejaVuSans-74\" d=\"M 1172 4494 \nL 1172 3500 \nL 2356 3500 \nL 2356 3053 \nL 1172 3053 \nL 1172 1153 \nQ 1172 725 1289 603 \nQ 1406 481 1766 481 \nL 2356 481 \nL 2356 0 \nL 1766 0 \nQ 1100 0 847 248 \nQ 594 497 594 1153 \nL 594 3053 \nL 172 3053 \nL 172 3500 \nL 594 3500 \nL 594 4494 \nL 1172 4494 \nz\n\" transform=\"scale(0.015625)\"/>\n      <path id=\"DejaVuSans-73\" d=\"M 2834 3397 \nL 2834 2853 \nQ 2591 2978 2328 3040 \nQ 2066 3103 1784 3103 \nQ 1356 3103 1142 2972 \nQ 928 2841 928 2578 \nQ 928 2378 1081 2264 \nQ 1234 2150 1697 2047 \nL 1894 2003 \nQ 2506 1872 2764 1633 \nQ 3022 1394 3022 966 \nQ 3022 478 2636 193 \nQ 2250 -91 1575 -91 \nQ 1294 -91 989 -36 \nQ 684 19 347 128 \nL 347 722 \nQ 666 556 975 473 \nQ 1284 391 1588 391 \nQ 1994 391 2212 530 \nQ 2431 669 2431 922 \nQ 2431 1156 2273 1281 \nQ 2116 1406 1581 1522 \nL 1381 1569 \nQ 847 1681 609 1914 \nQ 372 2147 372 2553 \nQ 372 3047 722 3315 \nQ 1072 3584 1716 3584 \nQ 2034 3584 2315 3537 \nQ 2597 3491 2834 3397 \nz\n\" transform=\"scale(0.015625)\"/>\n      <path id=\"DejaVuSans-65\" d=\"M 3597 1894 \nL 3597 1613 \nL 953 1613 \nQ 991 1019 1311 708 \nQ 1631 397 2203 397 \nQ 2534 397 2845 478 \nQ 3156 559 3463 722 \nL 3463 178 \nQ 3153 47 2828 -22 \nQ 2503 -91 2169 -91 \nQ 1331 -91 842 396 \nQ 353 884 353 1716 \nQ 353 2575 817 3079 \nQ 1281 3584 2069 3584 \nQ 2775 3584 3186 3129 \nQ 3597 2675 3597 1894 \nz\nM 3022 2063 \nQ 3016 2534 2758 2815 \nQ 2500 3097 2075 3097 \nQ 1594 3097 1305 2825 \nQ 1016 2553 972 2059 \nL 3022 2063 \nz\n\" transform=\"scale(0.015625)\"/>\n      <path id=\"DejaVuSans-20\" transform=\"scale(0.015625)\"/>\n      <path id=\"DejaVuSans-6d\" d=\"M 3328 2828 \nQ 3544 3216 3844 3400 \nQ 4144 3584 4550 3584 \nQ 5097 3584 5394 3201 \nQ 5691 2819 5691 2113 \nL 5691 0 \nL 5113 0 \nL 5113 2094 \nQ 5113 2597 4934 2840 \nQ 4756 3084 4391 3084 \nQ 3944 3084 3684 2787 \nQ 3425 2491 3425 1978 \nL 3425 0 \nL 2847 0 \nL 2847 2094 \nQ 2847 2600 2669 2842 \nQ 2491 3084 2119 3084 \nQ 1678 3084 1418 2786 \nQ 1159 2488 1159 1978 \nL 1159 0 \nL 581 0 \nL 581 3500 \nL 1159 3500 \nL 1159 2956 \nQ 1356 3278 1631 3431 \nQ 1906 3584 2284 3584 \nQ 2666 3584 2933 3390 \nQ 3200 3197 3328 2828 \nz\n\" transform=\"scale(0.015625)\"/>\n      <path id=\"DejaVuSans-70\" d=\"M 1159 525 \nL 1159 -1331 \nL 581 -1331 \nL 581 3500 \nL 1159 3500 \nL 1159 2969 \nQ 1341 3281 1617 3432 \nQ 1894 3584 2278 3584 \nQ 2916 3584 3314 3078 \nQ 3713 2572 3713 1747 \nQ 3713 922 3314 415 \nQ 2916 -91 2278 -91 \nQ 1894 -91 1617 61 \nQ 1341 213 1159 525 \nz\nM 3116 1747 \nQ 3116 2381 2855 2742 \nQ 2594 3103 2138 3103 \nQ 1681 3103 1420 2742 \nQ 1159 2381 1159 1747 \nQ 1159 1113 1420 752 \nQ 1681 391 2138 391 \nQ 2594 391 2855 752 \nQ 3116 1113 3116 1747 \nz\n\" transform=\"scale(0.015625)\"/>\n      <path id=\"DejaVuSans-6c\" d=\"M 603 4863 \nL 1178 4863 \nL 1178 0 \nL 603 0 \nL 603 4863 \nz\n\" transform=\"scale(0.015625)\"/>\n     </defs>\n     <use xlink:href=\"#DejaVuSans-44\"/>\n     <use xlink:href=\"#DejaVuSans-61\" x=\"77.001953\"/>\n     <use xlink:href=\"#DejaVuSans-74\" x=\"138.28125\"/>\n     <use xlink:href=\"#DejaVuSans-61\" x=\"177.490234\"/>\n     <use xlink:href=\"#DejaVuSans-73\" x=\"238.769531\"/>\n     <use xlink:href=\"#DejaVuSans-65\" x=\"290.869141\"/>\n     <use xlink:href=\"#DejaVuSans-74\" x=\"352.392578\"/>\n     <use xlink:href=\"#DejaVuSans-20\" x=\"391.601562\"/>\n     <use xlink:href=\"#DejaVuSans-73\" x=\"423.388672\"/>\n     <use xlink:href=\"#DejaVuSans-61\" x=\"475.488281\"/>\n     <use xlink:href=\"#DejaVuSans-6d\" x=\"536.767578\"/>\n     <use xlink:href=\"#DejaVuSans-70\" x=\"634.179688\"/>\n     <use xlink:href=\"#DejaVuSans-6c\" x=\"697.65625\"/>\n     <use xlink:href=\"#DejaVuSans-65\" x=\"725.439453\"/>\n     <use xlink:href=\"#DejaVuSans-73\" x=\"786.962891\"/>\n    </g>\n   </g>\n   <g id=\"legend_1\">\n    <g id=\"patch_7\">\n     <path d=\"M 205.450312 150.994063 \nL 280.083594 150.994063 \nQ 282.283594 150.994063 282.283594 148.794063 \nL 282.283594 117.602188 \nQ 282.283594 115.402188 280.083594 115.402188 \nL 205.450312 115.402188 \nQ 203.250313 115.402188 203.250313 117.602188 \nL 203.250313 148.794063 \nQ 203.250313 150.994063 205.450312 150.994063 \nz\n\" style=\"fill: #eaeaf2; opacity: 0.8; stroke: #cccccc; stroke-linejoin: miter\"/>\n    </g>\n    <g id=\"PathCollection_3\">\n     <g>\n      <use xlink:href=\"#m7659104a4a\" x=\"218.650313\" y=\"125.272969\" style=\"fill: #4c72b0; stroke: #333333\"/>\n     </g>\n    </g>\n    <g id=\"text_18\">\n     <!-- Class 0 -->\n     <g style=\"fill: #262626\" transform=\"translate(238.450313 128.160469) scale(0.11 -0.11)\">\n      <defs>\n       <path id=\"DejaVuSans-43\" d=\"M 4122 4306 \nL 4122 3641 \nQ 3803 3938 3442 4084 \nQ 3081 4231 2675 4231 \nQ 1875 4231 1450 3742 \nQ 1025 3253 1025 2328 \nQ 1025 1406 1450 917 \nQ 1875 428 2675 428 \nQ 3081 428 3442 575 \nQ 3803 722 4122 1019 \nL 4122 359 \nQ 3791 134 3420 21 \nQ 3050 -91 2638 -91 \nQ 1578 -91 968 557 \nQ 359 1206 359 2328 \nQ 359 3453 968 4101 \nQ 1578 4750 2638 4750 \nQ 3056 4750 3426 4639 \nQ 3797 4528 4122 4306 \nz\n\" transform=\"scale(0.015625)\"/>\n      </defs>\n      <use xlink:href=\"#DejaVuSans-43\"/>\n      <use xlink:href=\"#DejaVuSans-6c\" x=\"69.824219\"/>\n      <use xlink:href=\"#DejaVuSans-61\" x=\"97.607422\"/>\n      <use xlink:href=\"#DejaVuSans-73\" x=\"158.886719\"/>\n      <use xlink:href=\"#DejaVuSans-73\" x=\"210.986328\"/>\n      <use xlink:href=\"#DejaVuSans-20\" x=\"263.085938\"/>\n      <use xlink:href=\"#DejaVuSans-30\" x=\"294.873047\"/>\n     </g>\n    </g>\n    <g id=\"PathCollection_4\">\n     <g>\n      <use xlink:href=\"#mbc1b2af716\" x=\"218.650313\" y=\"141.418906\" style=\"fill: #dd8452; stroke: #333333\"/>\n     </g>\n    </g>\n    <g id=\"text_19\">\n     <!-- Class 1 -->\n     <g style=\"fill: #262626\" transform=\"translate(238.450313 144.306406) scale(0.11 -0.11)\">\n      <use xlink:href=\"#DejaVuSans-43\"/>\n      <use xlink:href=\"#DejaVuSans-6c\" x=\"69.824219\"/>\n      <use xlink:href=\"#DejaVuSans-61\" x=\"97.607422\"/>\n      <use xlink:href=\"#DejaVuSans-73\" x=\"158.886719\"/>\n      <use xlink:href=\"#DejaVuSans-73\" x=\"210.986328\"/>\n      <use xlink:href=\"#DejaVuSans-20\" x=\"263.085938\"/>\n      <use xlink:href=\"#DejaVuSans-31\" x=\"294.873047\"/>\n     </g>\n    </g>\n   </g>\n  </g>\n </g>\n <defs>\n  <clipPath id=\"pd65fde988d\">\n   <rect x=\"66.023594\" y=\"22.318125\" width=\"221.76\" height=\"221.76\"/>\n  </clipPath>\n </defs>\n</svg>\n",
            "application/pdf": "[encoded data removed]"
          },
          "metadata": {}
        }
      ],
      "source": [
        "@torch.no_grad() # Decorator, same effect as \"with torch.no_grad(): ...\" over the whole function.\n",
        "def visualize_classification(model, data, label):\n",
        "    if isinstance(data, torch.Tensor):\n",
        "        data = data.cpu().numpy()\n",
        "    if isinstance(label, torch.Tensor):\n",
        "        label = label.cpu().numpy()\n",
        "    data_0 = data[label == 0]\n",
        "    data_1 = data[label == 1]\n",
        "\n",
        "    plt.figure(figsize=(4,4))\n",
        "    plt.scatter(data_0[:,0], data_0[:,1], edgecolor=\"#333\", label=\"Class 0\")\n",
        "    plt.scatter(data_1[:,0], data_1[:,1], edgecolor=\"#333\", label=\"Class 1\")\n",
        "    plt.title(\"Dataset samples\")\n",
        "    plt.ylabel(r\"$x_2$\")\n",
        "    plt.xlabel(r\"$x_1$\")\n",
        "    plt.legend()\n",
        "\n",
        "    # Let's make use of a lot of operations we have learned above\n",
        "    model.to(device)\n",
        "    c0 = torch.Tensor(to_rgba(\"C0\")).to(device)\n",
        "    c1 = torch.Tensor(to_rgba(\"C1\")).to(device)\n",
        "    x1 = torch.arange(-0.5, 1.5, step=0.01, device=device)\n",
        "    x2 = torch.arange(-0.5, 1.5, step=0.01, device=device)\n",
        "    xx1, xx2 = torch.meshgrid(x1, x2) # Meshgrid function as in numpy\n",
        "    model_inputs = torch.stack([xx1, xx2], dim=-1)\n",
        "    preds = model(model_inputs)\n",
        "    preds = torch.sigmoid(preds)\n",
        "    output_image = preds * c0[None,None] + (1 - preds) * c1[None,None] # Specifying \"None\" in a dimension creates a new one\n",
        "    output_image = output_image.cpu().numpy() # Convert to numpy array. This only works for tensors on CPU, hence first push to CPU\n",
        "    plt.imshow(output_image, origin='upper', extent=(-0.5, 1.5, -0.5, 1.5))\n",
        "    plt.grid(False)\n",
        "\n",
        "visualize_classification(model, dataset.data, dataset.label)\n",
        "plt.show()"
      ]
    },
    {
      "cell_type": "markdown",
      "metadata": {
        "id": "HTZ-R-K33e1i"
      },
      "source": [
        "The decision boundaries might not look exactly as in the figure in the preamble of this section which can be caused by running it on CPU or a different GPU architecture. Nevertheless, the result on the accuracy metric should be the approximately the same."
      ]
    },
    {
      "cell_type": "markdown",
      "metadata": {
        "id": "W9WxFRcz3e1i"
      },
      "source": [
        "## Additional features we didn't get to discuss yet\n",
        "\n",
        "Finally, you are all set to start with your own PyTorch project! In summary, we have looked at how we can build neural networks in PyTorch, and train and test them on data. However, there is still much more to PyTorch we haven't discussed yet. In the comming series of Jupyter notebooks, we will discover more and more functionalities of PyTorch, so that you also get familiar to PyTorch concepts beyond the basics. If you are already interested in learning more of PyTorch, we recommend the official [tutorial website](https://pytorch.org/tutorials/) that contains many tutorials on various topics. Especially logging with Tensorboard ([tutorial here](https://pytorch.org/tutorials/intermediate/tensorboard_tutorial.html)) is a good practice that we will explore from Tutorial 5 on."
      ]
    }
  ],
  "metadata": {
    "kernelspec": {
      "display_name": "Python 3",
      "name": "python3"
    },
    "language_info": {
      "codemirror_mode": {
        "name": "ipython",
        "version": 3
      },
      "file_extension": ".py",
      "mimetype": "text/x-python",
      "name": "python",
      "nbconvert_exporter": "python",
      "pygments_lexer": "ipython3",
      "version": "3.11.4"
    },
    "colab": {
      "provenance": [],
      "gpuType": "T4"
    },
    "accelerator": "GPU",
    "widgets": {
      "application/vnd.jupyter.widget-state+json": {
        "f0a5fcf76f11477885b9ab995f84b56f": {
          "model_module": "@jupyter-widgets/controls",
          "model_name": "HBoxModel",
          "model_module_version": "1.5.0",
          "state": {
            "_dom_classes": [],
            "_model_module": "@jupyter-widgets/controls",
            "_model_module_version": "1.5.0",
            "_model_name": "HBoxModel",
            "_view_count": null,
            "_view_module": "@jupyter-widgets/controls",
            "_view_module_version": "1.5.0",
            "_view_name": "HBoxView",
            "box_style": "",
            "children": [
              "IPY_MODEL_2d970e63607d427dad061a39677ea76a",
              "IPY_MODEL_24575a945bdf4bf9bec7084afaa1a963",
              "IPY_MODEL_2f893fb0e9134971b25a8d96664ba98c"
            ],
            "layout": "IPY_MODEL_821af48aff5c434c96af79372358a0f3"
          }
        },
        "2d970e63607d427dad061a39677ea76a": {
          "model_module": "@jupyter-widgets/controls",
          "model_name": "HTMLModel",
          "model_module_version": "1.5.0",
          "state": {
            "_dom_classes": [],
            "_model_module": "@jupyter-widgets/controls",
            "_model_module_version": "1.5.0",
            "_model_name": "HTMLModel",
            "_view_count": null,
            "_view_module": "@jupyter-widgets/controls",
            "_view_module_version": "1.5.0",
            "_view_name": "HTMLView",
            "description": "",
            "description_tooltip": null,
            "layout": "IPY_MODEL_3e1faf98ffa94a09855bcb18eed50ad5",
            "placeholder": "​",
            "style": "IPY_MODEL_10d270252c7e40168600e2e694f45a02",
            "value": "100%"
          }
        },
        "24575a945bdf4bf9bec7084afaa1a963": {
          "model_module": "@jupyter-widgets/controls",
          "model_name": "FloatProgressModel",
          "model_module_version": "1.5.0",
          "state": {
            "_dom_classes": [],
            "_model_module": "@jupyter-widgets/controls",
            "_model_module_version": "1.5.0",
            "_model_name": "FloatProgressModel",
            "_view_count": null,
            "_view_module": "@jupyter-widgets/controls",
            "_view_module_version": "1.5.0",
            "_view_name": "ProgressView",
            "bar_style": "success",
            "description": "",
            "description_tooltip": null,
            "layout": "IPY_MODEL_7fad962f7aed4899a3785c7bd9c7b8db",
            "max": 100,
            "min": 0,
            "orientation": "horizontal",
            "style": "IPY_MODEL_b8837040abd5401eb4ac0b60cfad9e73",
            "value": 100
          }
        },
        "2f893fb0e9134971b25a8d96664ba98c": {
          "model_module": "@jupyter-widgets/controls",
          "model_name": "HTMLModel",
          "model_module_version": "1.5.0",
          "state": {
            "_dom_classes": [],
            "_model_module": "@jupyter-widgets/controls",
            "_model_module_version": "1.5.0",
            "_model_name": "HTMLModel",
            "_view_count": null,
            "_view_module": "@jupyter-widgets/controls",
            "_view_module_version": "1.5.0",
            "_view_name": "HTMLView",
            "description": "",
            "description_tooltip": null,
            "layout": "IPY_MODEL_bf3fd178ef3843c58d5d48b363fe741f",
            "placeholder": "​",
            "style": "IPY_MODEL_d379f0fc36aa47889f1fe73b060d9375",
            "value": " 100/100 [00:04&lt;00:00, 60.64it/s]"
          }
        },
        "821af48aff5c434c96af79372358a0f3": {
          "model_module": "@jupyter-widgets/base",
          "model_name": "LayoutModel",
          "model_module_version": "1.2.0",
          "state": {
            "_model_module": "@jupyter-widgets/base",
            "_model_module_version": "1.2.0",
            "_model_name": "LayoutModel",
            "_view_count": null,
            "_view_module": "@jupyter-widgets/base",
            "_view_module_version": "1.2.0",
            "_view_name": "LayoutView",
            "align_content": null,
            "align_items": null,
            "align_self": null,
            "border": null,
            "bottom": null,
            "display": null,
            "flex": null,
            "flex_flow": null,
            "grid_area": null,
            "grid_auto_columns": null,
            "grid_auto_flow": null,
            "grid_auto_rows": null,
            "grid_column": null,
            "grid_gap": null,
            "grid_row": null,
            "grid_template_areas": null,
            "grid_template_columns": null,
            "grid_template_rows": null,
            "height": null,
            "justify_content": null,
            "justify_items": null,
            "left": null,
            "margin": null,
            "max_height": null,
            "max_width": null,
            "min_height": null,
            "min_width": null,
            "object_fit": null,
            "object_position": null,
            "order": null,
            "overflow": null,
            "overflow_x": null,
            "overflow_y": null,
            "padding": null,
            "right": null,
            "top": null,
            "visibility": null,
            "width": null
          }
        },
        "3e1faf98ffa94a09855bcb18eed50ad5": {
          "model_module": "@jupyter-widgets/base",
          "model_name": "LayoutModel",
          "model_module_version": "1.2.0",
          "state": {
            "_model_module": "@jupyter-widgets/base",
            "_model_module_version": "1.2.0",
            "_model_name": "LayoutModel",
            "_view_count": null,
            "_view_module": "@jupyter-widgets/base",
            "_view_module_version": "1.2.0",
            "_view_name": "LayoutView",
            "align_content": null,
            "align_items": null,
            "align_self": null,
            "border": null,
            "bottom": null,
            "display": null,
            "flex": null,
            "flex_flow": null,
            "grid_area": null,
            "grid_auto_columns": null,
            "grid_auto_flow": null,
            "grid_auto_rows": null,
            "grid_column": null,
            "grid_gap": null,
            "grid_row": null,
            "grid_template_areas": null,
            "grid_template_columns": null,
            "grid_template_rows": null,
            "height": null,
            "justify_content": null,
            "justify_items": null,
            "left": null,
            "margin": null,
            "max_height": null,
            "max_width": null,
            "min_height": null,
            "min_width": null,
            "object_fit": null,
            "object_position": null,
            "order": null,
            "overflow": null,
            "overflow_x": null,
            "overflow_y": null,
            "padding": null,
            "right": null,
            "top": null,
            "visibility": null,
            "width": null
          }
        },
        "10d270252c7e40168600e2e694f45a02": {
          "model_module": "@jupyter-widgets/controls",
          "model_name": "DescriptionStyleModel",
          "model_module_version": "1.5.0",
          "state": {
            "_model_module": "@jupyter-widgets/controls",
            "_model_module_version": "1.5.0",
            "_model_name": "DescriptionStyleModel",
            "_view_count": null,
            "_view_module": "@jupyter-widgets/base",
            "_view_module_version": "1.2.0",
            "_view_name": "StyleView",
            "description_width": ""
          }
        },
        "7fad962f7aed4899a3785c7bd9c7b8db": {
          "model_module": "@jupyter-widgets/base",
          "model_name": "LayoutModel",
          "model_module_version": "1.2.0",
          "state": {
            "_model_module": "@jupyter-widgets/base",
            "_model_module_version": "1.2.0",
            "_model_name": "LayoutModel",
            "_view_count": null,
            "_view_module": "@jupyter-widgets/base",
            "_view_module_version": "1.2.0",
            "_view_name": "LayoutView",
            "align_content": null,
            "align_items": null,
            "align_self": null,
            "border": null,
            "bottom": null,
            "display": null,
            "flex": null,
            "flex_flow": null,
            "grid_area": null,
            "grid_auto_columns": null,
            "grid_auto_flow": null,
            "grid_auto_rows": null,
            "grid_column": null,
            "grid_gap": null,
            "grid_row": null,
            "grid_template_areas": null,
            "grid_template_columns": null,
            "grid_template_rows": null,
            "height": null,
            "justify_content": null,
            "justify_items": null,
            "left": null,
            "margin": null,
            "max_height": null,
            "max_width": null,
            "min_height": null,
            "min_width": null,
            "object_fit": null,
            "object_position": null,
            "order": null,
            "overflow": null,
            "overflow_x": null,
            "overflow_y": null,
            "padding": null,
            "right": null,
            "top": null,
            "visibility": null,
            "width": null
          }
        },
        "b8837040abd5401eb4ac0b60cfad9e73": {
          "model_module": "@jupyter-widgets/controls",
          "model_name": "ProgressStyleModel",
          "model_module_version": "1.5.0",
          "state": {
            "_model_module": "@jupyter-widgets/controls",
            "_model_module_version": "1.5.0",
            "_model_name": "ProgressStyleModel",
            "_view_count": null,
            "_view_module": "@jupyter-widgets/base",
            "_view_module_version": "1.2.0",
            "_view_name": "StyleView",
            "bar_color": null,
            "description_width": ""
          }
        },
        "bf3fd178ef3843c58d5d48b363fe741f": {
          "model_module": "@jupyter-widgets/base",
          "model_name": "LayoutModel",
          "model_module_version": "1.2.0",
          "state": {
            "_model_module": "@jupyter-widgets/base",
            "_model_module_version": "1.2.0",
            "_model_name": "LayoutModel",
            "_view_count": null,
            "_view_module": "@jupyter-widgets/base",
            "_view_module_version": "1.2.0",
            "_view_name": "LayoutView",
            "align_content": null,
            "align_items": null,
            "align_self": null,
            "border": null,
            "bottom": null,
            "display": null,
            "flex": null,
            "flex_flow": null,
            "grid_area": null,
            "grid_auto_columns": null,
            "grid_auto_flow": null,
            "grid_auto_rows": null,
            "grid_column": null,
            "grid_gap": null,
            "grid_row": null,
            "grid_template_areas": null,
            "grid_template_columns": null,
            "grid_template_rows": null,
            "height": null,
            "justify_content": null,
            "justify_items": null,
            "left": null,
            "margin": null,
            "max_height": null,
            "max_width": null,
            "min_height": null,
            "min_width": null,
            "object_fit": null,
            "object_position": null,
            "order": null,
            "overflow": null,
            "overflow_x": null,
            "overflow_y": null,
            "padding": null,
            "right": null,
            "top": null,
            "visibility": null,
            "width": null
          }
        },
        "d379f0fc36aa47889f1fe73b060d9375": {
          "model_module": "@jupyter-widgets/controls",
          "model_name": "DescriptionStyleModel",
          "model_module_version": "1.5.0",
          "state": {
            "_model_module": "@jupyter-widgets/controls",
            "_model_module_version": "1.5.0",
            "_model_name": "DescriptionStyleModel",
            "_view_count": null,
            "_view_module": "@jupyter-widgets/base",
            "_view_module_version": "1.2.0",
            "_view_name": "StyleView",
            "description_width": ""
          }
        }
      }
    }
  },
  "nbformat": 4,
  "nbformat_minor": 0
}